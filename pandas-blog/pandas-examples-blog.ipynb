{
 "metadata": {
  "language_info": {
   "codemirror_mode": {
    "name": "ipython",
    "version": 3
   },
   "file_extension": ".py",
   "mimetype": "text/x-python",
   "name": "python",
   "nbconvert_exporter": "python",
   "pygments_lexer": "ipython3",
   "version": "3.8.2"
  },
  "orig_nbformat": 2,
  "kernelspec": {
   "name": "python3",
   "display_name": "Python 3.8.2 64-bit ('pandas-blog-vhxeqrbo-py3.8': poetry)"
  },
  "metadata": {
   "interpreter": {
    "hash": "e940fdefc6756e713d6da5fa1904fa2199e5d2e969d337cf08bc892ffff24271"
   }
  },
  "interpreter": {
   "hash": "e2d203c7683bfe83d35f3d4673ae28a0bda89547fa625cc8bec5bb2236cdcf1c"
  }
 },
 "nbformat": 4,
 "nbformat_minor": 2,
 "cells": [
  {
   "cell_type": "code",
   "execution_count": 1,
   "metadata": {},
   "outputs": [
    {
     "output_type": "stream",
     "name": "stderr",
     "text": [
      "/home/drx/.cache/pypoetry/virtualenvs/pandas-blog-vhxeqrbo-py3.8/lib/python3.8/site-packages/pandas/compat/__init__.py:97: UserWarning: Could not import the lzma module. Your installed Python is incomplete. Attempting to use lzma compression will result in a RuntimeError.\n  warnings.warn(msg)\n"
     ]
    }
   ],
   "source": [
    "import numpy as np\n",
    "import pandas as pd"
   ]
  },
  {
   "source": [
    "# What is Pandas?\n",
    "## A library / framework\n",
    "- Data models\n",
    "    - indexing\n",
    "    - grouping\n",
    "- Statistics\n",
    "- Visualizations\n",
    "\n",
    "## Why should you care?\n",
    "-  Excel\n",
    "- Exploratory Data Analysis (EDA)\n",
    "- Time Series\n",
    "- Batfish"
   ],
   "cell_type": "markdown",
   "metadata": {}
  },
  {
   "cell_type": "code",
   "execution_count": 2,
   "metadata": {},
   "outputs": [
    {
     "output_type": "execute_result",
     "data": {
      "text/plain": [
       "           No.                        Time             Source    Destination  \\\n",
       "0            1  2018-10-25 01:46:22.933899      192.168.2.108    52.24.43.67   \n",
       "1            2  2018-10-25 01:46:22.933904      192.168.2.108   52.25.66.250   \n",
       "2            3  2018-10-25 01:46:22.934426        192.168.2.1  192.168.2.108   \n",
       "3            4  2018-10-25 01:46:22.934636        192.168.2.1  192.168.2.108   \n",
       "4            5  2018-10-25 01:46:23.291054  48:02:2e:01:83:15      Broadcast   \n",
       "...        ...                         ...                ...            ...   \n",
       "764132  764133  2018-10-25 03:45:19.837515  Shenzhen_98:ee:fd      Broadcast   \n",
       "764133  764134  2018-10-25 03:45:19.839396  Shenzhen_98:ee:fd      Broadcast   \n",
       "764134  764135  2018-10-25 03:45:19.840611  Shenzhen_98:ee:fd      Broadcast   \n",
       "764135  764136  2018-10-25 03:45:19.842369  Shenzhen_98:ee:fd      Broadcast   \n",
       "764136  764137  2018-10-25 03:45:19.842464      192.168.2.115    192.168.2.1   \n",
       "\n",
       "       Protocol  Length                                               Info  \\\n",
       "0           TCP      60   21074  >  80 [SYN] Seq=0 Win=5840 Len=0 MSS=1460   \n",
       "1           TCP      60  20532  >  8280 [SYN] Seq=0 Win=5840 Len=0 MSS=...   \n",
       "2          ICMP      86      Destination unreachable (Network unreachable)   \n",
       "3          ICMP      86      Destination unreachable (Network unreachable)   \n",
       "4           ARP      60          Who has 192.168.2.106? Tell 192.168.2.109   \n",
       "...         ...     ...                                                ...   \n",
       "764132      ARP      60          Who has 192.168.2.165? Tell 192.168.2.110   \n",
       "764133      ARP      60          Who has 192.168.2.166? Tell 192.168.2.110   \n",
       "764134      ARP      60          Who has 192.168.2.167? Tell 192.168.2.110   \n",
       "764135      ARP      60          Who has 192.168.2.168? Tell 192.168.2.110   \n",
       "764136      DNS     119  Standard query 0x1e08 AAAA north-america.pool....   \n",
       "\n",
       "        Source Port  Dest Port  \n",
       "0           21074.0       80.0  \n",
       "1           20532.0     8280.0  \n",
       "2           21074.0       80.0  \n",
       "3           20532.0     8280.0  \n",
       "4               NaN        NaN  \n",
       "...             ...        ...  \n",
       "764132          NaN        NaN  \n",
       "764133          NaN        NaN  \n",
       "764134          NaN        NaN  \n",
       "764135          NaN        NaN  \n",
       "764136       3570.0       53.0  \n",
       "\n",
       "[764137 rows x 9 columns]"
      ],
      "text/html": "<div>\n<style scoped>\n    .dataframe tbody tr th:only-of-type {\n        vertical-align: middle;\n    }\n\n    .dataframe tbody tr th {\n        vertical-align: top;\n    }\n\n    .dataframe thead th {\n        text-align: right;\n    }\n</style>\n<table border=\"1\" class=\"dataframe\">\n  <thead>\n    <tr style=\"text-align: right;\">\n      <th></th>\n      <th>No.</th>\n      <th>Time</th>\n      <th>Source</th>\n      <th>Destination</th>\n      <th>Protocol</th>\n      <th>Length</th>\n      <th>Info</th>\n      <th>Source Port</th>\n      <th>Dest Port</th>\n    </tr>\n  </thead>\n  <tbody>\n    <tr>\n      <th>0</th>\n      <td>1</td>\n      <td>2018-10-25 01:46:22.933899</td>\n      <td>192.168.2.108</td>\n      <td>52.24.43.67</td>\n      <td>TCP</td>\n      <td>60</td>\n      <td>21074  &gt;  80 [SYN] Seq=0 Win=5840 Len=0 MSS=1460</td>\n      <td>21074.0</td>\n      <td>80.0</td>\n    </tr>\n    <tr>\n      <th>1</th>\n      <td>2</td>\n      <td>2018-10-25 01:46:22.933904</td>\n      <td>192.168.2.108</td>\n      <td>52.25.66.250</td>\n      <td>TCP</td>\n      <td>60</td>\n      <td>20532  &gt;  8280 [SYN] Seq=0 Win=5840 Len=0 MSS=...</td>\n      <td>20532.0</td>\n      <td>8280.0</td>\n    </tr>\n    <tr>\n      <th>2</th>\n      <td>3</td>\n      <td>2018-10-25 01:46:22.934426</td>\n      <td>192.168.2.1</td>\n      <td>192.168.2.108</td>\n      <td>ICMP</td>\n      <td>86</td>\n      <td>Destination unreachable (Network unreachable)</td>\n      <td>21074.0</td>\n      <td>80.0</td>\n    </tr>\n    <tr>\n      <th>3</th>\n      <td>4</td>\n      <td>2018-10-25 01:46:22.934636</td>\n      <td>192.168.2.1</td>\n      <td>192.168.2.108</td>\n      <td>ICMP</td>\n      <td>86</td>\n      <td>Destination unreachable (Network unreachable)</td>\n      <td>20532.0</td>\n      <td>8280.0</td>\n    </tr>\n    <tr>\n      <th>4</th>\n      <td>5</td>\n      <td>2018-10-25 01:46:23.291054</td>\n      <td>48:02:2e:01:83:15</td>\n      <td>Broadcast</td>\n      <td>ARP</td>\n      <td>60</td>\n      <td>Who has 192.168.2.106? Tell 192.168.2.109</td>\n      <td>NaN</td>\n      <td>NaN</td>\n    </tr>\n    <tr>\n      <th>...</th>\n      <td>...</td>\n      <td>...</td>\n      <td>...</td>\n      <td>...</td>\n      <td>...</td>\n      <td>...</td>\n      <td>...</td>\n      <td>...</td>\n      <td>...</td>\n    </tr>\n    <tr>\n      <th>764132</th>\n      <td>764133</td>\n      <td>2018-10-25 03:45:19.837515</td>\n      <td>Shenzhen_98:ee:fd</td>\n      <td>Broadcast</td>\n      <td>ARP</td>\n      <td>60</td>\n      <td>Who has 192.168.2.165? Tell 192.168.2.110</td>\n      <td>NaN</td>\n      <td>NaN</td>\n    </tr>\n    <tr>\n      <th>764133</th>\n      <td>764134</td>\n      <td>2018-10-25 03:45:19.839396</td>\n      <td>Shenzhen_98:ee:fd</td>\n      <td>Broadcast</td>\n      <td>ARP</td>\n      <td>60</td>\n      <td>Who has 192.168.2.166? Tell 192.168.2.110</td>\n      <td>NaN</td>\n      <td>NaN</td>\n    </tr>\n    <tr>\n      <th>764134</th>\n      <td>764135</td>\n      <td>2018-10-25 03:45:19.840611</td>\n      <td>Shenzhen_98:ee:fd</td>\n      <td>Broadcast</td>\n      <td>ARP</td>\n      <td>60</td>\n      <td>Who has 192.168.2.167? Tell 192.168.2.110</td>\n      <td>NaN</td>\n      <td>NaN</td>\n    </tr>\n    <tr>\n      <th>764135</th>\n      <td>764136</td>\n      <td>2018-10-25 03:45:19.842369</td>\n      <td>Shenzhen_98:ee:fd</td>\n      <td>Broadcast</td>\n      <td>ARP</td>\n      <td>60</td>\n      <td>Who has 192.168.2.168? Tell 192.168.2.110</td>\n      <td>NaN</td>\n      <td>NaN</td>\n    </tr>\n    <tr>\n      <th>764136</th>\n      <td>764137</td>\n      <td>2018-10-25 03:45:19.842464</td>\n      <td>192.168.2.115</td>\n      <td>192.168.2.1</td>\n      <td>DNS</td>\n      <td>119</td>\n      <td>Standard query 0x1e08 AAAA north-america.pool....</td>\n      <td>3570.0</td>\n      <td>53.0</td>\n    </tr>\n  </tbody>\n</table>\n<p>764137 rows × 9 columns</p>\n</div>"
     },
     "metadata": {},
     "execution_count": 2
    }
   ],
   "source": [
    "mirai_data = pd.read_csv(\"../data/Mirai_csv.csv\")\n",
    "mirai_data"
   ]
  },
  {
   "source": [
    "# Series\n",
    "- Vector structure\n",
    "- Indexed\n",
    "    - Numbers\n",
    "    - Labels\n",
    "- [Pandas Series](https://pandas.pydata.org/pandas-docs/stable/reference/api/pandas.Series.html)"
   ],
   "cell_type": "markdown",
   "metadata": {}
  },
  {
   "cell_type": "code",
   "execution_count": 3,
   "metadata": {},
   "outputs": [
    {
     "output_type": "execute_result",
     "data": {
      "text/plain": [
       "pandas.core.series.Series"
      ]
     },
     "metadata": {},
     "execution_count": 3
    }
   ],
   "source": [
    "mirai_series = mirai_data[\"Source\"]\n",
    "type(mirai_series)"
   ]
  },
  {
   "cell_type": "code",
   "execution_count": 4,
   "metadata": {},
   "outputs": [
    {
     "output_type": "execute_result",
     "data": {
      "text/plain": [
       "0             192.168.2.108\n",
       "1             192.168.2.108\n",
       "2               192.168.2.1\n",
       "3               192.168.2.1\n",
       "4         48:02:2e:01:83:15\n",
       "                ...        \n",
       "764132    Shenzhen_98:ee:fd\n",
       "764133    Shenzhen_98:ee:fd\n",
       "764134    Shenzhen_98:ee:fd\n",
       "764135    Shenzhen_98:ee:fd\n",
       "764136        192.168.2.115\n",
       "Name: Source, Length: 764137, dtype: object"
      ]
     },
     "metadata": {},
     "execution_count": 4
    }
   ],
   "source": [
    "mirai_series"
   ]
  },
  {
   "cell_type": "code",
   "execution_count": 5,
   "metadata": {},
   "outputs": [
    {
     "output_type": "execute_result",
     "data": {
      "text/plain": [
       "0        192.168.2.108\n",
       "1        192.168.2.108\n",
       "2          192.168.2.1\n",
       "3          192.168.2.1\n",
       "4    48:02:2e:01:83:15\n",
       "Name: Source, dtype: object"
      ]
     },
     "metadata": {},
     "execution_count": 5
    }
   ],
   "source": [
    "mirai_series_subset = mirai_data[\"Source\"].head()\n",
    "mirai_series_subset"
   ]
  },
  {
   "cell_type": "code",
   "execution_count": 6,
   "metadata": {},
   "outputs": [
    {
     "output_type": "execute_result",
     "data": {
      "text/plain": [
       "RangeIndex(start=0, stop=764137, step=1)"
      ]
     },
     "metadata": {},
     "execution_count": 6
    }
   ],
   "source": [
    "mirai_series.index"
   ]
  },
  {
   "cell_type": "code",
   "execution_count": 7,
   "metadata": {},
   "outputs": [
    {
     "output_type": "execute_result",
     "data": {
      "text/plain": [
       "False"
      ]
     },
     "metadata": {},
     "execution_count": 7
    }
   ],
   "source": [
    "mirai_series.hasnans"
   ]
  },
  {
   "source": [
    "# Data Frames\n",
    "- 2D Data Structures\n",
    "- Dictionary of series\n",
    "- Mutable size\n",
    "- Labeled rows and columns\n",
    "- [Pandas DataFrames](https://pandas.pydata.org/pandas-docs/stable/reference/api/pandas.DataFrame.html)"
   ],
   "cell_type": "markdown",
   "metadata": {}
  },
  {
   "cell_type": "code",
   "execution_count": 8,
   "metadata": {},
   "outputs": [
    {
     "output_type": "execute_result",
     "data": {
      "text/plain": [
       "pandas.core.frame.DataFrame"
      ]
     },
     "metadata": {},
     "execution_count": 8
    }
   ],
   "source": [
    "type(mirai_data)"
   ]
  },
  {
   "cell_type": "code",
   "execution_count": 9,
   "metadata": {},
   "outputs": [
    {
     "output_type": "execute_result",
     "data": {
      "text/plain": [
       "array([[1, '2018-10-25 01:46:22.933899', '192.168.2.108', ...,\n",
       "        '21074  >  80 [SYN] Seq=0 Win=5840 Len=0 MSS=1460', 21074.0,\n",
       "        80.0],\n",
       "       [2, '2018-10-25 01:46:22.933904', '192.168.2.108', ...,\n",
       "        '20532  >  8280 [SYN] Seq=0 Win=5840 Len=0 MSS=1460', 20532.0,\n",
       "        8280.0],\n",
       "       [3, '2018-10-25 01:46:22.934426', '192.168.2.1', ...,\n",
       "        'Destination unreachable (Network unreachable)', 21074.0, 80.0],\n",
       "       ...,\n",
       "       [764135, '2018-10-25 03:45:19.840611', 'Shenzhen_98:ee:fd', ...,\n",
       "        'Who has 192.168.2.167? Tell 192.168.2.110', nan, nan],\n",
       "       [764136, '2018-10-25 03:45:19.842369', 'Shenzhen_98:ee:fd', ...,\n",
       "        'Who has 192.168.2.168? Tell 192.168.2.110', nan, nan],\n",
       "       [764137, '2018-10-25 03:45:19.842464', '192.168.2.115', ...,\n",
       "        'Standard query 0x1e08 AAAA north-america.pool.ntp.org.Speedport_W_724V_01011603_00_005',\n",
       "        3570.0, 53.0]], dtype=object)"
      ]
     },
     "metadata": {},
     "execution_count": 9
    }
   ],
   "source": [
    "mirai_data.values"
   ]
  },
  {
   "cell_type": "code",
   "execution_count": 10,
   "metadata": {},
   "outputs": [
    {
     "output_type": "execute_result",
     "data": {
      "text/plain": [
       "(764137, 9)"
      ]
     },
     "metadata": {},
     "execution_count": 10
    }
   ],
   "source": [
    "mirai_data.shape"
   ]
  },
  {
   "cell_type": "code",
   "execution_count": 11,
   "metadata": {},
   "outputs": [
    {
     "output_type": "execute_result",
     "data": {
      "text/plain": [
       "   No.                        Time         Source    Destination Protocol  \\\n",
       "0    1  2018-10-25 01:46:22.933899  192.168.2.108    52.24.43.67      TCP   \n",
       "1    2  2018-10-25 01:46:22.933904  192.168.2.108   52.25.66.250      TCP   \n",
       "2    3  2018-10-25 01:46:22.934426    192.168.2.1  192.168.2.108     ICMP   \n",
       "\n",
       "   Length                                               Info  Source Port  \\\n",
       "0      60   21074  >  80 [SYN] Seq=0 Win=5840 Len=0 MSS=1460      21074.0   \n",
       "1      60  20532  >  8280 [SYN] Seq=0 Win=5840 Len=0 MSS=...      20532.0   \n",
       "2      86      Destination unreachable (Network unreachable)      21074.0   \n",
       "\n",
       "   Dest Port  \n",
       "0       80.0  \n",
       "1     8280.0  \n",
       "2       80.0  "
      ],
      "text/html": "<div>\n<style scoped>\n    .dataframe tbody tr th:only-of-type {\n        vertical-align: middle;\n    }\n\n    .dataframe tbody tr th {\n        vertical-align: top;\n    }\n\n    .dataframe thead th {\n        text-align: right;\n    }\n</style>\n<table border=\"1\" class=\"dataframe\">\n  <thead>\n    <tr style=\"text-align: right;\">\n      <th></th>\n      <th>No.</th>\n      <th>Time</th>\n      <th>Source</th>\n      <th>Destination</th>\n      <th>Protocol</th>\n      <th>Length</th>\n      <th>Info</th>\n      <th>Source Port</th>\n      <th>Dest Port</th>\n    </tr>\n  </thead>\n  <tbody>\n    <tr>\n      <th>0</th>\n      <td>1</td>\n      <td>2018-10-25 01:46:22.933899</td>\n      <td>192.168.2.108</td>\n      <td>52.24.43.67</td>\n      <td>TCP</td>\n      <td>60</td>\n      <td>21074  &gt;  80 [SYN] Seq=0 Win=5840 Len=0 MSS=1460</td>\n      <td>21074.0</td>\n      <td>80.0</td>\n    </tr>\n    <tr>\n      <th>1</th>\n      <td>2</td>\n      <td>2018-10-25 01:46:22.933904</td>\n      <td>192.168.2.108</td>\n      <td>52.25.66.250</td>\n      <td>TCP</td>\n      <td>60</td>\n      <td>20532  &gt;  8280 [SYN] Seq=0 Win=5840 Len=0 MSS=...</td>\n      <td>20532.0</td>\n      <td>8280.0</td>\n    </tr>\n    <tr>\n      <th>2</th>\n      <td>3</td>\n      <td>2018-10-25 01:46:22.934426</td>\n      <td>192.168.2.1</td>\n      <td>192.168.2.108</td>\n      <td>ICMP</td>\n      <td>86</td>\n      <td>Destination unreachable (Network unreachable)</td>\n      <td>21074.0</td>\n      <td>80.0</td>\n    </tr>\n  </tbody>\n</table>\n</div>"
     },
     "metadata": {},
     "execution_count": 11
    }
   ],
   "source": [
    "mirai_data[0:3]"
   ]
  },
  {
   "cell_type": "code",
   "execution_count": 12,
   "metadata": {},
   "outputs": [
    {
     "output_type": "execute_result",
     "data": {
      "text/plain": [
       "                              Time  Source Port\n",
       "0       2018-10-25 01:46:22.933899      21074.0\n",
       "1       2018-10-25 01:46:22.933904      20532.0\n",
       "2       2018-10-25 01:46:22.934426      21074.0\n",
       "3       2018-10-25 01:46:22.934636      20532.0\n",
       "4       2018-10-25 01:46:23.291054          NaN\n",
       "...                            ...          ...\n",
       "764132  2018-10-25 03:45:19.837515          NaN\n",
       "764133  2018-10-25 03:45:19.839396          NaN\n",
       "764134  2018-10-25 03:45:19.840611          NaN\n",
       "764135  2018-10-25 03:45:19.842369          NaN\n",
       "764136  2018-10-25 03:45:19.842464       3570.0\n",
       "\n",
       "[764137 rows x 2 columns]"
      ],
      "text/html": "<div>\n<style scoped>\n    .dataframe tbody tr th:only-of-type {\n        vertical-align: middle;\n    }\n\n    .dataframe tbody tr th {\n        vertical-align: top;\n    }\n\n    .dataframe thead th {\n        text-align: right;\n    }\n</style>\n<table border=\"1\" class=\"dataframe\">\n  <thead>\n    <tr style=\"text-align: right;\">\n      <th></th>\n      <th>Time</th>\n      <th>Source Port</th>\n    </tr>\n  </thead>\n  <tbody>\n    <tr>\n      <th>0</th>\n      <td>2018-10-25 01:46:22.933899</td>\n      <td>21074.0</td>\n    </tr>\n    <tr>\n      <th>1</th>\n      <td>2018-10-25 01:46:22.933904</td>\n      <td>20532.0</td>\n    </tr>\n    <tr>\n      <th>2</th>\n      <td>2018-10-25 01:46:22.934426</td>\n      <td>21074.0</td>\n    </tr>\n    <tr>\n      <th>3</th>\n      <td>2018-10-25 01:46:22.934636</td>\n      <td>20532.0</td>\n    </tr>\n    <tr>\n      <th>4</th>\n      <td>2018-10-25 01:46:23.291054</td>\n      <td>NaN</td>\n    </tr>\n    <tr>\n      <th>...</th>\n      <td>...</td>\n      <td>...</td>\n    </tr>\n    <tr>\n      <th>764132</th>\n      <td>2018-10-25 03:45:19.837515</td>\n      <td>NaN</td>\n    </tr>\n    <tr>\n      <th>764133</th>\n      <td>2018-10-25 03:45:19.839396</td>\n      <td>NaN</td>\n    </tr>\n    <tr>\n      <th>764134</th>\n      <td>2018-10-25 03:45:19.840611</td>\n      <td>NaN</td>\n    </tr>\n    <tr>\n      <th>764135</th>\n      <td>2018-10-25 03:45:19.842369</td>\n      <td>NaN</td>\n    </tr>\n    <tr>\n      <th>764136</th>\n      <td>2018-10-25 03:45:19.842464</td>\n      <td>3570.0</td>\n    </tr>\n  </tbody>\n</table>\n<p>764137 rows × 2 columns</p>\n</div>"
     },
     "metadata": {},
     "execution_count": 12
    }
   ],
   "source": [
    "mirai_data.loc[:, [\"Time\", \"Source Port\"]]"
   ]
  },
  {
   "cell_type": "code",
   "execution_count": 13,
   "metadata": {},
   "outputs": [
    {
     "output_type": "execute_result",
     "data": {
      "text/plain": [
       "No.                                                        4\n",
       "Time                              2018-10-25 01:46:22.934636\n",
       "Source                                           192.168.2.1\n",
       "Destination                                    192.168.2.108\n",
       "Protocol                                                ICMP\n",
       "Length                                                    86\n",
       "Info           Destination unreachable (Network unreachable)\n",
       "Source Port                                          20532.0\n",
       "Dest Port                                             8280.0\n",
       "Name: 3, dtype: object"
      ]
     },
     "metadata": {},
     "execution_count": 13
    }
   ],
   "source": [
    "mirai_data.iloc[3]"
   ]
  },
  {
   "cell_type": "code",
   "execution_count": 14,
   "metadata": {},
   "outputs": [
    {
     "output_type": "execute_result",
     "data": {
      "text/plain": [
       "           Source  Source Port      Destination  Dest Port\n",
       "10  192.168.2.108      20532.0     52.25.66.250     8280.0\n",
       "11    192.168.2.1      21074.0    192.168.2.108       80.0\n",
       "12  192.168.2.115       2440.0      192.168.2.1       53.0\n",
       "13  192.168.2.112      52514.0      192.168.2.1       53.0\n",
       "14  192.168.2.110      34034.0  114.114.114.114       53.0\n",
       "15    192.168.2.1      34034.0    192.168.2.110       53.0\n",
       "16  192.168.2.113      50861.0    50.19.254.134    10240.0\n",
       "17  192.168.2.113      50861.0  122.248.234.207    10240.0\n",
       "18  192.168.2.113      50861.0    46.137.188.54    10240.0\n",
       "19  192.168.2.113      50861.0   122.226.84.253    10240.0"
      ],
      "text/html": "<div>\n<style scoped>\n    .dataframe tbody tr th:only-of-type {\n        vertical-align: middle;\n    }\n\n    .dataframe tbody tr th {\n        vertical-align: top;\n    }\n\n    .dataframe thead th {\n        text-align: right;\n    }\n</style>\n<table border=\"1\" class=\"dataframe\">\n  <thead>\n    <tr style=\"text-align: right;\">\n      <th></th>\n      <th>Source</th>\n      <th>Source Port</th>\n      <th>Destination</th>\n      <th>Dest Port</th>\n    </tr>\n  </thead>\n  <tbody>\n    <tr>\n      <th>10</th>\n      <td>192.168.2.108</td>\n      <td>20532.0</td>\n      <td>52.25.66.250</td>\n      <td>8280.0</td>\n    </tr>\n    <tr>\n      <th>11</th>\n      <td>192.168.2.1</td>\n      <td>21074.0</td>\n      <td>192.168.2.108</td>\n      <td>80.0</td>\n    </tr>\n    <tr>\n      <th>12</th>\n      <td>192.168.2.115</td>\n      <td>2440.0</td>\n      <td>192.168.2.1</td>\n      <td>53.0</td>\n    </tr>\n    <tr>\n      <th>13</th>\n      <td>192.168.2.112</td>\n      <td>52514.0</td>\n      <td>192.168.2.1</td>\n      <td>53.0</td>\n    </tr>\n    <tr>\n      <th>14</th>\n      <td>192.168.2.110</td>\n      <td>34034.0</td>\n      <td>114.114.114.114</td>\n      <td>53.0</td>\n    </tr>\n    <tr>\n      <th>15</th>\n      <td>192.168.2.1</td>\n      <td>34034.0</td>\n      <td>192.168.2.110</td>\n      <td>53.0</td>\n    </tr>\n    <tr>\n      <th>16</th>\n      <td>192.168.2.113</td>\n      <td>50861.0</td>\n      <td>50.19.254.134</td>\n      <td>10240.0</td>\n    </tr>\n    <tr>\n      <th>17</th>\n      <td>192.168.2.113</td>\n      <td>50861.0</td>\n      <td>122.248.234.207</td>\n      <td>10240.0</td>\n    </tr>\n    <tr>\n      <th>18</th>\n      <td>192.168.2.113</td>\n      <td>50861.0</td>\n      <td>46.137.188.54</td>\n      <td>10240.0</td>\n    </tr>\n    <tr>\n      <th>19</th>\n      <td>192.168.2.113</td>\n      <td>50861.0</td>\n      <td>122.226.84.253</td>\n      <td>10240.0</td>\n    </tr>\n  </tbody>\n</table>\n</div>"
     },
     "metadata": {},
     "execution_count": 14
    }
   ],
   "source": [
    "mirai_data.iloc[10:20, [2, 7, 3, 8]]"
   ]
  },
  {
   "cell_type": "code",
   "execution_count": 15,
   "metadata": {},
   "outputs": [
    {
     "output_type": "execute_result",
     "data": {
      "text/plain": [
       "    No.                        Time         Source      Destination Protocol  \\\n",
       "10   11  2018-10-25 01:46:23.435884  192.168.2.108     52.25.66.250      TCP   \n",
       "11   12  2018-10-25 01:46:23.436317    192.168.2.1    192.168.2.108     ICMP   \n",
       "12   13  2018-10-25 01:46:23.445178  192.168.2.115      192.168.2.1      DNS   \n",
       "13   14  2018-10-25 01:46:23.526023  192.168.2.112      192.168.2.1      DNS   \n",
       "14   15  2018-10-25 01:46:23.533132  192.168.2.110  114.114.114.114      DNS   \n",
       "15   16  2018-10-25 01:46:23.533591    192.168.2.1    192.168.2.110     ICMP   \n",
       "16   17  2018-10-25 01:46:23.557865  192.168.2.113    50.19.254.134      UDP   \n",
       "17   18  2018-10-25 01:46:23.558014  192.168.2.113  122.248.234.207      UDP   \n",
       "18   19  2018-10-25 01:46:23.558016  192.168.2.113    46.137.188.54      UDP   \n",
       "19   20  2018-10-25 01:46:23.558017  192.168.2.113   122.226.84.253      UDP   \n",
       "\n",
       "    Length                                               Info  Source Port  \\\n",
       "10      60  [TCP Retransmission] 20532  >  8280 [SYN] Seq=...      20532.0   \n",
       "11      86      Destination unreachable (Network unreachable)      21074.0   \n",
       "12      84   Standard query 0x02eb A xmpp.samsungsmartcam.com       2440.0   \n",
       "13      76           Standard query 0x0027 A time.windows.com      52514.0   \n",
       "14      83    Standard query 0x01f4 A device-abnormal.eye4.cn      34034.0   \n",
       "15     111      Destination unreachable (Network unreachable)      34034.0   \n",
       "16      82                             50861  >  10240 Len=40      50861.0   \n",
       "17      82                             50861  >  10240 Len=40      50861.0   \n",
       "18      82                             50861  >  10240 Len=40      50861.0   \n",
       "19      82                             50861  >  10240 Len=40      50861.0   \n",
       "\n",
       "    Dest Port  \n",
       "10     8280.0  \n",
       "11       80.0  \n",
       "12       53.0  \n",
       "13       53.0  \n",
       "14       53.0  \n",
       "15       53.0  \n",
       "16    10240.0  \n",
       "17    10240.0  \n",
       "18    10240.0  \n",
       "19    10240.0  "
      ],
      "text/html": "<div>\n<style scoped>\n    .dataframe tbody tr th:only-of-type {\n        vertical-align: middle;\n    }\n\n    .dataframe tbody tr th {\n        vertical-align: top;\n    }\n\n    .dataframe thead th {\n        text-align: right;\n    }\n</style>\n<table border=\"1\" class=\"dataframe\">\n  <thead>\n    <tr style=\"text-align: right;\">\n      <th></th>\n      <th>No.</th>\n      <th>Time</th>\n      <th>Source</th>\n      <th>Destination</th>\n      <th>Protocol</th>\n      <th>Length</th>\n      <th>Info</th>\n      <th>Source Port</th>\n      <th>Dest Port</th>\n    </tr>\n  </thead>\n  <tbody>\n    <tr>\n      <th>10</th>\n      <td>11</td>\n      <td>2018-10-25 01:46:23.435884</td>\n      <td>192.168.2.108</td>\n      <td>52.25.66.250</td>\n      <td>TCP</td>\n      <td>60</td>\n      <td>[TCP Retransmission] 20532  &gt;  8280 [SYN] Seq=...</td>\n      <td>20532.0</td>\n      <td>8280.0</td>\n    </tr>\n    <tr>\n      <th>11</th>\n      <td>12</td>\n      <td>2018-10-25 01:46:23.436317</td>\n      <td>192.168.2.1</td>\n      <td>192.168.2.108</td>\n      <td>ICMP</td>\n      <td>86</td>\n      <td>Destination unreachable (Network unreachable)</td>\n      <td>21074.0</td>\n      <td>80.0</td>\n    </tr>\n    <tr>\n      <th>12</th>\n      <td>13</td>\n      <td>2018-10-25 01:46:23.445178</td>\n      <td>192.168.2.115</td>\n      <td>192.168.2.1</td>\n      <td>DNS</td>\n      <td>84</td>\n      <td>Standard query 0x02eb A xmpp.samsungsmartcam.com</td>\n      <td>2440.0</td>\n      <td>53.0</td>\n    </tr>\n    <tr>\n      <th>13</th>\n      <td>14</td>\n      <td>2018-10-25 01:46:23.526023</td>\n      <td>192.168.2.112</td>\n      <td>192.168.2.1</td>\n      <td>DNS</td>\n      <td>76</td>\n      <td>Standard query 0x0027 A time.windows.com</td>\n      <td>52514.0</td>\n      <td>53.0</td>\n    </tr>\n    <tr>\n      <th>14</th>\n      <td>15</td>\n      <td>2018-10-25 01:46:23.533132</td>\n      <td>192.168.2.110</td>\n      <td>114.114.114.114</td>\n      <td>DNS</td>\n      <td>83</td>\n      <td>Standard query 0x01f4 A device-abnormal.eye4.cn</td>\n      <td>34034.0</td>\n      <td>53.0</td>\n    </tr>\n    <tr>\n      <th>15</th>\n      <td>16</td>\n      <td>2018-10-25 01:46:23.533591</td>\n      <td>192.168.2.1</td>\n      <td>192.168.2.110</td>\n      <td>ICMP</td>\n      <td>111</td>\n      <td>Destination unreachable (Network unreachable)</td>\n      <td>34034.0</td>\n      <td>53.0</td>\n    </tr>\n    <tr>\n      <th>16</th>\n      <td>17</td>\n      <td>2018-10-25 01:46:23.557865</td>\n      <td>192.168.2.113</td>\n      <td>50.19.254.134</td>\n      <td>UDP</td>\n      <td>82</td>\n      <td>50861  &gt;  10240 Len=40</td>\n      <td>50861.0</td>\n      <td>10240.0</td>\n    </tr>\n    <tr>\n      <th>17</th>\n      <td>18</td>\n      <td>2018-10-25 01:46:23.558014</td>\n      <td>192.168.2.113</td>\n      <td>122.248.234.207</td>\n      <td>UDP</td>\n      <td>82</td>\n      <td>50861  &gt;  10240 Len=40</td>\n      <td>50861.0</td>\n      <td>10240.0</td>\n    </tr>\n    <tr>\n      <th>18</th>\n      <td>19</td>\n      <td>2018-10-25 01:46:23.558016</td>\n      <td>192.168.2.113</td>\n      <td>46.137.188.54</td>\n      <td>UDP</td>\n      <td>82</td>\n      <td>50861  &gt;  10240 Len=40</td>\n      <td>50861.0</td>\n      <td>10240.0</td>\n    </tr>\n    <tr>\n      <th>19</th>\n      <td>20</td>\n      <td>2018-10-25 01:46:23.558017</td>\n      <td>192.168.2.113</td>\n      <td>122.226.84.253</td>\n      <td>UDP</td>\n      <td>82</td>\n      <td>50861  &gt;  10240 Len=40</td>\n      <td>50861.0</td>\n      <td>10240.0</td>\n    </tr>\n  </tbody>\n</table>\n</div>"
     },
     "metadata": {},
     "execution_count": 15
    }
   ],
   "source": [
    "mirai_data.iloc[10:20, :]"
   ]
  },
  {
   "cell_type": "code",
   "execution_count": 16,
   "metadata": {},
   "outputs": [
    {
     "output_type": "execute_result",
     "data": {
      "text/plain": [
       "                              Time             Source    Destination\n",
       "0       2018-10-25 01:46:22.933899      192.168.2.108    52.24.43.67\n",
       "1       2018-10-25 01:46:22.933904      192.168.2.108   52.25.66.250\n",
       "2       2018-10-25 01:46:22.934426        192.168.2.1  192.168.2.108\n",
       "3       2018-10-25 01:46:22.934636        192.168.2.1  192.168.2.108\n",
       "4       2018-10-25 01:46:23.291054  48:02:2e:01:83:15      Broadcast\n",
       "...                            ...                ...            ...\n",
       "764132  2018-10-25 03:45:19.837515  Shenzhen_98:ee:fd      Broadcast\n",
       "764133  2018-10-25 03:45:19.839396  Shenzhen_98:ee:fd      Broadcast\n",
       "764134  2018-10-25 03:45:19.840611  Shenzhen_98:ee:fd      Broadcast\n",
       "764135  2018-10-25 03:45:19.842369  Shenzhen_98:ee:fd      Broadcast\n",
       "764136  2018-10-25 03:45:19.842464      192.168.2.115    192.168.2.1\n",
       "\n",
       "[764137 rows x 3 columns]"
      ],
      "text/html": "<div>\n<style scoped>\n    .dataframe tbody tr th:only-of-type {\n        vertical-align: middle;\n    }\n\n    .dataframe tbody tr th {\n        vertical-align: top;\n    }\n\n    .dataframe thead th {\n        text-align: right;\n    }\n</style>\n<table border=\"1\" class=\"dataframe\">\n  <thead>\n    <tr style=\"text-align: right;\">\n      <th></th>\n      <th>Time</th>\n      <th>Source</th>\n      <th>Destination</th>\n    </tr>\n  </thead>\n  <tbody>\n    <tr>\n      <th>0</th>\n      <td>2018-10-25 01:46:22.933899</td>\n      <td>192.168.2.108</td>\n      <td>52.24.43.67</td>\n    </tr>\n    <tr>\n      <th>1</th>\n      <td>2018-10-25 01:46:22.933904</td>\n      <td>192.168.2.108</td>\n      <td>52.25.66.250</td>\n    </tr>\n    <tr>\n      <th>2</th>\n      <td>2018-10-25 01:46:22.934426</td>\n      <td>192.168.2.1</td>\n      <td>192.168.2.108</td>\n    </tr>\n    <tr>\n      <th>3</th>\n      <td>2018-10-25 01:46:22.934636</td>\n      <td>192.168.2.1</td>\n      <td>192.168.2.108</td>\n    </tr>\n    <tr>\n      <th>4</th>\n      <td>2018-10-25 01:46:23.291054</td>\n      <td>48:02:2e:01:83:15</td>\n      <td>Broadcast</td>\n    </tr>\n    <tr>\n      <th>...</th>\n      <td>...</td>\n      <td>...</td>\n      <td>...</td>\n    </tr>\n    <tr>\n      <th>764132</th>\n      <td>2018-10-25 03:45:19.837515</td>\n      <td>Shenzhen_98:ee:fd</td>\n      <td>Broadcast</td>\n    </tr>\n    <tr>\n      <th>764133</th>\n      <td>2018-10-25 03:45:19.839396</td>\n      <td>Shenzhen_98:ee:fd</td>\n      <td>Broadcast</td>\n    </tr>\n    <tr>\n      <th>764134</th>\n      <td>2018-10-25 03:45:19.840611</td>\n      <td>Shenzhen_98:ee:fd</td>\n      <td>Broadcast</td>\n    </tr>\n    <tr>\n      <th>764135</th>\n      <td>2018-10-25 03:45:19.842369</td>\n      <td>Shenzhen_98:ee:fd</td>\n      <td>Broadcast</td>\n    </tr>\n    <tr>\n      <th>764136</th>\n      <td>2018-10-25 03:45:19.842464</td>\n      <td>192.168.2.115</td>\n      <td>192.168.2.1</td>\n    </tr>\n  </tbody>\n</table>\n<p>764137 rows × 3 columns</p>\n</div>"
     },
     "metadata": {},
     "execution_count": 16
    }
   ],
   "source": [
    "mirai_data.iloc[:, 1:4]"
   ]
  },
  {
   "cell_type": "code",
   "execution_count": 17,
   "metadata": {},
   "outputs": [
    {
     "output_type": "execute_result",
     "data": {
      "text/plain": [
       "           No.                        Time         Source      Destination  \\\n",
       "2280      2281  2018-10-25 01:47:41.730837  192.168.2.109  239.255.255.250   \n",
       "6681      6682  2018-10-25 01:50:16.689616        0.0.0.0  255.255.255.255   \n",
       "6740      6741  2018-10-25 01:50:18.691866        0.0.0.0  255.255.255.255   \n",
       "6758      6759  2018-10-25 01:50:18.901475        0.0.0.0  255.255.255.255   \n",
       "6847      6848  2018-10-25 01:50:20.907206        0.0.0.0  255.255.255.255   \n",
       "7167      7168  2018-10-25 01:50:31.470462        0.0.0.0  255.255.255.255   \n",
       "7194      7195  2018-10-25 01:50:33.483067        0.0.0.0  255.255.255.255   \n",
       "7275      7276  2018-10-25 01:50:35.485656        0.0.0.0  255.255.255.255   \n",
       "7308      7309  2018-10-25 01:50:36.406909        0.0.0.0  255.255.255.255   \n",
       "73266    73267  2018-10-25 02:30:56.832834        0.0.0.0  255.255.255.255   \n",
       "73322    73323  2018-10-25 02:30:59.098348        0.0.0.0  255.255.255.255   \n",
       "73390    73391  2018-10-25 02:31:01.100790        0.0.0.0  255.255.255.255   \n",
       "73427    73428  2018-10-25 02:31:02.321307        0.0.0.0  255.255.255.255   \n",
       "74574    74575  2018-10-25 02:31:43.696110        0.0.0.0  255.255.255.255   \n",
       "74628    74629  2018-10-25 02:31:45.705179        0.0.0.0  255.255.255.255   \n",
       "74676    74677  2018-10-25 02:31:47.710308        0.0.0.0  255.255.255.255   \n",
       "74719    74720  2018-10-25 02:31:48.981025        0.0.0.0  255.255.255.255   \n",
       "193555  193556  2018-10-25 03:06:51.506251  192.168.2.110      192.168.4.1   \n",
       "193556  193557  2018-10-25 03:06:51.507053    192.168.2.1    192.168.2.110   \n",
       "\n",
       "       Protocol  Length                                               Info  \\\n",
       "2280        UDP    1468                             3702  >  3702 Len=1426   \n",
       "6681      BOOTP     590  Boot Request from 50:c7:bf:1c:9c:c6 (Tp-LinkT_...   \n",
       "6740      BOOTP     590  Boot Request from 50:c7:bf:1c:9c:c6 (Tp-LinkT_...   \n",
       "6758      BOOTP     590  Boot Request from 50:c7:bf:1c:9c:c6 (Tp-LinkT_...   \n",
       "6847      BOOTP     590  Boot Request from 50:c7:bf:1c:9c:c6 (Tp-LinkT_...   \n",
       "7167      BOOTP     590  Boot Request from 50:c7:bf:1c:9c:a6 (Tp-LinkT_...   \n",
       "7194      BOOTP     590  Boot Request from 50:c7:bf:1c:9c:a6 (Tp-LinkT_...   \n",
       "7275      BOOTP     590  Boot Request from 50:c7:bf:1c:9c:a6 (Tp-LinkT_...   \n",
       "7308      BOOTP     590  Boot Request from 50:c7:bf:1c:9c:a6 (Tp-LinkT_...   \n",
       "73266     BOOTP     590  Boot Request from 50:c7:bf:1c:9c:a6 (Tp-LinkT_...   \n",
       "73322     BOOTP     590  Boot Request from 50:c7:bf:1c:9c:a6 (Tp-LinkT_...   \n",
       "73390     BOOTP     590  Boot Request from 50:c7:bf:1c:9c:a6 (Tp-LinkT_...   \n",
       "73427     BOOTP     590  Boot Request from 50:c7:bf:1c:9c:a6 (Tp-LinkT_...   \n",
       "74574     BOOTP     590  Boot Request from 50:c7:bf:1c:9c:c6 (Tp-LinkT_...   \n",
       "74628     BOOTP     590  Boot Request from 50:c7:bf:1c:9c:c6 (Tp-LinkT_...   \n",
       "74676     BOOTP     590  Boot Request from 50:c7:bf:1c:9c:c6 (Tp-LinkT_...   \n",
       "74719     BOOTP     590  Boot Request from 50:c7:bf:1c:9c:c6 (Tp-LinkT_...   \n",
       "193555      TCP     566  14310  >  48949 [ACK] Seq=1 Ack=1 Win=17150 Le...   \n",
       "193556     ICMP     590      Destination unreachable (Network unreachable)   \n",
       "\n",
       "        Source Port  Dest Port  \n",
       "2280         3702.0     3702.0  \n",
       "6681           68.0       67.0  \n",
       "6740           68.0       67.0  \n",
       "6758           68.0       67.0  \n",
       "6847           68.0       67.0  \n",
       "7167           68.0       67.0  \n",
       "7194           68.0       67.0  \n",
       "7275           68.0       67.0  \n",
       "7308           68.0       67.0  \n",
       "73266          68.0       67.0  \n",
       "73322          68.0       67.0  \n",
       "73390          68.0       67.0  \n",
       "73427          68.0       67.0  \n",
       "74574          68.0       67.0  \n",
       "74628          68.0       67.0  \n",
       "74676          68.0       67.0  \n",
       "74719          68.0       67.0  \n",
       "193555      14310.0    48949.0  \n",
       "193556      14310.0    48949.0  "
      ],
      "text/html": "<div>\n<style scoped>\n    .dataframe tbody tr th:only-of-type {\n        vertical-align: middle;\n    }\n\n    .dataframe tbody tr th {\n        vertical-align: top;\n    }\n\n    .dataframe thead th {\n        text-align: right;\n    }\n</style>\n<table border=\"1\" class=\"dataframe\">\n  <thead>\n    <tr style=\"text-align: right;\">\n      <th></th>\n      <th>No.</th>\n      <th>Time</th>\n      <th>Source</th>\n      <th>Destination</th>\n      <th>Protocol</th>\n      <th>Length</th>\n      <th>Info</th>\n      <th>Source Port</th>\n      <th>Dest Port</th>\n    </tr>\n  </thead>\n  <tbody>\n    <tr>\n      <th>2280</th>\n      <td>2281</td>\n      <td>2018-10-25 01:47:41.730837</td>\n      <td>192.168.2.109</td>\n      <td>239.255.255.250</td>\n      <td>UDP</td>\n      <td>1468</td>\n      <td>3702  &gt;  3702 Len=1426</td>\n      <td>3702.0</td>\n      <td>3702.0</td>\n    </tr>\n    <tr>\n      <th>6681</th>\n      <td>6682</td>\n      <td>2018-10-25 01:50:16.689616</td>\n      <td>0.0.0.0</td>\n      <td>255.255.255.255</td>\n      <td>BOOTP</td>\n      <td>590</td>\n      <td>Boot Request from 50:c7:bf:1c:9c:c6 (Tp-LinkT_...</td>\n      <td>68.0</td>\n      <td>67.0</td>\n    </tr>\n    <tr>\n      <th>6740</th>\n      <td>6741</td>\n      <td>2018-10-25 01:50:18.691866</td>\n      <td>0.0.0.0</td>\n      <td>255.255.255.255</td>\n      <td>BOOTP</td>\n      <td>590</td>\n      <td>Boot Request from 50:c7:bf:1c:9c:c6 (Tp-LinkT_...</td>\n      <td>68.0</td>\n      <td>67.0</td>\n    </tr>\n    <tr>\n      <th>6758</th>\n      <td>6759</td>\n      <td>2018-10-25 01:50:18.901475</td>\n      <td>0.0.0.0</td>\n      <td>255.255.255.255</td>\n      <td>BOOTP</td>\n      <td>590</td>\n      <td>Boot Request from 50:c7:bf:1c:9c:c6 (Tp-LinkT_...</td>\n      <td>68.0</td>\n      <td>67.0</td>\n    </tr>\n    <tr>\n      <th>6847</th>\n      <td>6848</td>\n      <td>2018-10-25 01:50:20.907206</td>\n      <td>0.0.0.0</td>\n      <td>255.255.255.255</td>\n      <td>BOOTP</td>\n      <td>590</td>\n      <td>Boot Request from 50:c7:bf:1c:9c:c6 (Tp-LinkT_...</td>\n      <td>68.0</td>\n      <td>67.0</td>\n    </tr>\n    <tr>\n      <th>7167</th>\n      <td>7168</td>\n      <td>2018-10-25 01:50:31.470462</td>\n      <td>0.0.0.0</td>\n      <td>255.255.255.255</td>\n      <td>BOOTP</td>\n      <td>590</td>\n      <td>Boot Request from 50:c7:bf:1c:9c:a6 (Tp-LinkT_...</td>\n      <td>68.0</td>\n      <td>67.0</td>\n    </tr>\n    <tr>\n      <th>7194</th>\n      <td>7195</td>\n      <td>2018-10-25 01:50:33.483067</td>\n      <td>0.0.0.0</td>\n      <td>255.255.255.255</td>\n      <td>BOOTP</td>\n      <td>590</td>\n      <td>Boot Request from 50:c7:bf:1c:9c:a6 (Tp-LinkT_...</td>\n      <td>68.0</td>\n      <td>67.0</td>\n    </tr>\n    <tr>\n      <th>7275</th>\n      <td>7276</td>\n      <td>2018-10-25 01:50:35.485656</td>\n      <td>0.0.0.0</td>\n      <td>255.255.255.255</td>\n      <td>BOOTP</td>\n      <td>590</td>\n      <td>Boot Request from 50:c7:bf:1c:9c:a6 (Tp-LinkT_...</td>\n      <td>68.0</td>\n      <td>67.0</td>\n    </tr>\n    <tr>\n      <th>7308</th>\n      <td>7309</td>\n      <td>2018-10-25 01:50:36.406909</td>\n      <td>0.0.0.0</td>\n      <td>255.255.255.255</td>\n      <td>BOOTP</td>\n      <td>590</td>\n      <td>Boot Request from 50:c7:bf:1c:9c:a6 (Tp-LinkT_...</td>\n      <td>68.0</td>\n      <td>67.0</td>\n    </tr>\n    <tr>\n      <th>73266</th>\n      <td>73267</td>\n      <td>2018-10-25 02:30:56.832834</td>\n      <td>0.0.0.0</td>\n      <td>255.255.255.255</td>\n      <td>BOOTP</td>\n      <td>590</td>\n      <td>Boot Request from 50:c7:bf:1c:9c:a6 (Tp-LinkT_...</td>\n      <td>68.0</td>\n      <td>67.0</td>\n    </tr>\n    <tr>\n      <th>73322</th>\n      <td>73323</td>\n      <td>2018-10-25 02:30:59.098348</td>\n      <td>0.0.0.0</td>\n      <td>255.255.255.255</td>\n      <td>BOOTP</td>\n      <td>590</td>\n      <td>Boot Request from 50:c7:bf:1c:9c:a6 (Tp-LinkT_...</td>\n      <td>68.0</td>\n      <td>67.0</td>\n    </tr>\n    <tr>\n      <th>73390</th>\n      <td>73391</td>\n      <td>2018-10-25 02:31:01.100790</td>\n      <td>0.0.0.0</td>\n      <td>255.255.255.255</td>\n      <td>BOOTP</td>\n      <td>590</td>\n      <td>Boot Request from 50:c7:bf:1c:9c:a6 (Tp-LinkT_...</td>\n      <td>68.0</td>\n      <td>67.0</td>\n    </tr>\n    <tr>\n      <th>73427</th>\n      <td>73428</td>\n      <td>2018-10-25 02:31:02.321307</td>\n      <td>0.0.0.0</td>\n      <td>255.255.255.255</td>\n      <td>BOOTP</td>\n      <td>590</td>\n      <td>Boot Request from 50:c7:bf:1c:9c:a6 (Tp-LinkT_...</td>\n      <td>68.0</td>\n      <td>67.0</td>\n    </tr>\n    <tr>\n      <th>74574</th>\n      <td>74575</td>\n      <td>2018-10-25 02:31:43.696110</td>\n      <td>0.0.0.0</td>\n      <td>255.255.255.255</td>\n      <td>BOOTP</td>\n      <td>590</td>\n      <td>Boot Request from 50:c7:bf:1c:9c:c6 (Tp-LinkT_...</td>\n      <td>68.0</td>\n      <td>67.0</td>\n    </tr>\n    <tr>\n      <th>74628</th>\n      <td>74629</td>\n      <td>2018-10-25 02:31:45.705179</td>\n      <td>0.0.0.0</td>\n      <td>255.255.255.255</td>\n      <td>BOOTP</td>\n      <td>590</td>\n      <td>Boot Request from 50:c7:bf:1c:9c:c6 (Tp-LinkT_...</td>\n      <td>68.0</td>\n      <td>67.0</td>\n    </tr>\n    <tr>\n      <th>74676</th>\n      <td>74677</td>\n      <td>2018-10-25 02:31:47.710308</td>\n      <td>0.0.0.0</td>\n      <td>255.255.255.255</td>\n      <td>BOOTP</td>\n      <td>590</td>\n      <td>Boot Request from 50:c7:bf:1c:9c:c6 (Tp-LinkT_...</td>\n      <td>68.0</td>\n      <td>67.0</td>\n    </tr>\n    <tr>\n      <th>74719</th>\n      <td>74720</td>\n      <td>2018-10-25 02:31:48.981025</td>\n      <td>0.0.0.0</td>\n      <td>255.255.255.255</td>\n      <td>BOOTP</td>\n      <td>590</td>\n      <td>Boot Request from 50:c7:bf:1c:9c:c6 (Tp-LinkT_...</td>\n      <td>68.0</td>\n      <td>67.0</td>\n    </tr>\n    <tr>\n      <th>193555</th>\n      <td>193556</td>\n      <td>2018-10-25 03:06:51.506251</td>\n      <td>192.168.2.110</td>\n      <td>192.168.4.1</td>\n      <td>TCP</td>\n      <td>566</td>\n      <td>14310  &gt;  48949 [ACK] Seq=1 Ack=1 Win=17150 Le...</td>\n      <td>14310.0</td>\n      <td>48949.0</td>\n    </tr>\n    <tr>\n      <th>193556</th>\n      <td>193557</td>\n      <td>2018-10-25 03:06:51.507053</td>\n      <td>192.168.2.1</td>\n      <td>192.168.2.110</td>\n      <td>ICMP</td>\n      <td>590</td>\n      <td>Destination unreachable (Network unreachable)</td>\n      <td>14310.0</td>\n      <td>48949.0</td>\n    </tr>\n  </tbody>\n</table>\n</div>"
     },
     "metadata": {},
     "execution_count": 17
    }
   ],
   "source": [
    "mirai_data[mirai_data[\"Length\"] > 512]"
   ]
  },
  {
   "cell_type": "code",
   "execution_count": 18,
   "metadata": {},
   "outputs": [
    {
     "output_type": "execute_result",
     "data": {
      "text/plain": [
       "Source\n",
       "0.0.0.0                         13108\n",
       "00:ec:04:56:93:03               19860\n",
       "192.168.2.1                   3721863\n",
       "192.168.2.101                  627282\n",
       "192.168.2.103                   98271\n",
       "192.168.2.104                  381972\n",
       "192.168.2.105                   33252\n",
       "192.168.2.107                  116031\n",
       "192.168.2.108                 3966692\n",
       "192.168.2.109                  438676\n",
       "192.168.2.110                 1631419\n",
       "192.168.2.111                   63984\n",
       "192.168.2.112                  702370\n",
       "192.168.2.113                 2775078\n",
       "192.168.2.115                 1525164\n",
       "192.168.2.117                    3017\n",
       "192.168.2.118                   99372\n",
       "192.168.2.119                   34457\n",
       "192.168.2.120                   31254\n",
       "192.168.2.121                   57238\n",
       "192.168.2.122                   56747\n",
       "192.168.2.126                  112668\n",
       "192.168.2.196                   87360\n",
       "48:02:2e:01:83:15              120720\n",
       "ASDElect_3a:eb:e8               16980\n",
       "Arcadyan_c6:12:7b              207720\n",
       "Cisco_28:d6:06                 302556\n",
       "D-LinkIn_db:4a:e2                7620\n",
       "Espressi_05:f2:c6               10980\n",
       "Fn-LinkT_e0:fc:c9               22680\n",
       "Foxconn_d5:63:5c                 3240\n",
       "Giga-Byt_4b:99:14                4260\n",
       "Giga-Byt_4b:99:1d               23460\n",
       "Raspberr_e1:a9:f6                3990\n",
       "SamsungE_7f:82:20               23280\n",
       "Shenzhen_08:71:23               21960\n",
       "Shenzhen_98:ee:fd            33142260\n",
       "Tp-LinkT_1c:9c:a6               12300\n",
       "Tp-LinkT_1c:9c:c6               11400\n",
       "Tp-LinkT_2c:15:d4                 780\n",
       "fe80::1                         96182\n",
       "fe80::203b:a22a:5501:5006        3867\n",
       "fe80::f014:8275:ad82:d005         214\n",
       "Name: Length, dtype: int64"
      ]
     },
     "metadata": {},
     "execution_count": 18
    }
   ],
   "source": [
    "mirai_data.groupby(\"Source\").sum()[\"Length\"]"
   ]
  },
  {
   "cell_type": "code",
   "execution_count": 19,
   "metadata": {},
   "outputs": [
    {
     "output_type": "execute_result",
     "data": {
      "text/plain": [
       "Source       Dest Port\n",
       "0.0.0.0      67.0          13108\n",
       "192.168.2.1  53.0         736284\n",
       "             68.0          48944\n",
       "             80.0         711354\n",
       "             123.0         14396\n",
       "                           ...  \n",
       "             2318.0          117\n",
       "             2319.0          110\n",
       "             2320.0          117\n",
       "             2322.0          117\n",
       "             2324.0          117\n",
       "Name: Length, Length: 990, dtype: int64"
      ]
     },
     "metadata": {},
     "execution_count": 19
    }
   ],
   "source": [
    "mirai_data.groupby([\"Source\", \"Dest Port\"]).sum()[\"Length\"][0:990]"
   ]
  },
  {
   "cell_type": "code",
   "execution_count": 20,
   "metadata": {},
   "outputs": [
    {
     "output_type": "execute_result",
     "data": {
      "text/plain": [
       "                 No.         Length    Source Port      Dest Port\n",
       "count  764137.000000  764137.000000  182360.000000  182360.000000\n",
       "mean   382069.000000      66.262442   33065.793387    6482.248240\n",
       "std    220587.495661      19.751378   18483.721156    7596.797988\n",
       "min         1.000000      42.000000       0.000000      23.000000\n",
       "25%    191035.000000      60.000000   21897.000000      53.000000\n",
       "50%    382069.000000      60.000000   32761.000000    8080.000000\n",
       "75%    573103.000000      60.000000   50861.000000   10240.000000\n",
       "max    764137.000000    1468.000000   65267.000000   65267.000000"
      ],
      "text/html": "<div>\n<style scoped>\n    .dataframe tbody tr th:only-of-type {\n        vertical-align: middle;\n    }\n\n    .dataframe tbody tr th {\n        vertical-align: top;\n    }\n\n    .dataframe thead th {\n        text-align: right;\n    }\n</style>\n<table border=\"1\" class=\"dataframe\">\n  <thead>\n    <tr style=\"text-align: right;\">\n      <th></th>\n      <th>No.</th>\n      <th>Length</th>\n      <th>Source Port</th>\n      <th>Dest Port</th>\n    </tr>\n  </thead>\n  <tbody>\n    <tr>\n      <th>count</th>\n      <td>764137.000000</td>\n      <td>764137.000000</td>\n      <td>182360.000000</td>\n      <td>182360.000000</td>\n    </tr>\n    <tr>\n      <th>mean</th>\n      <td>382069.000000</td>\n      <td>66.262442</td>\n      <td>33065.793387</td>\n      <td>6482.248240</td>\n    </tr>\n    <tr>\n      <th>std</th>\n      <td>220587.495661</td>\n      <td>19.751378</td>\n      <td>18483.721156</td>\n      <td>7596.797988</td>\n    </tr>\n    <tr>\n      <th>min</th>\n      <td>1.000000</td>\n      <td>42.000000</td>\n      <td>0.000000</td>\n      <td>23.000000</td>\n    </tr>\n    <tr>\n      <th>25%</th>\n      <td>191035.000000</td>\n      <td>60.000000</td>\n      <td>21897.000000</td>\n      <td>53.000000</td>\n    </tr>\n    <tr>\n      <th>50%</th>\n      <td>382069.000000</td>\n      <td>60.000000</td>\n      <td>32761.000000</td>\n      <td>8080.000000</td>\n    </tr>\n    <tr>\n      <th>75%</th>\n      <td>573103.000000</td>\n      <td>60.000000</td>\n      <td>50861.000000</td>\n      <td>10240.000000</td>\n    </tr>\n    <tr>\n      <th>max</th>\n      <td>764137.000000</td>\n      <td>1468.000000</td>\n      <td>65267.000000</td>\n      <td>65267.000000</td>\n    </tr>\n  </tbody>\n</table>\n</div>"
     },
     "metadata": {},
     "execution_count": 20
    }
   ],
   "source": [
    "mirai_data.describe()"
   ]
  },
  {
   "cell_type": "code",
   "execution_count": null,
   "metadata": {},
   "outputs": [],
   "source": [
    "mirai_data[\"Length\"].cumsum()"
   ]
  },
  {
   "cell_type": "code",
   "execution_count": null,
   "metadata": {},
   "outputs": [],
   "source": [
    "mirai_data.groupby([\"Source\", \"Destination\"]).cumsum()[\"Length\"]"
   ]
  },
  {
   "cell_type": "code",
   "execution_count": null,
   "metadata": {},
   "outputs": [],
   "source": [
    "mirai_data[\"Protocol\"].value_counts()"
   ]
  },
  {
   "cell_type": "code",
   "execution_count": null,
   "metadata": {},
   "outputs": [],
   "source": [
    "mirai_data[\"Dest Port\"].value_counts()"
   ]
  },
  {
   "cell_type": "code",
   "execution_count": 21,
   "metadata": {},
   "outputs": [
    {
     "output_type": "execute_result",
     "data": {
      "text/plain": [
       "           No.                       Time             Source  \\\n",
       "7309      7310 2018-10-25 01:50:36.411156        192.168.2.1   \n",
       "7310      7311 2018-10-25 01:50:36.471082      192.168.2.110   \n",
       "7311      7312 2018-10-25 01:50:36.471536        192.168.2.1   \n",
       "7312      7313 2018-10-25 01:50:36.471770  Arcadyan_c6:12:7b   \n",
       "7313      7314 2018-10-25 01:50:36.473013  Tp-LinkT_1c:9c:a6   \n",
       "...        ...                        ...                ...   \n",
       "764132  764133 2018-10-25 03:45:19.837515  Shenzhen_98:ee:fd   \n",
       "764133  764134 2018-10-25 03:45:19.839396  Shenzhen_98:ee:fd   \n",
       "764134  764135 2018-10-25 03:45:19.840611  Shenzhen_98:ee:fd   \n",
       "764135  764136 2018-10-25 03:45:19.842369  Shenzhen_98:ee:fd   \n",
       "764136  764137 2018-10-25 03:45:19.842464      192.168.2.115   \n",
       "\n",
       "              Destination Protocol  Length  \\\n",
       "7309      255.255.255.255    BOOTP     350   \n",
       "7310      114.114.114.114      DNS      71   \n",
       "7311        192.168.2.110     ICMP      99   \n",
       "7312    Tp-LinkT_1c:9c:a6      ARP      60   \n",
       "7313    Arcadyan_c6:12:7b      ARP      60   \n",
       "...                   ...      ...     ...   \n",
       "764132          Broadcast      ARP      60   \n",
       "764133          Broadcast      ARP      60   \n",
       "764134          Broadcast      ARP      60   \n",
       "764135          Broadcast      ARP      60   \n",
       "764136        192.168.2.1      DNS     119   \n",
       "\n",
       "                                                     Info  Source Port  \\\n",
       "7309       Boot Reply[Packet size limited during capture]         67.0   \n",
       "7310                  Standard query 0x0230 A ntp.eye4.cn      48607.0   \n",
       "7311        Destination unreachable (Network unreachable)      48607.0   \n",
       "7312              Who has 192.168.2.117? Tell 192.168.2.1          NaN   \n",
       "7313                192.168.2.117 is at 50:c7:bf:1c:9c:a6          NaN   \n",
       "...                                                   ...          ...   \n",
       "764132          Who has 192.168.2.165? Tell 192.168.2.110          NaN   \n",
       "764133          Who has 192.168.2.166? Tell 192.168.2.110          NaN   \n",
       "764134          Who has 192.168.2.167? Tell 192.168.2.110          NaN   \n",
       "764135          Who has 192.168.2.168? Tell 192.168.2.110          NaN   \n",
       "764136  Standard query 0x1e08 AAAA north-america.pool....       3570.0   \n",
       "\n",
       "        Dest Port  \n",
       "7309         68.0  \n",
       "7310         53.0  \n",
       "7311         53.0  \n",
       "7312          NaN  \n",
       "7313          NaN  \n",
       "...           ...  \n",
       "764132        NaN  \n",
       "764133        NaN  \n",
       "764134        NaN  \n",
       "764135        NaN  \n",
       "764136       53.0  \n",
       "\n",
       "[756828 rows x 9 columns]"
      ],
      "text/html": "<div>\n<style scoped>\n    .dataframe tbody tr th:only-of-type {\n        vertical-align: middle;\n    }\n\n    .dataframe tbody tr th {\n        vertical-align: top;\n    }\n\n    .dataframe thead th {\n        text-align: right;\n    }\n</style>\n<table border=\"1\" class=\"dataframe\">\n  <thead>\n    <tr style=\"text-align: right;\">\n      <th></th>\n      <th>No.</th>\n      <th>Time</th>\n      <th>Source</th>\n      <th>Destination</th>\n      <th>Protocol</th>\n      <th>Length</th>\n      <th>Info</th>\n      <th>Source Port</th>\n      <th>Dest Port</th>\n    </tr>\n  </thead>\n  <tbody>\n    <tr>\n      <th>7309</th>\n      <td>7310</td>\n      <td>2018-10-25 01:50:36.411156</td>\n      <td>192.168.2.1</td>\n      <td>255.255.255.255</td>\n      <td>BOOTP</td>\n      <td>350</td>\n      <td>Boot Reply[Packet size limited during capture]</td>\n      <td>67.0</td>\n      <td>68.0</td>\n    </tr>\n    <tr>\n      <th>7310</th>\n      <td>7311</td>\n      <td>2018-10-25 01:50:36.471082</td>\n      <td>192.168.2.110</td>\n      <td>114.114.114.114</td>\n      <td>DNS</td>\n      <td>71</td>\n      <td>Standard query 0x0230 A ntp.eye4.cn</td>\n      <td>48607.0</td>\n      <td>53.0</td>\n    </tr>\n    <tr>\n      <th>7311</th>\n      <td>7312</td>\n      <td>2018-10-25 01:50:36.471536</td>\n      <td>192.168.2.1</td>\n      <td>192.168.2.110</td>\n      <td>ICMP</td>\n      <td>99</td>\n      <td>Destination unreachable (Network unreachable)</td>\n      <td>48607.0</td>\n      <td>53.0</td>\n    </tr>\n    <tr>\n      <th>7312</th>\n      <td>7313</td>\n      <td>2018-10-25 01:50:36.471770</td>\n      <td>Arcadyan_c6:12:7b</td>\n      <td>Tp-LinkT_1c:9c:a6</td>\n      <td>ARP</td>\n      <td>60</td>\n      <td>Who has 192.168.2.117? Tell 192.168.2.1</td>\n      <td>NaN</td>\n      <td>NaN</td>\n    </tr>\n    <tr>\n      <th>7313</th>\n      <td>7314</td>\n      <td>2018-10-25 01:50:36.473013</td>\n      <td>Tp-LinkT_1c:9c:a6</td>\n      <td>Arcadyan_c6:12:7b</td>\n      <td>ARP</td>\n      <td>60</td>\n      <td>192.168.2.117 is at 50:c7:bf:1c:9c:a6</td>\n      <td>NaN</td>\n      <td>NaN</td>\n    </tr>\n    <tr>\n      <th>...</th>\n      <td>...</td>\n      <td>...</td>\n      <td>...</td>\n      <td>...</td>\n      <td>...</td>\n      <td>...</td>\n      <td>...</td>\n      <td>...</td>\n      <td>...</td>\n    </tr>\n    <tr>\n      <th>764132</th>\n      <td>764133</td>\n      <td>2018-10-25 03:45:19.837515</td>\n      <td>Shenzhen_98:ee:fd</td>\n      <td>Broadcast</td>\n      <td>ARP</td>\n      <td>60</td>\n      <td>Who has 192.168.2.165? Tell 192.168.2.110</td>\n      <td>NaN</td>\n      <td>NaN</td>\n    </tr>\n    <tr>\n      <th>764133</th>\n      <td>764134</td>\n      <td>2018-10-25 03:45:19.839396</td>\n      <td>Shenzhen_98:ee:fd</td>\n      <td>Broadcast</td>\n      <td>ARP</td>\n      <td>60</td>\n      <td>Who has 192.168.2.166? Tell 192.168.2.110</td>\n      <td>NaN</td>\n      <td>NaN</td>\n    </tr>\n    <tr>\n      <th>764134</th>\n      <td>764135</td>\n      <td>2018-10-25 03:45:19.840611</td>\n      <td>Shenzhen_98:ee:fd</td>\n      <td>Broadcast</td>\n      <td>ARP</td>\n      <td>60</td>\n      <td>Who has 192.168.2.167? Tell 192.168.2.110</td>\n      <td>NaN</td>\n      <td>NaN</td>\n    </tr>\n    <tr>\n      <th>764135</th>\n      <td>764136</td>\n      <td>2018-10-25 03:45:19.842369</td>\n      <td>Shenzhen_98:ee:fd</td>\n      <td>Broadcast</td>\n      <td>ARP</td>\n      <td>60</td>\n      <td>Who has 192.168.2.168? Tell 192.168.2.110</td>\n      <td>NaN</td>\n      <td>NaN</td>\n    </tr>\n    <tr>\n      <th>764136</th>\n      <td>764137</td>\n      <td>2018-10-25 03:45:19.842464</td>\n      <td>192.168.2.115</td>\n      <td>192.168.2.1</td>\n      <td>DNS</td>\n      <td>119</td>\n      <td>Standard query 0x1e08 AAAA north-america.pool....</td>\n      <td>3570.0</td>\n      <td>53.0</td>\n    </tr>\n  </tbody>\n</table>\n<p>756828 rows × 9 columns</p>\n</div>"
     },
     "metadata": {},
     "execution_count": 21
    }
   ],
   "source": [
    "import datetime\n",
    "\n",
    "timestamps = pd.to_datetime(mirai_data[\"Time\"], format='%Y-%m-%d %H:%M:%S.%f')\n",
    "mirai_data[\"Time\"] = timestamps\n",
    "\n",
    "ref = pd.Timestamp('2018-10-25 01:50:36.406909')\n",
    "mirai_data[mirai_data[\"Time\"] > ref]"
   ]
  },
  {
   "cell_type": "code",
   "execution_count": 22,
   "metadata": {},
   "outputs": [
    {
     "output_type": "execute_result",
     "data": {
      "text/plain": [
       "<AxesSubplot:xlabel='Source,Destination'>"
      ]
     },
     "metadata": {},
     "execution_count": 22
    },
    {
     "output_type": "display_data",
     "data": {
      "text/plain": "<Figure size 432x288 with 1 Axes>",
      "image/svg+xml": "<?xml version=\"1.0\" encoding=\"utf-8\" standalone=\"no\"?>\n<!DOCTYPE svg PUBLIC \"-//W3C//DTD SVG 1.1//EN\"\n  \"http://www.w3.org/Graphics/SVG/1.1/DTD/svg11.dtd\">\n<svg height=\"425.72125pt\" version=\"1.1\" viewBox=\"0 0 373.8 425.72125\" width=\"373.8pt\" xmlns=\"http://www.w3.org/2000/svg\" xmlns:xlink=\"http://www.w3.org/1999/xlink\">\n <metadata>\n  <rdf:RDF xmlns:cc=\"http://creativecommons.org/ns#\" xmlns:dc=\"http://purl.org/dc/elements/1.1/\" xmlns:rdf=\"http://www.w3.org/1999/02/22-rdf-syntax-ns#\">\n   <cc:Work>\n    <dc:type rdf:resource=\"http://purl.org/dc/dcmitype/StillImage\"/>\n    <dc:date>2021-06-22T11:21:24.270490</dc:date>\n    <dc:format>image/svg+xml</dc:format>\n    <dc:creator>\n     <cc:Agent>\n      <dc:title>Matplotlib v3.4.1, https://matplotlib.org/</dc:title>\n     </cc:Agent>\n    </dc:creator>\n   </cc:Work>\n  </rdf:RDF>\n </metadata>\n <defs>\n  <style type=\"text/css\">*{stroke-linecap:butt;stroke-linejoin:round;}</style>\n </defs>\n <g id=\"figure_1\">\n  <g id=\"patch_1\">\n   <path d=\"M 0 425.72125 \nL 373.8 425.72125 \nL 373.8 0 \nL 0 0 \nz\n\" style=\"fill:none;\"/>\n  </g>\n  <g id=\"axes_1\">\n   <g id=\"patch_2\">\n    <path d=\"M 31.8 224.64 \nL 366.6 224.64 \nL 366.6 7.2 \nL 31.8 7.2 \nz\n\" style=\"fill:#ffffff;\"/>\n   </g>\n   <g id=\"patch_3\">\n    <path clip-path=\"url(#p60af68403e)\" d=\"M 40.17 115110.388771 \nL 56.91 115110.388771 \nL 56.91 17.083636 \nL 40.17 17.083636 \nz\n\" style=\"fill:#ff0000;opacity:0.75;\"/>\n   </g>\n   <g id=\"patch_4\">\n    <path clip-path=\"url(#p60af68403e)\" d=\"M 73.65 115110.388771 \nL 90.39 115110.388771 \nL 90.39 181.664521 \nL 73.65 181.664521 \nz\n\" style=\"fill:#008000;opacity:0.75;\"/>\n   </g>\n   <g id=\"patch_5\">\n    <path clip-path=\"url(#p60af68403e)\" d=\"M 107.13 115110.388771 \nL 123.87 115110.388771 \nL 123.87 206.3613 \nL 107.13 206.3613 \nz\n\" style=\"fill:#0000ff;opacity:0.75;\"/>\n   </g>\n   <g id=\"patch_6\">\n    <path clip-path=\"url(#p60af68403e)\" d=\"M 140.61 115110.388771 \nL 157.35 115110.388771 \nL 157.35 208.332162 \nL 140.61 208.332162 \nz\n\" style=\"fill:#ff0000;opacity:0.75;\"/>\n   </g>\n   <g id=\"patch_7\">\n    <path clip-path=\"url(#p60af68403e)\" d=\"M 174.09 115110.388771 \nL 190.83 115110.388771 \nL 190.83 212.518474 \nL 174.09 212.518474 \nz\n\" style=\"fill:#008000;opacity:0.75;\"/>\n   </g>\n   <g id=\"patch_8\">\n    <path clip-path=\"url(#p60af68403e)\" d=\"M 207.57 115110.388771 \nL 224.31 115110.388771 \nL 224.31 212.518474 \nL 207.57 212.518474 \nz\n\" style=\"fill:#0000ff;opacity:0.75;\"/>\n   </g>\n   <g id=\"patch_9\">\n    <path clip-path=\"url(#p60af68403e)\" d=\"M 241.05 115110.388771 \nL 257.79 115110.388771 \nL 257.79 212.518474 \nL 241.05 212.518474 \nz\n\" style=\"fill:#ff0000;opacity:0.75;\"/>\n   </g>\n   <g id=\"patch_10\">\n    <path clip-path=\"url(#p60af68403e)\" d=\"M 274.53 115110.388771 \nL 291.27 115110.388771 \nL 291.27 212.77182 \nL 274.53 212.77182 \nz\n\" style=\"fill:#008000;opacity:0.75;\"/>\n   </g>\n   <g id=\"patch_11\">\n    <path clip-path=\"url(#p60af68403e)\" d=\"M 308.01 115110.388771 \nL 324.75 115110.388771 \nL 324.75 212.829001 \nL 308.01 212.829001 \nz\n\" style=\"fill:#0000ff;opacity:0.75;\"/>\n   </g>\n   <g id=\"patch_12\">\n    <path clip-path=\"url(#p60af68403e)\" d=\"M 341.49 115110.388771 \nL 358.23 115110.388771 \nL 358.23 214.756364 \nL 341.49 214.756364 \nz\n\" style=\"fill:#ff0000;opacity:0.75;\"/>\n   </g>\n   <g id=\"matplotlib.axis_1\">\n    <g id=\"xtick_1\">\n     <g id=\"line2d_1\">\n      <defs>\n       <path d=\"M 0 0 \nL 0 3.5 \n\" id=\"m44da987daf\" style=\"stroke:#000000;stroke-width:0.8;\"/>\n      </defs>\n      <g>\n       <use style=\"stroke:#000000;stroke-width:0.8;\" x=\"48.54\" xlink:href=\"#m44da987daf\" y=\"224.64\"/>\n      </g>\n     </g>\n     <g id=\"text_1\">\n      <!-- (Shenzhen_98:ee:fd, Broadcast) -->\n      <g transform=\"translate(51.160313 391.788437)rotate(-90)scale(0.1 -0.1)\">\n       <defs>\n        <path d=\"M 1984 4856 \nQ 1566 4138 1362 3434 \nQ 1159 2731 1159 2009 \nQ 1159 1288 1364 580 \nQ 1569 -128 1984 -844 \nL 1484 -844 \nQ 1016 -109 783 600 \nQ 550 1309 550 2009 \nQ 550 2706 781 3412 \nQ 1013 4119 1484 4856 \nL 1984 4856 \nz\n\" id=\"DejaVuSans-28\" transform=\"scale(0.015625)\"/>\n        <path d=\"M 3425 4513 \nL 3425 3897 \nQ 3066 4069 2747 4153 \nQ 2428 4238 2131 4238 \nQ 1616 4238 1336 4038 \nQ 1056 3838 1056 3469 \nQ 1056 3159 1242 3001 \nQ 1428 2844 1947 2747 \nL 2328 2669 \nQ 3034 2534 3370 2195 \nQ 3706 1856 3706 1288 \nQ 3706 609 3251 259 \nQ 2797 -91 1919 -91 \nQ 1588 -91 1214 -16 \nQ 841 59 441 206 \nL 441 856 \nQ 825 641 1194 531 \nQ 1563 422 1919 422 \nQ 2459 422 2753 634 \nQ 3047 847 3047 1241 \nQ 3047 1584 2836 1778 \nQ 2625 1972 2144 2069 \nL 1759 2144 \nQ 1053 2284 737 2584 \nQ 422 2884 422 3419 \nQ 422 4038 858 4394 \nQ 1294 4750 2059 4750 \nQ 2388 4750 2728 4690 \nQ 3069 4631 3425 4513 \nz\n\" id=\"DejaVuSans-53\" transform=\"scale(0.015625)\"/>\n        <path d=\"M 3513 2113 \nL 3513 0 \nL 2938 0 \nL 2938 2094 \nQ 2938 2591 2744 2837 \nQ 2550 3084 2163 3084 \nQ 1697 3084 1428 2787 \nQ 1159 2491 1159 1978 \nL 1159 0 \nL 581 0 \nL 581 4863 \nL 1159 4863 \nL 1159 2956 \nQ 1366 3272 1645 3428 \nQ 1925 3584 2291 3584 \nQ 2894 3584 3203 3211 \nQ 3513 2838 3513 2113 \nz\n\" id=\"DejaVuSans-68\" transform=\"scale(0.015625)\"/>\n        <path d=\"M 3597 1894 \nL 3597 1613 \nL 953 1613 \nQ 991 1019 1311 708 \nQ 1631 397 2203 397 \nQ 2534 397 2845 478 \nQ 3156 559 3463 722 \nL 3463 178 \nQ 3153 47 2828 -22 \nQ 2503 -91 2169 -91 \nQ 1331 -91 842 396 \nQ 353 884 353 1716 \nQ 353 2575 817 3079 \nQ 1281 3584 2069 3584 \nQ 2775 3584 3186 3129 \nQ 3597 2675 3597 1894 \nz\nM 3022 2063 \nQ 3016 2534 2758 2815 \nQ 2500 3097 2075 3097 \nQ 1594 3097 1305 2825 \nQ 1016 2553 972 2059 \nL 3022 2063 \nz\n\" id=\"DejaVuSans-65\" transform=\"scale(0.015625)\"/>\n        <path d=\"M 3513 2113 \nL 3513 0 \nL 2938 0 \nL 2938 2094 \nQ 2938 2591 2744 2837 \nQ 2550 3084 2163 3084 \nQ 1697 3084 1428 2787 \nQ 1159 2491 1159 1978 \nL 1159 0 \nL 581 0 \nL 581 3500 \nL 1159 3500 \nL 1159 2956 \nQ 1366 3272 1645 3428 \nQ 1925 3584 2291 3584 \nQ 2894 3584 3203 3211 \nQ 3513 2838 3513 2113 \nz\n\" id=\"DejaVuSans-6e\" transform=\"scale(0.015625)\"/>\n        <path d=\"M 353 3500 \nL 3084 3500 \nL 3084 2975 \nL 922 459 \nL 3084 459 \nL 3084 0 \nL 275 0 \nL 275 525 \nL 2438 3041 \nL 353 3041 \nL 353 3500 \nz\n\" id=\"DejaVuSans-7a\" transform=\"scale(0.015625)\"/>\n        <path d=\"M 3263 -1063 \nL 3263 -1509 \nL -63 -1509 \nL -63 -1063 \nL 3263 -1063 \nz\n\" id=\"DejaVuSans-5f\" transform=\"scale(0.015625)\"/>\n        <path d=\"M 703 97 \nL 703 672 \nQ 941 559 1184 500 \nQ 1428 441 1663 441 \nQ 2288 441 2617 861 \nQ 2947 1281 2994 2138 \nQ 2813 1869 2534 1725 \nQ 2256 1581 1919 1581 \nQ 1219 1581 811 2004 \nQ 403 2428 403 3163 \nQ 403 3881 828 4315 \nQ 1253 4750 1959 4750 \nQ 2769 4750 3195 4129 \nQ 3622 3509 3622 2328 \nQ 3622 1225 3098 567 \nQ 2575 -91 1691 -91 \nQ 1453 -91 1209 -44 \nQ 966 3 703 97 \nz\nM 1959 2075 \nQ 2384 2075 2632 2365 \nQ 2881 2656 2881 3163 \nQ 2881 3666 2632 3958 \nQ 2384 4250 1959 4250 \nQ 1534 4250 1286 3958 \nQ 1038 3666 1038 3163 \nQ 1038 2656 1286 2365 \nQ 1534 2075 1959 2075 \nz\n\" id=\"DejaVuSans-39\" transform=\"scale(0.015625)\"/>\n        <path d=\"M 2034 2216 \nQ 1584 2216 1326 1975 \nQ 1069 1734 1069 1313 \nQ 1069 891 1326 650 \nQ 1584 409 2034 409 \nQ 2484 409 2743 651 \nQ 3003 894 3003 1313 \nQ 3003 1734 2745 1975 \nQ 2488 2216 2034 2216 \nz\nM 1403 2484 \nQ 997 2584 770 2862 \nQ 544 3141 544 3541 \nQ 544 4100 942 4425 \nQ 1341 4750 2034 4750 \nQ 2731 4750 3128 4425 \nQ 3525 4100 3525 3541 \nQ 3525 3141 3298 2862 \nQ 3072 2584 2669 2484 \nQ 3125 2378 3379 2068 \nQ 3634 1759 3634 1313 \nQ 3634 634 3220 271 \nQ 2806 -91 2034 -91 \nQ 1263 -91 848 271 \nQ 434 634 434 1313 \nQ 434 1759 690 2068 \nQ 947 2378 1403 2484 \nz\nM 1172 3481 \nQ 1172 3119 1398 2916 \nQ 1625 2713 2034 2713 \nQ 2441 2713 2670 2916 \nQ 2900 3119 2900 3481 \nQ 2900 3844 2670 4047 \nQ 2441 4250 2034 4250 \nQ 1625 4250 1398 4047 \nQ 1172 3844 1172 3481 \nz\n\" id=\"DejaVuSans-38\" transform=\"scale(0.015625)\"/>\n        <path d=\"M 750 794 \nL 1409 794 \nL 1409 0 \nL 750 0 \nL 750 794 \nz\nM 750 3309 \nL 1409 3309 \nL 1409 2516 \nL 750 2516 \nL 750 3309 \nz\n\" id=\"DejaVuSans-3a\" transform=\"scale(0.015625)\"/>\n        <path d=\"M 2375 4863 \nL 2375 4384 \nL 1825 4384 \nQ 1516 4384 1395 4259 \nQ 1275 4134 1275 3809 \nL 1275 3500 \nL 2222 3500 \nL 2222 3053 \nL 1275 3053 \nL 1275 0 \nL 697 0 \nL 697 3053 \nL 147 3053 \nL 147 3500 \nL 697 3500 \nL 697 3744 \nQ 697 4328 969 4595 \nQ 1241 4863 1831 4863 \nL 2375 4863 \nz\n\" id=\"DejaVuSans-66\" transform=\"scale(0.015625)\"/>\n        <path d=\"M 2906 2969 \nL 2906 4863 \nL 3481 4863 \nL 3481 0 \nL 2906 0 \nL 2906 525 \nQ 2725 213 2448 61 \nQ 2172 -91 1784 -91 \nQ 1150 -91 751 415 \nQ 353 922 353 1747 \nQ 353 2572 751 3078 \nQ 1150 3584 1784 3584 \nQ 2172 3584 2448 3432 \nQ 2725 3281 2906 2969 \nz\nM 947 1747 \nQ 947 1113 1208 752 \nQ 1469 391 1925 391 \nQ 2381 391 2643 752 \nQ 2906 1113 2906 1747 \nQ 2906 2381 2643 2742 \nQ 2381 3103 1925 3103 \nQ 1469 3103 1208 2742 \nQ 947 2381 947 1747 \nz\n\" id=\"DejaVuSans-64\" transform=\"scale(0.015625)\"/>\n        <path d=\"M 750 794 \nL 1409 794 \nL 1409 256 \nL 897 -744 \nL 494 -744 \nL 750 256 \nL 750 794 \nz\n\" id=\"DejaVuSans-2c\" transform=\"scale(0.015625)\"/>\n        <path id=\"DejaVuSans-20\" transform=\"scale(0.015625)\"/>\n        <path d=\"M 1259 2228 \nL 1259 519 \nL 2272 519 \nQ 2781 519 3026 730 \nQ 3272 941 3272 1375 \nQ 3272 1813 3026 2020 \nQ 2781 2228 2272 2228 \nL 1259 2228 \nz\nM 1259 4147 \nL 1259 2741 \nL 2194 2741 \nQ 2656 2741 2882 2914 \nQ 3109 3088 3109 3444 \nQ 3109 3797 2882 3972 \nQ 2656 4147 2194 4147 \nL 1259 4147 \nz\nM 628 4666 \nL 2241 4666 \nQ 2963 4666 3353 4366 \nQ 3744 4066 3744 3513 \nQ 3744 3084 3544 2831 \nQ 3344 2578 2956 2516 \nQ 3422 2416 3680 2098 \nQ 3938 1781 3938 1306 \nQ 3938 681 3513 340 \nQ 3088 0 2303 0 \nL 628 0 \nL 628 4666 \nz\n\" id=\"DejaVuSans-42\" transform=\"scale(0.015625)\"/>\n        <path d=\"M 2631 2963 \nQ 2534 3019 2420 3045 \nQ 2306 3072 2169 3072 \nQ 1681 3072 1420 2755 \nQ 1159 2438 1159 1844 \nL 1159 0 \nL 581 0 \nL 581 3500 \nL 1159 3500 \nL 1159 2956 \nQ 1341 3275 1631 3429 \nQ 1922 3584 2338 3584 \nQ 2397 3584 2469 3576 \nQ 2541 3569 2628 3553 \nL 2631 2963 \nz\n\" id=\"DejaVuSans-72\" transform=\"scale(0.015625)\"/>\n        <path d=\"M 1959 3097 \nQ 1497 3097 1228 2736 \nQ 959 2375 959 1747 \nQ 959 1119 1226 758 \nQ 1494 397 1959 397 \nQ 2419 397 2687 759 \nQ 2956 1122 2956 1747 \nQ 2956 2369 2687 2733 \nQ 2419 3097 1959 3097 \nz\nM 1959 3584 \nQ 2709 3584 3137 3096 \nQ 3566 2609 3566 1747 \nQ 3566 888 3137 398 \nQ 2709 -91 1959 -91 \nQ 1206 -91 779 398 \nQ 353 888 353 1747 \nQ 353 2609 779 3096 \nQ 1206 3584 1959 3584 \nz\n\" id=\"DejaVuSans-6f\" transform=\"scale(0.015625)\"/>\n        <path d=\"M 2194 1759 \nQ 1497 1759 1228 1600 \nQ 959 1441 959 1056 \nQ 959 750 1161 570 \nQ 1363 391 1709 391 \nQ 2188 391 2477 730 \nQ 2766 1069 2766 1631 \nL 2766 1759 \nL 2194 1759 \nz\nM 3341 1997 \nL 3341 0 \nL 2766 0 \nL 2766 531 \nQ 2569 213 2275 61 \nQ 1981 -91 1556 -91 \nQ 1019 -91 701 211 \nQ 384 513 384 1019 \nQ 384 1609 779 1909 \nQ 1175 2209 1959 2209 \nL 2766 2209 \nL 2766 2266 \nQ 2766 2663 2505 2880 \nQ 2244 3097 1772 3097 \nQ 1472 3097 1187 3025 \nQ 903 2953 641 2809 \nL 641 3341 \nQ 956 3463 1253 3523 \nQ 1550 3584 1831 3584 \nQ 2591 3584 2966 3190 \nQ 3341 2797 3341 1997 \nz\n\" id=\"DejaVuSans-61\" transform=\"scale(0.015625)\"/>\n        <path d=\"M 3122 3366 \nL 3122 2828 \nQ 2878 2963 2633 3030 \nQ 2388 3097 2138 3097 \nQ 1578 3097 1268 2742 \nQ 959 2388 959 1747 \nQ 959 1106 1268 751 \nQ 1578 397 2138 397 \nQ 2388 397 2633 464 \nQ 2878 531 3122 666 \nL 3122 134 \nQ 2881 22 2623 -34 \nQ 2366 -91 2075 -91 \nQ 1284 -91 818 406 \nQ 353 903 353 1747 \nQ 353 2603 823 3093 \nQ 1294 3584 2113 3584 \nQ 2378 3584 2631 3529 \nQ 2884 3475 3122 3366 \nz\n\" id=\"DejaVuSans-63\" transform=\"scale(0.015625)\"/>\n        <path d=\"M 2834 3397 \nL 2834 2853 \nQ 2591 2978 2328 3040 \nQ 2066 3103 1784 3103 \nQ 1356 3103 1142 2972 \nQ 928 2841 928 2578 \nQ 928 2378 1081 2264 \nQ 1234 2150 1697 2047 \nL 1894 2003 \nQ 2506 1872 2764 1633 \nQ 3022 1394 3022 966 \nQ 3022 478 2636 193 \nQ 2250 -91 1575 -91 \nQ 1294 -91 989 -36 \nQ 684 19 347 128 \nL 347 722 \nQ 666 556 975 473 \nQ 1284 391 1588 391 \nQ 1994 391 2212 530 \nQ 2431 669 2431 922 \nQ 2431 1156 2273 1281 \nQ 2116 1406 1581 1522 \nL 1381 1569 \nQ 847 1681 609 1914 \nQ 372 2147 372 2553 \nQ 372 3047 722 3315 \nQ 1072 3584 1716 3584 \nQ 2034 3584 2315 3537 \nQ 2597 3491 2834 3397 \nz\n\" id=\"DejaVuSans-73\" transform=\"scale(0.015625)\"/>\n        <path d=\"M 1172 4494 \nL 1172 3500 \nL 2356 3500 \nL 2356 3053 \nL 1172 3053 \nL 1172 1153 \nQ 1172 725 1289 603 \nQ 1406 481 1766 481 \nL 2356 481 \nL 2356 0 \nL 1766 0 \nQ 1100 0 847 248 \nQ 594 497 594 1153 \nL 594 3053 \nL 172 3053 \nL 172 3500 \nL 594 3500 \nL 594 4494 \nL 1172 4494 \nz\n\" id=\"DejaVuSans-74\" transform=\"scale(0.015625)\"/>\n        <path d=\"M 513 4856 \nL 1013 4856 \nQ 1481 4119 1714 3412 \nQ 1947 2706 1947 2009 \nQ 1947 1309 1714 600 \nQ 1481 -109 1013 -844 \nL 513 -844 \nQ 928 -128 1133 580 \nQ 1338 1288 1338 2009 \nQ 1338 2731 1133 3434 \nQ 928 4138 513 4856 \nz\n\" id=\"DejaVuSans-29\" transform=\"scale(0.015625)\"/>\n       </defs>\n       <use xlink:href=\"#DejaVuSans-28\"/>\n       <use x=\"39.013672\" xlink:href=\"#DejaVuSans-53\"/>\n       <use x=\"102.490234\" xlink:href=\"#DejaVuSans-68\"/>\n       <use x=\"165.869141\" xlink:href=\"#DejaVuSans-65\"/>\n       <use x=\"227.392578\" xlink:href=\"#DejaVuSans-6e\"/>\n       <use x=\"290.771484\" xlink:href=\"#DejaVuSans-7a\"/>\n       <use x=\"343.261719\" xlink:href=\"#DejaVuSans-68\"/>\n       <use x=\"406.640625\" xlink:href=\"#DejaVuSans-65\"/>\n       <use x=\"468.164062\" xlink:href=\"#DejaVuSans-6e\"/>\n       <use x=\"531.542969\" xlink:href=\"#DejaVuSans-5f\"/>\n       <use x=\"581.542969\" xlink:href=\"#DejaVuSans-39\"/>\n       <use x=\"645.166016\" xlink:href=\"#DejaVuSans-38\"/>\n       <use x=\"708.789062\" xlink:href=\"#DejaVuSans-3a\"/>\n       <use x=\"742.480469\" xlink:href=\"#DejaVuSans-65\"/>\n       <use x=\"804.003906\" xlink:href=\"#DejaVuSans-65\"/>\n       <use x=\"865.527344\" xlink:href=\"#DejaVuSans-3a\"/>\n       <use x=\"899.21875\" xlink:href=\"#DejaVuSans-66\"/>\n       <use x=\"934.423828\" xlink:href=\"#DejaVuSans-64\"/>\n       <use x=\"997.900391\" xlink:href=\"#DejaVuSans-2c\"/>\n       <use x=\"1029.6875\" xlink:href=\"#DejaVuSans-20\"/>\n       <use x=\"1061.474609\" xlink:href=\"#DejaVuSans-42\"/>\n       <use x=\"1130.078125\" xlink:href=\"#DejaVuSans-72\"/>\n       <use x=\"1168.941406\" xlink:href=\"#DejaVuSans-6f\"/>\n       <use x=\"1230.123047\" xlink:href=\"#DejaVuSans-61\"/>\n       <use x=\"1291.402344\" xlink:href=\"#DejaVuSans-64\"/>\n       <use x=\"1354.878906\" xlink:href=\"#DejaVuSans-63\"/>\n       <use x=\"1409.859375\" xlink:href=\"#DejaVuSans-61\"/>\n       <use x=\"1471.138672\" xlink:href=\"#DejaVuSans-73\"/>\n       <use x=\"1523.238281\" xlink:href=\"#DejaVuSans-74\"/>\n       <use x=\"1562.447266\" xlink:href=\"#DejaVuSans-29\"/>\n      </g>\n     </g>\n    </g>\n    <g id=\"xtick_2\">\n     <g id=\"line2d_2\">\n      <g>\n       <use style=\"stroke:#000000;stroke-width:0.8;\" x=\"82.02\" xlink:href=\"#m44da987daf\" y=\"224.64\"/>\n      </g>\n     </g>\n     <g id=\"text_2\">\n      <!-- (192.168.2.115, 192.168.2.1) -->\n      <g transform=\"translate(84.779375 379.393125)rotate(-90)scale(0.1 -0.1)\">\n       <defs>\n        <path d=\"M 794 531 \nL 1825 531 \nL 1825 4091 \nL 703 3866 \nL 703 4441 \nL 1819 4666 \nL 2450 4666 \nL 2450 531 \nL 3481 531 \nL 3481 0 \nL 794 0 \nL 794 531 \nz\n\" id=\"DejaVuSans-31\" transform=\"scale(0.015625)\"/>\n        <path d=\"M 1228 531 \nL 3431 531 \nL 3431 0 \nL 469 0 \nL 469 531 \nQ 828 903 1448 1529 \nQ 2069 2156 2228 2338 \nQ 2531 2678 2651 2914 \nQ 2772 3150 2772 3378 \nQ 2772 3750 2511 3984 \nQ 2250 4219 1831 4219 \nQ 1534 4219 1204 4116 \nQ 875 4013 500 3803 \nL 500 4441 \nQ 881 4594 1212 4672 \nQ 1544 4750 1819 4750 \nQ 2544 4750 2975 4387 \nQ 3406 4025 3406 3419 \nQ 3406 3131 3298 2873 \nQ 3191 2616 2906 2266 \nQ 2828 2175 2409 1742 \nQ 1991 1309 1228 531 \nz\n\" id=\"DejaVuSans-32\" transform=\"scale(0.015625)\"/>\n        <path d=\"M 684 794 \nL 1344 794 \nL 1344 0 \nL 684 0 \nL 684 794 \nz\n\" id=\"DejaVuSans-2e\" transform=\"scale(0.015625)\"/>\n        <path d=\"M 2113 2584 \nQ 1688 2584 1439 2293 \nQ 1191 2003 1191 1497 \nQ 1191 994 1439 701 \nQ 1688 409 2113 409 \nQ 2538 409 2786 701 \nQ 3034 994 3034 1497 \nQ 3034 2003 2786 2293 \nQ 2538 2584 2113 2584 \nz\nM 3366 4563 \nL 3366 3988 \nQ 3128 4100 2886 4159 \nQ 2644 4219 2406 4219 \nQ 1781 4219 1451 3797 \nQ 1122 3375 1075 2522 \nQ 1259 2794 1537 2939 \nQ 1816 3084 2150 3084 \nQ 2853 3084 3261 2657 \nQ 3669 2231 3669 1497 \nQ 3669 778 3244 343 \nQ 2819 -91 2113 -91 \nQ 1303 -91 875 529 \nQ 447 1150 447 2328 \nQ 447 3434 972 4092 \nQ 1497 4750 2381 4750 \nQ 2619 4750 2861 4703 \nQ 3103 4656 3366 4563 \nz\n\" id=\"DejaVuSans-36\" transform=\"scale(0.015625)\"/>\n        <path d=\"M 691 4666 \nL 3169 4666 \nL 3169 4134 \nL 1269 4134 \nL 1269 2991 \nQ 1406 3038 1543 3061 \nQ 1681 3084 1819 3084 \nQ 2600 3084 3056 2656 \nQ 3513 2228 3513 1497 \nQ 3513 744 3044 326 \nQ 2575 -91 1722 -91 \nQ 1428 -91 1123 -41 \nQ 819 9 494 109 \nL 494 744 \nQ 775 591 1075 516 \nQ 1375 441 1709 441 \nQ 2250 441 2565 725 \nQ 2881 1009 2881 1497 \nQ 2881 1984 2565 2268 \nQ 2250 2553 1709 2553 \nQ 1456 2553 1204 2497 \nQ 953 2441 691 2322 \nL 691 4666 \nz\n\" id=\"DejaVuSans-35\" transform=\"scale(0.015625)\"/>\n       </defs>\n       <use xlink:href=\"#DejaVuSans-28\"/>\n       <use x=\"39.013672\" xlink:href=\"#DejaVuSans-31\"/>\n       <use x=\"102.636719\" xlink:href=\"#DejaVuSans-39\"/>\n       <use x=\"166.259766\" xlink:href=\"#DejaVuSans-32\"/>\n       <use x=\"229.882812\" xlink:href=\"#DejaVuSans-2e\"/>\n       <use x=\"261.669922\" xlink:href=\"#DejaVuSans-31\"/>\n       <use x=\"325.292969\" xlink:href=\"#DejaVuSans-36\"/>\n       <use x=\"388.916016\" xlink:href=\"#DejaVuSans-38\"/>\n       <use x=\"452.539062\" xlink:href=\"#DejaVuSans-2e\"/>\n       <use x=\"484.326172\" xlink:href=\"#DejaVuSans-32\"/>\n       <use x=\"547.949219\" xlink:href=\"#DejaVuSans-2e\"/>\n       <use x=\"579.736328\" xlink:href=\"#DejaVuSans-31\"/>\n       <use x=\"643.359375\" xlink:href=\"#DejaVuSans-31\"/>\n       <use x=\"706.982422\" xlink:href=\"#DejaVuSans-35\"/>\n       <use x=\"770.605469\" xlink:href=\"#DejaVuSans-2c\"/>\n       <use x=\"802.392578\" xlink:href=\"#DejaVuSans-20\"/>\n       <use x=\"834.179688\" xlink:href=\"#DejaVuSans-31\"/>\n       <use x=\"897.802734\" xlink:href=\"#DejaVuSans-39\"/>\n       <use x=\"961.425781\" xlink:href=\"#DejaVuSans-32\"/>\n       <use x=\"1025.048828\" xlink:href=\"#DejaVuSans-2e\"/>\n       <use x=\"1056.835938\" xlink:href=\"#DejaVuSans-31\"/>\n       <use x=\"1120.458984\" xlink:href=\"#DejaVuSans-36\"/>\n       <use x=\"1184.082031\" xlink:href=\"#DejaVuSans-38\"/>\n       <use x=\"1247.705078\" xlink:href=\"#DejaVuSans-2e\"/>\n       <use x=\"1279.492188\" xlink:href=\"#DejaVuSans-32\"/>\n       <use x=\"1343.115234\" xlink:href=\"#DejaVuSans-2e\"/>\n       <use x=\"1374.902344\" xlink:href=\"#DejaVuSans-31\"/>\n       <use x=\"1438.525391\" xlink:href=\"#DejaVuSans-29\"/>\n      </g>\n     </g>\n    </g>\n    <g id=\"xtick_3\">\n     <g id=\"line2d_3\">\n      <g>\n       <use style=\"stroke:#000000;stroke-width:0.8;\" x=\"115.5\" xlink:href=\"#m44da987daf\" y=\"224.64\"/>\n      </g>\n     </g>\n     <g id=\"text_3\">\n      <!-- (192.168.2.1, 192.168.2.113) -->\n      <g transform=\"translate(118.259375 379.393125)rotate(-90)scale(0.1 -0.1)\">\n       <defs>\n        <path d=\"M 2597 2516 \nQ 3050 2419 3304 2112 \nQ 3559 1806 3559 1356 \nQ 3559 666 3084 287 \nQ 2609 -91 1734 -91 \nQ 1441 -91 1130 -33 \nQ 819 25 488 141 \nL 488 750 \nQ 750 597 1062 519 \nQ 1375 441 1716 441 \nQ 2309 441 2620 675 \nQ 2931 909 2931 1356 \nQ 2931 1769 2642 2001 \nQ 2353 2234 1838 2234 \nL 1294 2234 \nL 1294 2753 \nL 1863 2753 \nQ 2328 2753 2575 2939 \nQ 2822 3125 2822 3475 \nQ 2822 3834 2567 4026 \nQ 2313 4219 1838 4219 \nQ 1578 4219 1281 4162 \nQ 984 4106 628 3988 \nL 628 4550 \nQ 988 4650 1302 4700 \nQ 1616 4750 1894 4750 \nQ 2613 4750 3031 4423 \nQ 3450 4097 3450 3541 \nQ 3450 3153 3228 2886 \nQ 3006 2619 2597 2516 \nz\n\" id=\"DejaVuSans-33\" transform=\"scale(0.015625)\"/>\n       </defs>\n       <use xlink:href=\"#DejaVuSans-28\"/>\n       <use x=\"39.013672\" xlink:href=\"#DejaVuSans-31\"/>\n       <use x=\"102.636719\" xlink:href=\"#DejaVuSans-39\"/>\n       <use x=\"166.259766\" xlink:href=\"#DejaVuSans-32\"/>\n       <use x=\"229.882812\" xlink:href=\"#DejaVuSans-2e\"/>\n       <use x=\"261.669922\" xlink:href=\"#DejaVuSans-31\"/>\n       <use x=\"325.292969\" xlink:href=\"#DejaVuSans-36\"/>\n       <use x=\"388.916016\" xlink:href=\"#DejaVuSans-38\"/>\n       <use x=\"452.539062\" xlink:href=\"#DejaVuSans-2e\"/>\n       <use x=\"484.326172\" xlink:href=\"#DejaVuSans-32\"/>\n       <use x=\"547.949219\" xlink:href=\"#DejaVuSans-2e\"/>\n       <use x=\"579.736328\" xlink:href=\"#DejaVuSans-31\"/>\n       <use x=\"643.359375\" xlink:href=\"#DejaVuSans-2c\"/>\n       <use x=\"675.146484\" xlink:href=\"#DejaVuSans-20\"/>\n       <use x=\"706.933594\" xlink:href=\"#DejaVuSans-31\"/>\n       <use x=\"770.556641\" xlink:href=\"#DejaVuSans-39\"/>\n       <use x=\"834.179688\" xlink:href=\"#DejaVuSans-32\"/>\n       <use x=\"897.802734\" xlink:href=\"#DejaVuSans-2e\"/>\n       <use x=\"929.589844\" xlink:href=\"#DejaVuSans-31\"/>\n       <use x=\"993.212891\" xlink:href=\"#DejaVuSans-36\"/>\n       <use x=\"1056.835938\" xlink:href=\"#DejaVuSans-38\"/>\n       <use x=\"1120.458984\" xlink:href=\"#DejaVuSans-2e\"/>\n       <use x=\"1152.246094\" xlink:href=\"#DejaVuSans-32\"/>\n       <use x=\"1215.869141\" xlink:href=\"#DejaVuSans-2e\"/>\n       <use x=\"1247.65625\" xlink:href=\"#DejaVuSans-31\"/>\n       <use x=\"1311.279297\" xlink:href=\"#DejaVuSans-31\"/>\n       <use x=\"1374.902344\" xlink:href=\"#DejaVuSans-33\"/>\n       <use x=\"1438.525391\" xlink:href=\"#DejaVuSans-29\"/>\n      </g>\n     </g>\n    </g>\n    <g id=\"xtick_4\">\n     <g id=\"line2d_4\">\n      <g>\n       <use style=\"stroke:#000000;stroke-width:0.8;\" x=\"148.98\" xlink:href=\"#m44da987daf\" y=\"224.64\"/>\n      </g>\n     </g>\n     <g id=\"text_4\">\n      <!-- (192.168.2.1, 192.168.2.108) -->\n      <g transform=\"translate(151.739375 379.393125)rotate(-90)scale(0.1 -0.1)\">\n       <defs>\n        <path d=\"M 2034 4250 \nQ 1547 4250 1301 3770 \nQ 1056 3291 1056 2328 \nQ 1056 1369 1301 889 \nQ 1547 409 2034 409 \nQ 2525 409 2770 889 \nQ 3016 1369 3016 2328 \nQ 3016 3291 2770 3770 \nQ 2525 4250 2034 4250 \nz\nM 2034 4750 \nQ 2819 4750 3233 4129 \nQ 3647 3509 3647 2328 \nQ 3647 1150 3233 529 \nQ 2819 -91 2034 -91 \nQ 1250 -91 836 529 \nQ 422 1150 422 2328 \nQ 422 3509 836 4129 \nQ 1250 4750 2034 4750 \nz\n\" id=\"DejaVuSans-30\" transform=\"scale(0.015625)\"/>\n       </defs>\n       <use xlink:href=\"#DejaVuSans-28\"/>\n       <use x=\"39.013672\" xlink:href=\"#DejaVuSans-31\"/>\n       <use x=\"102.636719\" xlink:href=\"#DejaVuSans-39\"/>\n       <use x=\"166.259766\" xlink:href=\"#DejaVuSans-32\"/>\n       <use x=\"229.882812\" xlink:href=\"#DejaVuSans-2e\"/>\n       <use x=\"261.669922\" xlink:href=\"#DejaVuSans-31\"/>\n       <use x=\"325.292969\" xlink:href=\"#DejaVuSans-36\"/>\n       <use x=\"388.916016\" xlink:href=\"#DejaVuSans-38\"/>\n       <use x=\"452.539062\" xlink:href=\"#DejaVuSans-2e\"/>\n       <use x=\"484.326172\" xlink:href=\"#DejaVuSans-32\"/>\n       <use x=\"547.949219\" xlink:href=\"#DejaVuSans-2e\"/>\n       <use x=\"579.736328\" xlink:href=\"#DejaVuSans-31\"/>\n       <use x=\"643.359375\" xlink:href=\"#DejaVuSans-2c\"/>\n       <use x=\"675.146484\" xlink:href=\"#DejaVuSans-20\"/>\n       <use x=\"706.933594\" xlink:href=\"#DejaVuSans-31\"/>\n       <use x=\"770.556641\" xlink:href=\"#DejaVuSans-39\"/>\n       <use x=\"834.179688\" xlink:href=\"#DejaVuSans-32\"/>\n       <use x=\"897.802734\" xlink:href=\"#DejaVuSans-2e\"/>\n       <use x=\"929.589844\" xlink:href=\"#DejaVuSans-31\"/>\n       <use x=\"993.212891\" xlink:href=\"#DejaVuSans-36\"/>\n       <use x=\"1056.835938\" xlink:href=\"#DejaVuSans-38\"/>\n       <use x=\"1120.458984\" xlink:href=\"#DejaVuSans-2e\"/>\n       <use x=\"1152.246094\" xlink:href=\"#DejaVuSans-32\"/>\n       <use x=\"1215.869141\" xlink:href=\"#DejaVuSans-2e\"/>\n       <use x=\"1247.65625\" xlink:href=\"#DejaVuSans-31\"/>\n       <use x=\"1311.279297\" xlink:href=\"#DejaVuSans-30\"/>\n       <use x=\"1374.902344\" xlink:href=\"#DejaVuSans-38\"/>\n       <use x=\"1438.525391\" xlink:href=\"#DejaVuSans-29\"/>\n      </g>\n     </g>\n    </g>\n    <g id=\"xtick_5\">\n     <g id=\"line2d_5\">\n      <g>\n       <use style=\"stroke:#000000;stroke-width:0.8;\" x=\"182.46\" xlink:href=\"#m44da987daf\" y=\"224.64\"/>\n      </g>\n     </g>\n     <g id=\"text_5\">\n      <!-- (192.168.2.108, 122.248.234.207) -->\n      <g transform=\"translate(185.219375 404.843125)rotate(-90)scale(0.1 -0.1)\">\n       <defs>\n        <path d=\"M 2419 4116 \nL 825 1625 \nL 2419 1625 \nL 2419 4116 \nz\nM 2253 4666 \nL 3047 4666 \nL 3047 1625 \nL 3713 1625 \nL 3713 1100 \nL 3047 1100 \nL 3047 0 \nL 2419 0 \nL 2419 1100 \nL 313 1100 \nL 313 1709 \nL 2253 4666 \nz\n\" id=\"DejaVuSans-34\" transform=\"scale(0.015625)\"/>\n        <path d=\"M 525 4666 \nL 3525 4666 \nL 3525 4397 \nL 1831 0 \nL 1172 0 \nL 2766 4134 \nL 525 4134 \nL 525 4666 \nz\n\" id=\"DejaVuSans-37\" transform=\"scale(0.015625)\"/>\n       </defs>\n       <use xlink:href=\"#DejaVuSans-28\"/>\n       <use x=\"39.013672\" xlink:href=\"#DejaVuSans-31\"/>\n       <use x=\"102.636719\" xlink:href=\"#DejaVuSans-39\"/>\n       <use x=\"166.259766\" xlink:href=\"#DejaVuSans-32\"/>\n       <use x=\"229.882812\" xlink:href=\"#DejaVuSans-2e\"/>\n       <use x=\"261.669922\" xlink:href=\"#DejaVuSans-31\"/>\n       <use x=\"325.292969\" xlink:href=\"#DejaVuSans-36\"/>\n       <use x=\"388.916016\" xlink:href=\"#DejaVuSans-38\"/>\n       <use x=\"452.539062\" xlink:href=\"#DejaVuSans-2e\"/>\n       <use x=\"484.326172\" xlink:href=\"#DejaVuSans-32\"/>\n       <use x=\"547.949219\" xlink:href=\"#DejaVuSans-2e\"/>\n       <use x=\"579.736328\" xlink:href=\"#DejaVuSans-31\"/>\n       <use x=\"643.359375\" xlink:href=\"#DejaVuSans-30\"/>\n       <use x=\"706.982422\" xlink:href=\"#DejaVuSans-38\"/>\n       <use x=\"770.605469\" xlink:href=\"#DejaVuSans-2c\"/>\n       <use x=\"802.392578\" xlink:href=\"#DejaVuSans-20\"/>\n       <use x=\"834.179688\" xlink:href=\"#DejaVuSans-31\"/>\n       <use x=\"897.802734\" xlink:href=\"#DejaVuSans-32\"/>\n       <use x=\"961.425781\" xlink:href=\"#DejaVuSans-32\"/>\n       <use x=\"1025.048828\" xlink:href=\"#DejaVuSans-2e\"/>\n       <use x=\"1056.835938\" xlink:href=\"#DejaVuSans-32\"/>\n       <use x=\"1120.458984\" xlink:href=\"#DejaVuSans-34\"/>\n       <use x=\"1184.082031\" xlink:href=\"#DejaVuSans-38\"/>\n       <use x=\"1247.705078\" xlink:href=\"#DejaVuSans-2e\"/>\n       <use x=\"1279.492188\" xlink:href=\"#DejaVuSans-32\"/>\n       <use x=\"1343.115234\" xlink:href=\"#DejaVuSans-33\"/>\n       <use x=\"1406.738281\" xlink:href=\"#DejaVuSans-34\"/>\n       <use x=\"1470.361328\" xlink:href=\"#DejaVuSans-2e\"/>\n       <use x=\"1502.148438\" xlink:href=\"#DejaVuSans-32\"/>\n       <use x=\"1565.771484\" xlink:href=\"#DejaVuSans-30\"/>\n       <use x=\"1629.394531\" xlink:href=\"#DejaVuSans-37\"/>\n       <use x=\"1693.017578\" xlink:href=\"#DejaVuSans-29\"/>\n      </g>\n     </g>\n    </g>\n    <g id=\"xtick_6\">\n     <g id=\"line2d_6\">\n      <g>\n       <use style=\"stroke:#000000;stroke-width:0.8;\" x=\"215.94\" xlink:href=\"#m44da987daf\" y=\"224.64\"/>\n      </g>\n     </g>\n     <g id=\"text_6\">\n      <!-- (192.168.2.108, 46.137.188.54) -->\n      <g transform=\"translate(218.699375 392.118125)rotate(-90)scale(0.1 -0.1)\">\n       <use xlink:href=\"#DejaVuSans-28\"/>\n       <use x=\"39.013672\" xlink:href=\"#DejaVuSans-31\"/>\n       <use x=\"102.636719\" xlink:href=\"#DejaVuSans-39\"/>\n       <use x=\"166.259766\" xlink:href=\"#DejaVuSans-32\"/>\n       <use x=\"229.882812\" xlink:href=\"#DejaVuSans-2e\"/>\n       <use x=\"261.669922\" xlink:href=\"#DejaVuSans-31\"/>\n       <use x=\"325.292969\" xlink:href=\"#DejaVuSans-36\"/>\n       <use x=\"388.916016\" xlink:href=\"#DejaVuSans-38\"/>\n       <use x=\"452.539062\" xlink:href=\"#DejaVuSans-2e\"/>\n       <use x=\"484.326172\" xlink:href=\"#DejaVuSans-32\"/>\n       <use x=\"547.949219\" xlink:href=\"#DejaVuSans-2e\"/>\n       <use x=\"579.736328\" xlink:href=\"#DejaVuSans-31\"/>\n       <use x=\"643.359375\" xlink:href=\"#DejaVuSans-30\"/>\n       <use x=\"706.982422\" xlink:href=\"#DejaVuSans-38\"/>\n       <use x=\"770.605469\" xlink:href=\"#DejaVuSans-2c\"/>\n       <use x=\"802.392578\" xlink:href=\"#DejaVuSans-20\"/>\n       <use x=\"834.179688\" xlink:href=\"#DejaVuSans-34\"/>\n       <use x=\"897.802734\" xlink:href=\"#DejaVuSans-36\"/>\n       <use x=\"961.425781\" xlink:href=\"#DejaVuSans-2e\"/>\n       <use x=\"993.212891\" xlink:href=\"#DejaVuSans-31\"/>\n       <use x=\"1056.835938\" xlink:href=\"#DejaVuSans-33\"/>\n       <use x=\"1120.458984\" xlink:href=\"#DejaVuSans-37\"/>\n       <use x=\"1184.082031\" xlink:href=\"#DejaVuSans-2e\"/>\n       <use x=\"1215.869141\" xlink:href=\"#DejaVuSans-31\"/>\n       <use x=\"1279.492188\" xlink:href=\"#DejaVuSans-38\"/>\n       <use x=\"1343.115234\" xlink:href=\"#DejaVuSans-38\"/>\n       <use x=\"1406.738281\" xlink:href=\"#DejaVuSans-2e\"/>\n       <use x=\"1438.525391\" xlink:href=\"#DejaVuSans-35\"/>\n       <use x=\"1502.148438\" xlink:href=\"#DejaVuSans-34\"/>\n       <use x=\"1565.771484\" xlink:href=\"#DejaVuSans-29\"/>\n      </g>\n     </g>\n    </g>\n    <g id=\"xtick_7\">\n     <g id=\"line2d_7\">\n      <g>\n       <use style=\"stroke:#000000;stroke-width:0.8;\" x=\"249.42\" xlink:href=\"#m44da987daf\" y=\"224.64\"/>\n      </g>\n     </g>\n     <g id=\"text_7\">\n      <!-- (192.168.2.108, 50.19.254.134) -->\n      <g transform=\"translate(252.179375 392.118125)rotate(-90)scale(0.1 -0.1)\">\n       <use xlink:href=\"#DejaVuSans-28\"/>\n       <use x=\"39.013672\" xlink:href=\"#DejaVuSans-31\"/>\n       <use x=\"102.636719\" xlink:href=\"#DejaVuSans-39\"/>\n       <use x=\"166.259766\" xlink:href=\"#DejaVuSans-32\"/>\n       <use x=\"229.882812\" xlink:href=\"#DejaVuSans-2e\"/>\n       <use x=\"261.669922\" xlink:href=\"#DejaVuSans-31\"/>\n       <use x=\"325.292969\" xlink:href=\"#DejaVuSans-36\"/>\n       <use x=\"388.916016\" xlink:href=\"#DejaVuSans-38\"/>\n       <use x=\"452.539062\" xlink:href=\"#DejaVuSans-2e\"/>\n       <use x=\"484.326172\" xlink:href=\"#DejaVuSans-32\"/>\n       <use x=\"547.949219\" xlink:href=\"#DejaVuSans-2e\"/>\n       <use x=\"579.736328\" xlink:href=\"#DejaVuSans-31\"/>\n       <use x=\"643.359375\" xlink:href=\"#DejaVuSans-30\"/>\n       <use x=\"706.982422\" xlink:href=\"#DejaVuSans-38\"/>\n       <use x=\"770.605469\" xlink:href=\"#DejaVuSans-2c\"/>\n       <use x=\"802.392578\" xlink:href=\"#DejaVuSans-20\"/>\n       <use x=\"834.179688\" xlink:href=\"#DejaVuSans-35\"/>\n       <use x=\"897.802734\" xlink:href=\"#DejaVuSans-30\"/>\n       <use x=\"961.425781\" xlink:href=\"#DejaVuSans-2e\"/>\n       <use x=\"993.212891\" xlink:href=\"#DejaVuSans-31\"/>\n       <use x=\"1056.835938\" xlink:href=\"#DejaVuSans-39\"/>\n       <use x=\"1120.458984\" xlink:href=\"#DejaVuSans-2e\"/>\n       <use x=\"1152.246094\" xlink:href=\"#DejaVuSans-32\"/>\n       <use x=\"1215.869141\" xlink:href=\"#DejaVuSans-35\"/>\n       <use x=\"1279.492188\" xlink:href=\"#DejaVuSans-34\"/>\n       <use x=\"1343.115234\" xlink:href=\"#DejaVuSans-2e\"/>\n       <use x=\"1374.902344\" xlink:href=\"#DejaVuSans-31\"/>\n       <use x=\"1438.525391\" xlink:href=\"#DejaVuSans-33\"/>\n       <use x=\"1502.148438\" xlink:href=\"#DejaVuSans-34\"/>\n       <use x=\"1565.771484\" xlink:href=\"#DejaVuSans-29\"/>\n      </g>\n     </g>\n    </g>\n    <g id=\"xtick_8\">\n     <g id=\"line2d_8\">\n      <g>\n       <use style=\"stroke:#000000;stroke-width:0.8;\" x=\"282.9\" xlink:href=\"#m44da987daf\" y=\"224.64\"/>\n      </g>\n     </g>\n     <g id=\"text_8\">\n      <!-- (192.168.2.108, 122.226.84.253) -->\n      <g transform=\"translate(285.659375 398.480625)rotate(-90)scale(0.1 -0.1)\">\n       <use xlink:href=\"#DejaVuSans-28\"/>\n       <use x=\"39.013672\" xlink:href=\"#DejaVuSans-31\"/>\n       <use x=\"102.636719\" xlink:href=\"#DejaVuSans-39\"/>\n       <use x=\"166.259766\" xlink:href=\"#DejaVuSans-32\"/>\n       <use x=\"229.882812\" xlink:href=\"#DejaVuSans-2e\"/>\n       <use x=\"261.669922\" xlink:href=\"#DejaVuSans-31\"/>\n       <use x=\"325.292969\" xlink:href=\"#DejaVuSans-36\"/>\n       <use x=\"388.916016\" xlink:href=\"#DejaVuSans-38\"/>\n       <use x=\"452.539062\" xlink:href=\"#DejaVuSans-2e\"/>\n       <use x=\"484.326172\" xlink:href=\"#DejaVuSans-32\"/>\n       <use x=\"547.949219\" xlink:href=\"#DejaVuSans-2e\"/>\n       <use x=\"579.736328\" xlink:href=\"#DejaVuSans-31\"/>\n       <use x=\"643.359375\" xlink:href=\"#DejaVuSans-30\"/>\n       <use x=\"706.982422\" xlink:href=\"#DejaVuSans-38\"/>\n       <use x=\"770.605469\" xlink:href=\"#DejaVuSans-2c\"/>\n       <use x=\"802.392578\" xlink:href=\"#DejaVuSans-20\"/>\n       <use x=\"834.179688\" xlink:href=\"#DejaVuSans-31\"/>\n       <use x=\"897.802734\" xlink:href=\"#DejaVuSans-32\"/>\n       <use x=\"961.425781\" xlink:href=\"#DejaVuSans-32\"/>\n       <use x=\"1025.048828\" xlink:href=\"#DejaVuSans-2e\"/>\n       <use x=\"1056.835938\" xlink:href=\"#DejaVuSans-32\"/>\n       <use x=\"1120.458984\" xlink:href=\"#DejaVuSans-32\"/>\n       <use x=\"1184.082031\" xlink:href=\"#DejaVuSans-36\"/>\n       <use x=\"1247.705078\" xlink:href=\"#DejaVuSans-2e\"/>\n       <use x=\"1279.492188\" xlink:href=\"#DejaVuSans-38\"/>\n       <use x=\"1343.115234\" xlink:href=\"#DejaVuSans-34\"/>\n       <use x=\"1406.738281\" xlink:href=\"#DejaVuSans-2e\"/>\n       <use x=\"1438.525391\" xlink:href=\"#DejaVuSans-32\"/>\n       <use x=\"1502.148438\" xlink:href=\"#DejaVuSans-35\"/>\n       <use x=\"1565.771484\" xlink:href=\"#DejaVuSans-33\"/>\n       <use x=\"1629.394531\" xlink:href=\"#DejaVuSans-29\"/>\n      </g>\n     </g>\n    </g>\n    <g id=\"xtick_9\">\n     <g id=\"line2d_9\">\n      <g>\n       <use style=\"stroke:#000000;stroke-width:0.8;\" x=\"316.38\" xlink:href=\"#m44da987daf\" y=\"224.64\"/>\n      </g>\n     </g>\n     <g id=\"text_9\">\n      <!-- (192.168.2.108, 61.188.37.216) -->\n      <g transform=\"translate(319.139375 392.118125)rotate(-90)scale(0.1 -0.1)\">\n       <use xlink:href=\"#DejaVuSans-28\"/>\n       <use x=\"39.013672\" xlink:href=\"#DejaVuSans-31\"/>\n       <use x=\"102.636719\" xlink:href=\"#DejaVuSans-39\"/>\n       <use x=\"166.259766\" xlink:href=\"#DejaVuSans-32\"/>\n       <use x=\"229.882812\" xlink:href=\"#DejaVuSans-2e\"/>\n       <use x=\"261.669922\" xlink:href=\"#DejaVuSans-31\"/>\n       <use x=\"325.292969\" xlink:href=\"#DejaVuSans-36\"/>\n       <use x=\"388.916016\" xlink:href=\"#DejaVuSans-38\"/>\n       <use x=\"452.539062\" xlink:href=\"#DejaVuSans-2e\"/>\n       <use x=\"484.326172\" xlink:href=\"#DejaVuSans-32\"/>\n       <use x=\"547.949219\" xlink:href=\"#DejaVuSans-2e\"/>\n       <use x=\"579.736328\" xlink:href=\"#DejaVuSans-31\"/>\n       <use x=\"643.359375\" xlink:href=\"#DejaVuSans-30\"/>\n       <use x=\"706.982422\" xlink:href=\"#DejaVuSans-38\"/>\n       <use x=\"770.605469\" xlink:href=\"#DejaVuSans-2c\"/>\n       <use x=\"802.392578\" xlink:href=\"#DejaVuSans-20\"/>\n       <use x=\"834.179688\" xlink:href=\"#DejaVuSans-36\"/>\n       <use x=\"897.802734\" xlink:href=\"#DejaVuSans-31\"/>\n       <use x=\"961.425781\" xlink:href=\"#DejaVuSans-2e\"/>\n       <use x=\"993.212891\" xlink:href=\"#DejaVuSans-31\"/>\n       <use x=\"1056.835938\" xlink:href=\"#DejaVuSans-38\"/>\n       <use x=\"1120.458984\" xlink:href=\"#DejaVuSans-38\"/>\n       <use x=\"1184.082031\" xlink:href=\"#DejaVuSans-2e\"/>\n       <use x=\"1215.869141\" xlink:href=\"#DejaVuSans-33\"/>\n       <use x=\"1279.492188\" xlink:href=\"#DejaVuSans-37\"/>\n       <use x=\"1343.115234\" xlink:href=\"#DejaVuSans-2e\"/>\n       <use x=\"1374.902344\" xlink:href=\"#DejaVuSans-32\"/>\n       <use x=\"1438.525391\" xlink:href=\"#DejaVuSans-31\"/>\n       <use x=\"1502.148438\" xlink:href=\"#DejaVuSans-36\"/>\n       <use x=\"1565.771484\" xlink:href=\"#DejaVuSans-29\"/>\n      </g>\n     </g>\n    </g>\n    <g id=\"xtick_10\">\n     <g id=\"line2d_10\">\n      <g>\n       <use style=\"stroke:#000000;stroke-width:0.8;\" x=\"349.86\" xlink:href=\"#m44da987daf\" y=\"224.64\"/>\n      </g>\n     </g>\n     <g id=\"text_10\">\n      <!-- (192.168.2.101, 192.168.2.110) -->\n      <g transform=\"translate(352.619375 392.118125)rotate(-90)scale(0.1 -0.1)\">\n       <use xlink:href=\"#DejaVuSans-28\"/>\n       <use x=\"39.013672\" xlink:href=\"#DejaVuSans-31\"/>\n       <use x=\"102.636719\" xlink:href=\"#DejaVuSans-39\"/>\n       <use x=\"166.259766\" xlink:href=\"#DejaVuSans-32\"/>\n       <use x=\"229.882812\" xlink:href=\"#DejaVuSans-2e\"/>\n       <use x=\"261.669922\" xlink:href=\"#DejaVuSans-31\"/>\n       <use x=\"325.292969\" xlink:href=\"#DejaVuSans-36\"/>\n       <use x=\"388.916016\" xlink:href=\"#DejaVuSans-38\"/>\n       <use x=\"452.539062\" xlink:href=\"#DejaVuSans-2e\"/>\n       <use x=\"484.326172\" xlink:href=\"#DejaVuSans-32\"/>\n       <use x=\"547.949219\" xlink:href=\"#DejaVuSans-2e\"/>\n       <use x=\"579.736328\" xlink:href=\"#DejaVuSans-31\"/>\n       <use x=\"643.359375\" xlink:href=\"#DejaVuSans-30\"/>\n       <use x=\"706.982422\" xlink:href=\"#DejaVuSans-31\"/>\n       <use x=\"770.605469\" xlink:href=\"#DejaVuSans-2c\"/>\n       <use x=\"802.392578\" xlink:href=\"#DejaVuSans-20\"/>\n       <use x=\"834.179688\" xlink:href=\"#DejaVuSans-31\"/>\n       <use x=\"897.802734\" xlink:href=\"#DejaVuSans-39\"/>\n       <use x=\"961.425781\" xlink:href=\"#DejaVuSans-32\"/>\n       <use x=\"1025.048828\" xlink:href=\"#DejaVuSans-2e\"/>\n       <use x=\"1056.835938\" xlink:href=\"#DejaVuSans-31\"/>\n       <use x=\"1120.458984\" xlink:href=\"#DejaVuSans-36\"/>\n       <use x=\"1184.082031\" xlink:href=\"#DejaVuSans-38\"/>\n       <use x=\"1247.705078\" xlink:href=\"#DejaVuSans-2e\"/>\n       <use x=\"1279.492188\" xlink:href=\"#DejaVuSans-32\"/>\n       <use x=\"1343.115234\" xlink:href=\"#DejaVuSans-2e\"/>\n       <use x=\"1374.902344\" xlink:href=\"#DejaVuSans-31\"/>\n       <use x=\"1438.525391\" xlink:href=\"#DejaVuSans-31\"/>\n       <use x=\"1502.148438\" xlink:href=\"#DejaVuSans-30\"/>\n       <use x=\"1565.771484\" xlink:href=\"#DejaVuSans-29\"/>\n      </g>\n     </g>\n    </g>\n    <g id=\"text_11\">\n     <!-- Source,Destination -->\n     <g transform=\"translate(151.749219 416.441563)scale(0.1 -0.1)\">\n      <defs>\n       <path d=\"M 544 1381 \nL 544 3500 \nL 1119 3500 \nL 1119 1403 \nQ 1119 906 1312 657 \nQ 1506 409 1894 409 \nQ 2359 409 2629 706 \nQ 2900 1003 2900 1516 \nL 2900 3500 \nL 3475 3500 \nL 3475 0 \nL 2900 0 \nL 2900 538 \nQ 2691 219 2414 64 \nQ 2138 -91 1772 -91 \nQ 1169 -91 856 284 \nQ 544 659 544 1381 \nz\nM 1991 3584 \nL 1991 3584 \nz\n\" id=\"DejaVuSans-75\" transform=\"scale(0.015625)\"/>\n       <path d=\"M 1259 4147 \nL 1259 519 \nL 2022 519 \nQ 2988 519 3436 956 \nQ 3884 1394 3884 2338 \nQ 3884 3275 3436 3711 \nQ 2988 4147 2022 4147 \nL 1259 4147 \nz\nM 628 4666 \nL 1925 4666 \nQ 3281 4666 3915 4102 \nQ 4550 3538 4550 2338 \nQ 4550 1131 3912 565 \nQ 3275 0 1925 0 \nL 628 0 \nL 628 4666 \nz\n\" id=\"DejaVuSans-44\" transform=\"scale(0.015625)\"/>\n       <path d=\"M 603 3500 \nL 1178 3500 \nL 1178 0 \nL 603 0 \nL 603 3500 \nz\nM 603 4863 \nL 1178 4863 \nL 1178 4134 \nL 603 4134 \nL 603 4863 \nz\n\" id=\"DejaVuSans-69\" transform=\"scale(0.015625)\"/>\n      </defs>\n      <use xlink:href=\"#DejaVuSans-53\"/>\n      <use x=\"63.476562\" xlink:href=\"#DejaVuSans-6f\"/>\n      <use x=\"124.658203\" xlink:href=\"#DejaVuSans-75\"/>\n      <use x=\"188.037109\" xlink:href=\"#DejaVuSans-72\"/>\n      <use x=\"226.900391\" xlink:href=\"#DejaVuSans-63\"/>\n      <use x=\"281.880859\" xlink:href=\"#DejaVuSans-65\"/>\n      <use x=\"343.404297\" xlink:href=\"#DejaVuSans-2c\"/>\n      <use x=\"375.191406\" xlink:href=\"#DejaVuSans-44\"/>\n      <use x=\"452.193359\" xlink:href=\"#DejaVuSans-65\"/>\n      <use x=\"513.716797\" xlink:href=\"#DejaVuSans-73\"/>\n      <use x=\"565.816406\" xlink:href=\"#DejaVuSans-74\"/>\n      <use x=\"605.025391\" xlink:href=\"#DejaVuSans-69\"/>\n      <use x=\"632.808594\" xlink:href=\"#DejaVuSans-6e\"/>\n      <use x=\"696.1875\" xlink:href=\"#DejaVuSans-61\"/>\n      <use x=\"757.466797\" xlink:href=\"#DejaVuSans-74\"/>\n      <use x=\"796.675781\" xlink:href=\"#DejaVuSans-69\"/>\n      <use x=\"824.458984\" xlink:href=\"#DejaVuSans-6f\"/>\n      <use x=\"885.640625\" xlink:href=\"#DejaVuSans-6e\"/>\n     </g>\n    </g>\n   </g>\n   <g id=\"matplotlib.axis_2\">\n    <g id=\"ytick_1\">\n     <g id=\"line2d_11\">\n      <defs>\n       <path d=\"M 0 0 \nL -3.5 0 \n\" id=\"mfe69357d46\" style=\"stroke:#000000;stroke-width:0.8;\"/>\n      </defs>\n      <g>\n       <use style=\"stroke:#000000;stroke-width:0.8;\" x=\"31.8\" xlink:href=\"#mfe69357d46\" y=\"190.682525\"/>\n      </g>\n     </g>\n     <g id=\"text_12\">\n      <!-- $\\mathdefault{10^{6}}$ -->\n      <g transform=\"translate(7.2 194.481743)scale(0.1 -0.1)\">\n       <use transform=\"translate(0 0.765625)\" xlink:href=\"#DejaVuSans-31\"/>\n       <use transform=\"translate(63.623047 0.765625)\" xlink:href=\"#DejaVuSans-30\"/>\n       <use transform=\"translate(128.203125 39.046875)scale(0.7)\" xlink:href=\"#DejaVuSans-36\"/>\n      </g>\n     </g>\n    </g>\n    <g id=\"ytick_2\">\n     <g id=\"line2d_12\">\n      <g>\n       <use style=\"stroke:#000000;stroke-width:0.8;\" x=\"31.8\" xlink:href=\"#mfe69357d46\" y=\"76.448224\"/>\n      </g>\n     </g>\n     <g id=\"text_13\">\n      <!-- $\\mathdefault{10^{7}}$ -->\n      <g transform=\"translate(7.2 80.247443)scale(0.1 -0.1)\">\n       <use transform=\"translate(0 0.684375)\" xlink:href=\"#DejaVuSans-31\"/>\n       <use transform=\"translate(63.623047 0.684375)\" xlink:href=\"#DejaVuSans-30\"/>\n       <use transform=\"translate(128.203125 38.965625)scale(0.7)\" xlink:href=\"#DejaVuSans-37\"/>\n      </g>\n     </g>\n    </g>\n    <g id=\"ytick_3\">\n     <g id=\"line2d_13\">\n      <defs>\n       <path d=\"M 0 0 \nL -2 0 \n\" id=\"m71cb15bed6\" style=\"stroke:#000000;stroke-width:0.6;\"/>\n      </defs>\n      <g>\n       <use style=\"stroke:#000000;stroke-width:0.6;\" x=\"31.8\" xlink:href=\"#m71cb15bed6\" y=\"216.025261\"/>\n      </g>\n     </g>\n    </g>\n    <g id=\"ytick_4\">\n     <g id=\"line2d_14\">\n      <g>\n       <use style=\"stroke:#000000;stroke-width:0.6;\" x=\"31.8\" xlink:href=\"#m71cb15bed6\" y=\"208.377642\"/>\n      </g>\n     </g>\n    </g>\n    <g id=\"ytick_5\">\n     <g id=\"line2d_15\">\n      <g>\n       <use style=\"stroke:#000000;stroke-width:0.6;\" x=\"31.8\" xlink:href=\"#m71cb15bed6\" y=\"201.752972\"/>\n      </g>\n     </g>\n    </g>\n    <g id=\"ytick_6\">\n     <g id=\"line2d_16\">\n      <g>\n       <use style=\"stroke:#000000;stroke-width:0.6;\" x=\"31.8\" xlink:href=\"#m71cb15bed6\" y=\"195.9096\"/>\n      </g>\n     </g>\n    </g>\n    <g id=\"ytick_7\">\n     <g id=\"line2d_17\">\n      <g>\n       <use style=\"stroke:#000000;stroke-width:0.6;\" x=\"31.8\" xlink:href=\"#m71cb15bed6\" y=\"156.294574\"/>\n      </g>\n     </g>\n    </g>\n    <g id=\"ytick_8\">\n     <g id=\"line2d_18\">\n      <g>\n       <use style=\"stroke:#000000;stroke-width:0.6;\" x=\"31.8\" xlink:href=\"#m71cb15bed6\" y=\"136.178912\"/>\n      </g>\n     </g>\n    </g>\n    <g id=\"ytick_9\">\n     <g id=\"line2d_19\">\n      <g>\n       <use style=\"stroke:#000000;stroke-width:0.6;\" x=\"31.8\" xlink:href=\"#m71cb15bed6\" y=\"121.906623\"/>\n      </g>\n     </g>\n    </g>\n    <g id=\"ytick_10\">\n     <g id=\"line2d_20\">\n      <g>\n       <use style=\"stroke:#000000;stroke-width:0.6;\" x=\"31.8\" xlink:href=\"#m71cb15bed6\" y=\"110.836175\"/>\n      </g>\n     </g>\n    </g>\n    <g id=\"ytick_11\">\n     <g id=\"line2d_21\">\n      <g>\n       <use style=\"stroke:#000000;stroke-width:0.6;\" x=\"31.8\" xlink:href=\"#m71cb15bed6\" y=\"101.790961\"/>\n      </g>\n     </g>\n    </g>\n    <g id=\"ytick_12\">\n     <g id=\"line2d_22\">\n      <g>\n       <use style=\"stroke:#000000;stroke-width:0.6;\" x=\"31.8\" xlink:href=\"#m71cb15bed6\" y=\"94.143341\"/>\n      </g>\n     </g>\n    </g>\n    <g id=\"ytick_13\">\n     <g id=\"line2d_23\">\n      <g>\n       <use style=\"stroke:#000000;stroke-width:0.6;\" x=\"31.8\" xlink:href=\"#m71cb15bed6\" y=\"87.518672\"/>\n      </g>\n     </g>\n    </g>\n    <g id=\"ytick_14\">\n     <g id=\"line2d_24\">\n      <g>\n       <use style=\"stroke:#000000;stroke-width:0.6;\" x=\"31.8\" xlink:href=\"#m71cb15bed6\" y=\"81.675299\"/>\n      </g>\n     </g>\n    </g>\n    <g id=\"ytick_15\">\n     <g id=\"line2d_25\">\n      <g>\n       <use style=\"stroke:#000000;stroke-width:0.6;\" x=\"31.8\" xlink:href=\"#m71cb15bed6\" y=\"42.060273\"/>\n      </g>\n     </g>\n    </g>\n    <g id=\"ytick_16\">\n     <g id=\"line2d_26\">\n      <g>\n       <use style=\"stroke:#000000;stroke-width:0.6;\" x=\"31.8\" xlink:href=\"#m71cb15bed6\" y=\"21.944611\"/>\n      </g>\n     </g>\n    </g>\n    <g id=\"ytick_17\">\n     <g id=\"line2d_27\">\n      <g>\n       <use style=\"stroke:#000000;stroke-width:0.6;\" x=\"31.8\" xlink:href=\"#m71cb15bed6\" y=\"7.672322\"/>\n      </g>\n     </g>\n    </g>\n   </g>\n   <g id=\"patch_13\">\n    <path d=\"M 31.8 224.64 \nL 31.8 7.2 \n\" style=\"fill:none;stroke:#000000;stroke-linecap:square;stroke-linejoin:miter;stroke-width:0.8;\"/>\n   </g>\n   <g id=\"patch_14\">\n    <path d=\"M 366.6 224.64 \nL 366.6 7.2 \n\" style=\"fill:none;stroke:#000000;stroke-linecap:square;stroke-linejoin:miter;stroke-width:0.8;\"/>\n   </g>\n   <g id=\"patch_15\">\n    <path d=\"M 31.8 224.64 \nL 366.6 224.64 \n\" style=\"fill:none;stroke:#000000;stroke-linecap:square;stroke-linejoin:miter;stroke-width:0.8;\"/>\n   </g>\n   <g id=\"patch_16\">\n    <path d=\"M 31.8 7.2 \nL 366.6 7.2 \n\" style=\"fill:none;stroke:#000000;stroke-linecap:square;stroke-linejoin:miter;stroke-width:0.8;\"/>\n   </g>\n  </g>\n </g>\n <defs>\n  <clipPath id=\"p60af68403e\">\n   <rect height=\"217.44\" width=\"334.8\" x=\"31.8\" y=\"7.2\"/>\n  </clipPath>\n </defs>\n</svg>\n",
      "image/png": "[encoded data removed]"
     },
     "metadata": {
      "needs_background": "light"
     }
    }
   ],
   "source": [
    "import matplotlib.pyplot as plt\n",
    "\n",
    "sorted = mirai_data.groupby([\"Source\", \"Destination\"]).sum()[\"Length\"].sort_values(ascending=False)\n",
    "sorted[0:10].plot(kind='bar',alpha=0.75, rot=90, logy=True, color=['r', 'g', 'b', 'r', 'g', 'b', 'r', 'g', 'b', 'r'])"
   ]
  },
  {
   "cell_type": "code",
   "execution_count": 23,
   "metadata": {},
   "outputs": [
    {
     "output_type": "execute_result",
     "data": {
      "text/plain": [
       "<AxesSubplot:>"
      ]
     },
     "metadata": {},
     "execution_count": 23
    },
    {
     "output_type": "display_data",
     "data": {
      "text/plain": "<Figure size 432x288 with 1 Axes>",
      "image/svg+xml": "<?xml version=\"1.0\" encoding=\"utf-8\" standalone=\"no\"?>\n<!DOCTYPE svg PUBLIC \"-//W3C//DTD SVG 1.1//EN\"\n  \"http://www.w3.org/Graphics/SVG/1.1/DTD/svg11.dtd\">\n<svg height=\"276.74625pt\" version=\"1.1\" viewBox=\"0 0 373.8 276.74625\" width=\"373.8pt\" xmlns=\"http://www.w3.org/2000/svg\" xmlns:xlink=\"http://www.w3.org/1999/xlink\">\n <metadata>\n  <rdf:RDF xmlns:cc=\"http://creativecommons.org/ns#\" xmlns:dc=\"http://purl.org/dc/elements/1.1/\" xmlns:rdf=\"http://www.w3.org/1999/02/22-rdf-syntax-ns#\">\n   <cc:Work>\n    <dc:type rdf:resource=\"http://purl.org/dc/dcmitype/StillImage\"/>\n    <dc:date>2021-06-22T11:22:33.627659</dc:date>\n    <dc:format>image/svg+xml</dc:format>\n    <dc:creator>\n     <cc:Agent>\n      <dc:title>Matplotlib v3.4.1, https://matplotlib.org/</dc:title>\n     </cc:Agent>\n    </dc:creator>\n   </cc:Work>\n  </rdf:RDF>\n </metadata>\n <defs>\n  <style type=\"text/css\">*{stroke-linecap:butt;stroke-linejoin:round;}</style>\n </defs>\n <g id=\"figure_1\">\n  <g id=\"patch_1\">\n   <path d=\"M 0 276.74625 \nL 373.8 276.74625 \nL 373.8 0 \nL 0 0 \nz\n\" style=\"fill:none;\"/>\n  </g>\n  <g id=\"axes_1\">\n   <g id=\"patch_2\">\n    <path d=\"M 31.8 224.64 \nL 366.6 224.64 \nL 366.6 7.2 \nL 31.8 7.2 \nz\n\" style=\"fill:#ffffff;\"/>\n   </g>\n   <g id=\"patch_3\">\n    <path clip-path=\"url(#pc9eae9a2db)\" d=\"M 36.205263 40558.987071 \nL 45.015789 40558.987071 \nL 45.015789 17.083636 \nL 36.205263 17.083636 \nz\n\" style=\"fill:#1f77b4;opacity:0.75;\"/>\n   </g>\n   <g id=\"patch_4\">\n    <path clip-path=\"url(#pc9eae9a2db)\" d=\"M 53.826316 40558.987071 \nL 62.636842 40558.987071 \nL 62.636842 55.206649 \nL 53.826316 55.206649 \nz\n\" style=\"fill:#1f77b4;opacity:0.75;\"/>\n   </g>\n   <g id=\"patch_5\">\n    <path clip-path=\"url(#pc9eae9a2db)\" d=\"M 71.447368 40558.987071 \nL 80.257895 40558.987071 \nL 80.257895 59.15689 \nL 71.447368 59.15689 \nz\n\" style=\"fill:#1f77b4;opacity:0.75;\"/>\n   </g>\n   <g id=\"patch_6\">\n    <path clip-path=\"url(#pc9eae9a2db)\" d=\"M 89.068421 40558.987071 \nL 97.878947 40558.987071 \nL 97.878947 61.802334 \nL 89.068421 61.802334 \nz\n\" style=\"fill:#1f77b4;opacity:0.75;\"/>\n   </g>\n   <g id=\"patch_7\">\n    <path clip-path=\"url(#pc9eae9a2db)\" d=\"M 106.689474 40558.987071 \nL 115.5 40558.987071 \nL 115.5 64.2507 \nL 106.689474 64.2507 \nz\n\" style=\"fill:#1f77b4;opacity:0.75;\"/>\n   </g>\n   <g id=\"patch_8\">\n    <path clip-path=\"url(#pc9eae9a2db)\" d=\"M 124.310526 40558.987071 \nL 133.121053 40558.987071 \nL 133.121053 105.623574 \nL 124.310526 105.623574 \nz\n\" style=\"fill:#1f77b4;opacity:0.75;\"/>\n   </g>\n   <g id=\"patch_9\">\n    <path clip-path=\"url(#pc9eae9a2db)\" d=\"M 141.931579 40558.987071 \nL 150.742105 40558.987071 \nL 150.742105 126.14397 \nL 141.931579 126.14397 \nz\n\" style=\"fill:#1f77b4;opacity:0.75;\"/>\n   </g>\n   <g id=\"patch_10\">\n    <path clip-path=\"url(#pc9eae9a2db)\" d=\"M 159.552632 40558.987071 \nL 168.363158 40558.987071 \nL 168.363158 127.004453 \nL 159.552632 127.004453 \nz\n\" style=\"fill:#1f77b4;opacity:0.75;\"/>\n   </g>\n   <g id=\"patch_11\">\n    <path clip-path=\"url(#pc9eae9a2db)\" d=\"M 177.173684 40558.987071 \nL 185.984211 40558.987071 \nL 185.984211 133.813896 \nL 177.173684 133.813896 \nz\n\" style=\"fill:#1f77b4;opacity:0.75;\"/>\n   </g>\n   <g id=\"patch_12\">\n    <path clip-path=\"url(#pc9eae9a2db)\" d=\"M 194.794737 40558.987071 \nL 203.605263 40558.987071 \nL 203.605263 142.464468 \nL 194.794737 142.464468 \nz\n\" style=\"fill:#1f77b4;opacity:0.75;\"/>\n   </g>\n   <g id=\"patch_13\">\n    <path clip-path=\"url(#pc9eae9a2db)\" d=\"M 212.415789 40558.987071 \nL 221.226316 40558.987071 \nL 221.226316 156.965472 \nL 212.415789 156.965472 \nz\n\" style=\"fill:#1f77b4;opacity:0.75;\"/>\n   </g>\n   <g id=\"patch_14\">\n    <path clip-path=\"url(#pc9eae9a2db)\" d=\"M 230.036842 40558.987071 \nL 238.847368 40558.987071 \nL 238.847368 159.648758 \nL 230.036842 159.648758 \nz\n\" style=\"fill:#1f77b4;opacity:0.75;\"/>\n   </g>\n   <g id=\"patch_15\">\n    <path clip-path=\"url(#pc9eae9a2db)\" d=\"M 247.657895 40558.987071 \nL 256.468421 40558.987071 \nL 256.468421 165.156765 \nL 247.657895 165.156765 \nz\n\" style=\"fill:#1f77b4;opacity:0.75;\"/>\n   </g>\n   <g id=\"patch_16\">\n    <path clip-path=\"url(#pc9eae9a2db)\" d=\"M 265.278947 40558.987071 \nL 274.089474 40558.987071 \nL 274.089474 191.123896 \nL 265.278947 191.123896 \nz\n\" style=\"fill:#1f77b4;opacity:0.75;\"/>\n   </g>\n   <g id=\"patch_17\">\n    <path clip-path=\"url(#pc9eae9a2db)\" d=\"M 282.9 40558.987071 \nL 291.710526 40558.987071 \nL 291.710526 198.222163 \nL 282.9 198.222163 \nz\n\" style=\"fill:#1f77b4;opacity:0.75;\"/>\n   </g>\n   <g id=\"patch_18\">\n    <path clip-path=\"url(#pc9eae9a2db)\" d=\"M 300.521053 40558.987071 \nL 309.331579 40558.987071 \nL 309.331579 200.28413 \nL 300.521053 200.28413 \nz\n\" style=\"fill:#1f77b4;opacity:0.75;\"/>\n   </g>\n   <g id=\"patch_19\">\n    <path clip-path=\"url(#pc9eae9a2db)\" d=\"M 318.142105 40558.987071 \nL 326.952632 40558.987071 \nL 326.952632 201.413972 \nL 318.142105 201.413972 \nz\n\" style=\"fill:#1f77b4;opacity:0.75;\"/>\n   </g>\n   <g id=\"patch_20\">\n    <path clip-path=\"url(#pc9eae9a2db)\" d=\"M 335.763158 40558.987071 \nL 344.573684 40558.987071 \nL 344.573684 205.320431 \nL 335.763158 205.320431 \nz\n\" style=\"fill:#1f77b4;opacity:0.75;\"/>\n   </g>\n   <g id=\"patch_21\">\n    <path clip-path=\"url(#pc9eae9a2db)\" d=\"M 353.384211 40558.987071 \nL 362.194737 40558.987071 \nL 362.194737 214.756364 \nL 353.384211 214.756364 \nz\n\" style=\"fill:#1f77b4;opacity:0.75;\"/>\n   </g>\n   <g id=\"matplotlib.axis_1\">\n    <g id=\"xtick_1\">\n     <g id=\"line2d_1\">\n      <defs>\n       <path d=\"M 0 0 \nL 0 3.5 \n\" id=\"mc2134f332c\" style=\"stroke:#000000;stroke-width:0.8;\"/>\n      </defs>\n      <g>\n       <use style=\"stroke:#000000;stroke-width:0.8;\" x=\"40.610526\" xlink:href=\"#mc2134f332c\" y=\"224.64\"/>\n      </g>\n     </g>\n     <g id=\"text_1\">\n      <!-- ARP -->\n      <g transform=\"translate(43.369901 251.45875)rotate(-90)scale(0.1 -0.1)\">\n       <defs>\n        <path d=\"M 2188 4044 \nL 1331 1722 \nL 3047 1722 \nL 2188 4044 \nz\nM 1831 4666 \nL 2547 4666 \nL 4325 0 \nL 3669 0 \nL 3244 1197 \nL 1141 1197 \nL 716 0 \nL 50 0 \nL 1831 4666 \nz\n\" id=\"DejaVuSans-41\" transform=\"scale(0.015625)\"/>\n        <path d=\"M 2841 2188 \nQ 3044 2119 3236 1894 \nQ 3428 1669 3622 1275 \nL 4263 0 \nL 3584 0 \nL 2988 1197 \nQ 2756 1666 2539 1819 \nQ 2322 1972 1947 1972 \nL 1259 1972 \nL 1259 0 \nL 628 0 \nL 628 4666 \nL 2053 4666 \nQ 2853 4666 3247 4331 \nQ 3641 3997 3641 3322 \nQ 3641 2881 3436 2590 \nQ 3231 2300 2841 2188 \nz\nM 1259 4147 \nL 1259 2491 \nL 2053 2491 \nQ 2509 2491 2742 2702 \nQ 2975 2913 2975 3322 \nQ 2975 3731 2742 3939 \nQ 2509 4147 2053 4147 \nL 1259 4147 \nz\n\" id=\"DejaVuSans-52\" transform=\"scale(0.015625)\"/>\n        <path d=\"M 1259 4147 \nL 1259 2394 \nL 2053 2394 \nQ 2494 2394 2734 2622 \nQ 2975 2850 2975 3272 \nQ 2975 3691 2734 3919 \nQ 2494 4147 2053 4147 \nL 1259 4147 \nz\nM 628 4666 \nL 2053 4666 \nQ 2838 4666 3239 4311 \nQ 3641 3956 3641 3272 \nQ 3641 2581 3239 2228 \nQ 2838 1875 2053 1875 \nL 1259 1875 \nL 1259 0 \nL 628 0 \nL 628 4666 \nz\n\" id=\"DejaVuSans-50\" transform=\"scale(0.015625)\"/>\n       </defs>\n       <use xlink:href=\"#DejaVuSans-41\"/>\n       <use x=\"68.408203\" xlink:href=\"#DejaVuSans-52\"/>\n       <use x=\"137.890625\" xlink:href=\"#DejaVuSans-50\"/>\n      </g>\n     </g>\n    </g>\n    <g id=\"xtick_2\">\n     <g id=\"line2d_2\">\n      <g>\n       <use style=\"stroke:#000000;stroke-width:0.8;\" x=\"58.231579\" xlink:href=\"#mc2134f332c\" y=\"224.64\"/>\n      </g>\n     </g>\n     <g id=\"text_2\">\n      <!-- UDP -->\n      <g transform=\"translate(60.990954 252.688437)rotate(-90)scale(0.1 -0.1)\">\n       <defs>\n        <path d=\"M 556 4666 \nL 1191 4666 \nL 1191 1831 \nQ 1191 1081 1462 751 \nQ 1734 422 2344 422 \nQ 2950 422 3222 751 \nQ 3494 1081 3494 1831 \nL 3494 4666 \nL 4128 4666 \nL 4128 1753 \nQ 4128 841 3676 375 \nQ 3225 -91 2344 -91 \nQ 1459 -91 1007 375 \nQ 556 841 556 1753 \nL 556 4666 \nz\n\" id=\"DejaVuSans-55\" transform=\"scale(0.015625)\"/>\n        <path d=\"M 1259 4147 \nL 1259 519 \nL 2022 519 \nQ 2988 519 3436 956 \nQ 3884 1394 3884 2338 \nQ 3884 3275 3436 3711 \nQ 2988 4147 2022 4147 \nL 1259 4147 \nz\nM 628 4666 \nL 1925 4666 \nQ 3281 4666 3915 4102 \nQ 4550 3538 4550 2338 \nQ 4550 1131 3912 565 \nQ 3275 0 1925 0 \nL 628 0 \nL 628 4666 \nz\n\" id=\"DejaVuSans-44\" transform=\"scale(0.015625)\"/>\n       </defs>\n       <use xlink:href=\"#DejaVuSans-55\"/>\n       <use x=\"73.193359\" xlink:href=\"#DejaVuSans-44\"/>\n       <use x=\"150.195312\" xlink:href=\"#DejaVuSans-50\"/>\n      </g>\n     </g>\n    </g>\n    <g id=\"xtick_3\">\n     <g id=\"line2d_3\">\n      <g>\n       <use style=\"stroke:#000000;stroke-width:0.8;\" x=\"75.852632\" xlink:href=\"#mc2134f332c\" y=\"224.64\"/>\n      </g>\n     </g>\n     <g id=\"text_3\">\n      <!-- TCP -->\n      <g transform=\"translate(78.612007 250.172812)rotate(-90)scale(0.1 -0.1)\">\n       <defs>\n        <path d=\"M -19 4666 \nL 3928 4666 \nL 3928 4134 \nL 2272 4134 \nL 2272 0 \nL 1638 0 \nL 1638 4134 \nL -19 4134 \nL -19 4666 \nz\n\" id=\"DejaVuSans-54\" transform=\"scale(0.015625)\"/>\n        <path d=\"M 4122 4306 \nL 4122 3641 \nQ 3803 3938 3442 4084 \nQ 3081 4231 2675 4231 \nQ 1875 4231 1450 3742 \nQ 1025 3253 1025 2328 \nQ 1025 1406 1450 917 \nQ 1875 428 2675 428 \nQ 3081 428 3442 575 \nQ 3803 722 4122 1019 \nL 4122 359 \nQ 3791 134 3420 21 \nQ 3050 -91 2638 -91 \nQ 1578 -91 968 557 \nQ 359 1206 359 2328 \nQ 359 3453 968 4101 \nQ 1578 4750 2638 4750 \nQ 3056 4750 3426 4639 \nQ 3797 4528 4122 4306 \nz\n\" id=\"DejaVuSans-43\" transform=\"scale(0.015625)\"/>\n       </defs>\n       <use xlink:href=\"#DejaVuSans-54\"/>\n       <use x=\"55.208984\" xlink:href=\"#DejaVuSans-43\"/>\n       <use x=\"125.033203\" xlink:href=\"#DejaVuSans-50\"/>\n      </g>\n     </g>\n    </g>\n    <g id=\"xtick_4\">\n     <g id=\"line2d_4\">\n      <g>\n       <use style=\"stroke:#000000;stroke-width:0.8;\" x=\"93.473684\" xlink:href=\"#mc2134f332c\" y=\"224.64\"/>\n      </g>\n     </g>\n     <g id=\"text_4\">\n      <!-- ICMP -->\n      <g transform=\"translate(96.233059 256.230625)rotate(-90)scale(0.1 -0.1)\">\n       <defs>\n        <path d=\"M 628 4666 \nL 1259 4666 \nL 1259 0 \nL 628 0 \nL 628 4666 \nz\n\" id=\"DejaVuSans-49\" transform=\"scale(0.015625)\"/>\n        <path d=\"M 628 4666 \nL 1569 4666 \nL 2759 1491 \nL 3956 4666 \nL 4897 4666 \nL 4897 0 \nL 4281 0 \nL 4281 4097 \nL 3078 897 \nL 2444 897 \nL 1241 4097 \nL 1241 0 \nL 628 0 \nL 628 4666 \nz\n\" id=\"DejaVuSans-4d\" transform=\"scale(0.015625)\"/>\n       </defs>\n       <use xlink:href=\"#DejaVuSans-49\"/>\n       <use x=\"29.492188\" xlink:href=\"#DejaVuSans-43\"/>\n       <use x=\"99.316406\" xlink:href=\"#DejaVuSans-4d\"/>\n       <use x=\"185.595703\" xlink:href=\"#DejaVuSans-50\"/>\n      </g>\n     </g>\n    </g>\n    <g id=\"xtick_5\">\n     <g id=\"line2d_5\">\n      <g>\n       <use style=\"stroke:#000000;stroke-width:0.8;\" x=\"111.094737\" xlink:href=\"#mc2134f332c\" y=\"224.64\"/>\n      </g>\n     </g>\n     <g id=\"text_5\">\n      <!-- DNS -->\n      <g transform=\"translate(113.854112 253.169687)rotate(-90)scale(0.1 -0.1)\">\n       <defs>\n        <path d=\"M 628 4666 \nL 1478 4666 \nL 3547 763 \nL 3547 4666 \nL 4159 4666 \nL 4159 0 \nL 3309 0 \nL 1241 3903 \nL 1241 0 \nL 628 0 \nL 628 4666 \nz\n\" id=\"DejaVuSans-4e\" transform=\"scale(0.015625)\"/>\n        <path d=\"M 3425 4513 \nL 3425 3897 \nQ 3066 4069 2747 4153 \nQ 2428 4238 2131 4238 \nQ 1616 4238 1336 4038 \nQ 1056 3838 1056 3469 \nQ 1056 3159 1242 3001 \nQ 1428 2844 1947 2747 \nL 2328 2669 \nQ 3034 2534 3370 2195 \nQ 3706 1856 3706 1288 \nQ 3706 609 3251 259 \nQ 2797 -91 1919 -91 \nQ 1588 -91 1214 -16 \nQ 841 59 441 206 \nL 441 856 \nQ 825 641 1194 531 \nQ 1563 422 1919 422 \nQ 2459 422 2753 634 \nQ 3047 847 3047 1241 \nQ 3047 1584 2836 1778 \nQ 2625 1972 2144 2069 \nL 1759 2144 \nQ 1053 2284 737 2584 \nQ 422 2884 422 3419 \nQ 422 4038 858 4394 \nQ 1294 4750 2059 4750 \nQ 2388 4750 2728 4690 \nQ 3069 4631 3425 4513 \nz\n\" id=\"DejaVuSans-53\" transform=\"scale(0.015625)\"/>\n       </defs>\n       <use xlink:href=\"#DejaVuSans-44\"/>\n       <use x=\"77.001953\" xlink:href=\"#DejaVuSans-4e\"/>\n       <use x=\"151.806641\" xlink:href=\"#DejaVuSans-53\"/>\n      </g>\n     </g>\n    </g>\n    <g id=\"xtick_6\">\n     <g id=\"line2d_6\">\n      <g>\n       <use style=\"stroke:#000000;stroke-width:0.8;\" x=\"128.715789\" xlink:href=\"#mc2134f332c\" y=\"224.64\"/>\n      </g>\n     </g>\n     <g id=\"text_6\">\n      <!-- STP -->\n      <g transform=\"translate(131.475164 250.125937)rotate(-90)scale(0.1 -0.1)\">\n       <use xlink:href=\"#DejaVuSans-53\"/>\n       <use x=\"63.476562\" xlink:href=\"#DejaVuSans-54\"/>\n       <use x=\"124.560547\" xlink:href=\"#DejaVuSans-50\"/>\n      </g>\n     </g>\n    </g>\n    <g id=\"xtick_7\">\n     <g id=\"line2d_7\">\n      <g>\n       <use style=\"stroke:#000000;stroke-width:0.8;\" x=\"146.336842\" xlink:href=\"#mc2134f332c\" y=\"224.64\"/>\n      </g>\n     </g>\n     <g id=\"text_7\">\n      <!-- ICMPv6 -->\n      <g transform=\"translate(149.096217 268.511875)rotate(-90)scale(0.1 -0.1)\">\n       <defs>\n        <path d=\"M 191 3500 \nL 800 3500 \nL 1894 563 \nL 2988 3500 \nL 3597 3500 \nL 2284 0 \nL 1503 0 \nL 191 3500 \nz\n\" id=\"DejaVuSans-76\" transform=\"scale(0.015625)\"/>\n        <path d=\"M 2113 2584 \nQ 1688 2584 1439 2293 \nQ 1191 2003 1191 1497 \nQ 1191 994 1439 701 \nQ 1688 409 2113 409 \nQ 2538 409 2786 701 \nQ 3034 994 3034 1497 \nQ 3034 2003 2786 2293 \nQ 2538 2584 2113 2584 \nz\nM 3366 4563 \nL 3366 3988 \nQ 3128 4100 2886 4159 \nQ 2644 4219 2406 4219 \nQ 1781 4219 1451 3797 \nQ 1122 3375 1075 2522 \nQ 1259 2794 1537 2939 \nQ 1816 3084 2150 3084 \nQ 2853 3084 3261 2657 \nQ 3669 2231 3669 1497 \nQ 3669 778 3244 343 \nQ 2819 -91 2113 -91 \nQ 1303 -91 875 529 \nQ 447 1150 447 2328 \nQ 447 3434 972 4092 \nQ 1497 4750 2381 4750 \nQ 2619 4750 2861 4703 \nQ 3103 4656 3366 4563 \nz\n\" id=\"DejaVuSans-36\" transform=\"scale(0.015625)\"/>\n       </defs>\n       <use xlink:href=\"#DejaVuSans-49\"/>\n       <use x=\"29.492188\" xlink:href=\"#DejaVuSans-43\"/>\n       <use x=\"99.316406\" xlink:href=\"#DejaVuSans-4d\"/>\n       <use x=\"185.595703\" xlink:href=\"#DejaVuSans-50\"/>\n       <use x=\"245.898438\" xlink:href=\"#DejaVuSans-76\"/>\n       <use x=\"305.078125\" xlink:href=\"#DejaVuSans-36\"/>\n      </g>\n     </g>\n    </g>\n    <g id=\"xtick_8\">\n     <g id=\"line2d_8\">\n      <g>\n       <use style=\"stroke:#000000;stroke-width:0.8;\" x=\"163.957895\" xlink:href=\"#mc2134f332c\" y=\"224.64\"/>\n      </g>\n     </g>\n     <g id=\"text_8\">\n      <!-- SSDP -->\n      <g transform=\"translate(166.71727 258.066562)rotate(-90)scale(0.1 -0.1)\">\n       <use xlink:href=\"#DejaVuSans-53\"/>\n       <use x=\"63.476562\" xlink:href=\"#DejaVuSans-53\"/>\n       <use x=\"126.953125\" xlink:href=\"#DejaVuSans-44\"/>\n       <use x=\"203.955078\" xlink:href=\"#DejaVuSans-50\"/>\n      </g>\n     </g>\n    </g>\n    <g id=\"xtick_9\">\n     <g id=\"line2d_9\">\n      <g>\n       <use style=\"stroke:#000000;stroke-width:0.8;\" x=\"181.578947\" xlink:href=\"#mc2134f332c\" y=\"224.64\"/>\n      </g>\n     </g>\n     <g id=\"text_9\">\n      <!-- LOOP -->\n      <g transform=\"translate(184.338322 258.622812)rotate(-90)scale(0.1 -0.1)\">\n       <defs>\n        <path d=\"M 628 4666 \nL 1259 4666 \nL 1259 531 \nL 3531 531 \nL 3531 0 \nL 628 0 \nL 628 4666 \nz\n\" id=\"DejaVuSans-4c\" transform=\"scale(0.015625)\"/>\n        <path d=\"M 2522 4238 \nQ 1834 4238 1429 3725 \nQ 1025 3213 1025 2328 \nQ 1025 1447 1429 934 \nQ 1834 422 2522 422 \nQ 3209 422 3611 934 \nQ 4013 1447 4013 2328 \nQ 4013 3213 3611 3725 \nQ 3209 4238 2522 4238 \nz\nM 2522 4750 \nQ 3503 4750 4090 4092 \nQ 4678 3434 4678 2328 \nQ 4678 1225 4090 567 \nQ 3503 -91 2522 -91 \nQ 1538 -91 948 565 \nQ 359 1222 359 2328 \nQ 359 3434 948 4092 \nQ 1538 4750 2522 4750 \nz\n\" id=\"DejaVuSans-4f\" transform=\"scale(0.015625)\"/>\n       </defs>\n       <use xlink:href=\"#DejaVuSans-4c\"/>\n       <use x=\"52.087891\" xlink:href=\"#DejaVuSans-4f\"/>\n       <use x=\"130.798828\" xlink:href=\"#DejaVuSans-4f\"/>\n       <use x=\"209.509766\" xlink:href=\"#DejaVuSans-50\"/>\n      </g>\n     </g>\n    </g>\n    <g id=\"xtick_10\">\n     <g id=\"line2d_10\">\n      <g>\n       <use style=\"stroke:#000000;stroke-width:0.8;\" x=\"199.2\" xlink:href=\"#mc2134f332c\" y=\"224.64\"/>\n      </g>\n     </g>\n     <g id=\"text_10\">\n      <!-- TELNET -->\n      <g transform=\"translate(201.959375 269.54625)rotate(-90)scale(0.1 -0.1)\">\n       <defs>\n        <path d=\"M 628 4666 \nL 3578 4666 \nL 3578 4134 \nL 1259 4134 \nL 1259 2753 \nL 3481 2753 \nL 3481 2222 \nL 1259 2222 \nL 1259 531 \nL 3634 531 \nL 3634 0 \nL 628 0 \nL 628 4666 \nz\n\" id=\"DejaVuSans-45\" transform=\"scale(0.015625)\"/>\n       </defs>\n       <use xlink:href=\"#DejaVuSans-54\"/>\n       <use x=\"61.083984\" xlink:href=\"#DejaVuSans-45\"/>\n       <use x=\"124.267578\" xlink:href=\"#DejaVuSans-4c\"/>\n       <use x=\"179.980469\" xlink:href=\"#DejaVuSans-4e\"/>\n       <use x=\"254.785156\" xlink:href=\"#DejaVuSans-45\"/>\n       <use x=\"317.96875\" xlink:href=\"#DejaVuSans-54\"/>\n      </g>\n     </g>\n    </g>\n    <g id=\"xtick_11\">\n     <g id=\"line2d_11\">\n      <g>\n       <use style=\"stroke:#000000;stroke-width:0.8;\" x=\"216.821053\" xlink:href=\"#mc2134f332c\" y=\"224.64\"/>\n      </g>\n     </g>\n     <g id=\"text_11\">\n      <!-- NTP -->\n      <g transform=\"translate(219.580428 251.25875)rotate(-90)scale(0.1 -0.1)\">\n       <use xlink:href=\"#DejaVuSans-4e\"/>\n       <use x=\"74.804688\" xlink:href=\"#DejaVuSans-54\"/>\n       <use x=\"135.888672\" xlink:href=\"#DejaVuSans-50\"/>\n      </g>\n     </g>\n    </g>\n    <g id=\"xtick_12\">\n     <g id=\"line2d_12\">\n      <g>\n       <use style=\"stroke:#000000;stroke-width:0.8;\" x=\"234.442105\" xlink:href=\"#mc2134f332c\" y=\"224.64\"/>\n      </g>\n     </g>\n     <g id=\"text_12\">\n      <!-- BOOTP -->\n      <g transform=\"translate(237.20148 266.207187)rotate(-90)scale(0.1 -0.1)\">\n       <defs>\n        <path d=\"M 1259 2228 \nL 1259 519 \nL 2272 519 \nQ 2781 519 3026 730 \nQ 3272 941 3272 1375 \nQ 3272 1813 3026 2020 \nQ 2781 2228 2272 2228 \nL 1259 2228 \nz\nM 1259 4147 \nL 1259 2741 \nL 2194 2741 \nQ 2656 2741 2882 2914 \nQ 3109 3088 3109 3444 \nQ 3109 3797 2882 3972 \nQ 2656 4147 2194 4147 \nL 1259 4147 \nz\nM 628 4666 \nL 2241 4666 \nQ 2963 4666 3353 4366 \nQ 3744 4066 3744 3513 \nQ 3744 3084 3544 2831 \nQ 3344 2578 2956 2516 \nQ 3422 2416 3680 2098 \nQ 3938 1781 3938 1306 \nQ 3938 681 3513 340 \nQ 3088 0 2303 0 \nL 628 0 \nL 628 4666 \nz\n\" id=\"DejaVuSans-42\" transform=\"scale(0.015625)\"/>\n       </defs>\n       <use xlink:href=\"#DejaVuSans-42\"/>\n       <use x=\"66.853516\" xlink:href=\"#DejaVuSans-4f\"/>\n       <use x=\"145.564453\" xlink:href=\"#DejaVuSans-4f\"/>\n       <use x=\"224.275391\" xlink:href=\"#DejaVuSans-54\"/>\n       <use x=\"285.359375\" xlink:href=\"#DejaVuSans-50\"/>\n      </g>\n     </g>\n    </g>\n    <g id=\"xtick_13\">\n     <g id=\"line2d_13\">\n      <g>\n       <use style=\"stroke:#000000;stroke-width:0.8;\" x=\"252.063158\" xlink:href=\"#mc2134f332c\" y=\"224.64\"/>\n      </g>\n     </g>\n     <g id=\"text_13\">\n      <!-- CDP -->\n      <g transform=\"translate(254.822533 252.3525)rotate(-90)scale(0.1 -0.1)\">\n       <use xlink:href=\"#DejaVuSans-43\"/>\n       <use x=\"69.824219\" xlink:href=\"#DejaVuSans-44\"/>\n       <use x=\"146.826172\" xlink:href=\"#DejaVuSans-50\"/>\n      </g>\n     </g>\n    </g>\n    <g id=\"xtick_14\">\n     <g id=\"line2d_14\">\n      <g>\n       <use style=\"stroke:#000000;stroke-width:0.8;\" x=\"269.684211\" xlink:href=\"#mc2134f332c\" y=\"224.64\"/>\n      </g>\n     </g>\n     <g id=\"text_14\">\n      <!-- MDNS -->\n      <g transform=\"translate(272.443586 261.797812)rotate(-90)scale(0.1 -0.1)\">\n       <use xlink:href=\"#DejaVuSans-4d\"/>\n       <use x=\"86.279297\" xlink:href=\"#DejaVuSans-44\"/>\n       <use x=\"163.28125\" xlink:href=\"#DejaVuSans-4e\"/>\n       <use x=\"238.085938\" xlink:href=\"#DejaVuSans-53\"/>\n      </g>\n     </g>\n    </g>\n    <g id=\"xtick_15\">\n     <g id=\"line2d_15\">\n      <g>\n       <use style=\"stroke:#000000;stroke-width:0.8;\" x=\"287.305263\" xlink:href=\"#mc2134f332c\" y=\"224.64\"/>\n      </g>\n     </g>\n     <g id=\"text_15\">\n      <!-- SMB -->\n      <g transform=\"translate(290.064638 253.4775)rotate(-90)scale(0.1 -0.1)\">\n       <use xlink:href=\"#DejaVuSans-53\"/>\n       <use x=\"63.476562\" xlink:href=\"#DejaVuSans-4d\"/>\n       <use x=\"149.755859\" xlink:href=\"#DejaVuSans-42\"/>\n      </g>\n     </g>\n    </g>\n    <g id=\"xtick_16\">\n     <g id=\"line2d_16\">\n      <g>\n       <use style=\"stroke:#000000;stroke-width:0.8;\" x=\"304.926316\" xlink:href=\"#mc2134f332c\" y=\"224.64\"/>\n      </g>\n     </g>\n     <g id=\"text_16\">\n      <!-- LLMNR -->\n      <g transform=\"translate(307.685691 265.841562)rotate(-90)scale(0.1 -0.1)\">\n       <use xlink:href=\"#DejaVuSans-4c\"/>\n       <use x=\"55.712891\" xlink:href=\"#DejaVuSans-4c\"/>\n       <use x=\"111.425781\" xlink:href=\"#DejaVuSans-4d\"/>\n       <use x=\"197.705078\" xlink:href=\"#DejaVuSans-4e\"/>\n       <use x=\"272.509766\" xlink:href=\"#DejaVuSans-52\"/>\n      </g>\n     </g>\n    </g>\n    <g id=\"xtick_17\">\n     <g id=\"line2d_17\">\n      <g>\n       <use style=\"stroke:#000000;stroke-width:0.8;\" x=\"322.547368\" xlink:href=\"#mc2134f332c\" y=\"224.64\"/>\n      </g>\n     </g>\n     <g id=\"text_17\">\n      <!-- NBNS -->\n      <g transform=\"translate(325.306743 259.811875)rotate(-90)scale(0.1 -0.1)\">\n       <use xlink:href=\"#DejaVuSans-4e\"/>\n       <use x=\"74.804688\" xlink:href=\"#DejaVuSans-42\"/>\n       <use x=\"143.408203\" xlink:href=\"#DejaVuSans-4e\"/>\n       <use x=\"218.212891\" xlink:href=\"#DejaVuSans-53\"/>\n      </g>\n     </g>\n    </g>\n    <g id=\"xtick_18\">\n     <g id=\"line2d_18\">\n      <g>\n       <use style=\"stroke:#000000;stroke-width:0.8;\" x=\"340.168421\" xlink:href=\"#mc2134f332c\" y=\"224.64\"/>\n      </g>\n     </g>\n     <g id=\"text_18\">\n      <!-- LLC -->\n      <g transform=\"translate(342.927796 249.766562)rotate(-90)scale(0.1 -0.1)\">\n       <use xlink:href=\"#DejaVuSans-4c\"/>\n       <use x=\"55.712891\" xlink:href=\"#DejaVuSans-4c\"/>\n       <use x=\"111.425781\" xlink:href=\"#DejaVuSans-43\"/>\n      </g>\n     </g>\n    </g>\n    <g id=\"xtick_19\">\n     <g id=\"line2d_19\">\n      <g>\n       <use style=\"stroke:#000000;stroke-width:0.8;\" x=\"357.789474\" xlink:href=\"#mc2134f332c\" y=\"224.64\"/>\n      </g>\n     </g>\n     <g id=\"text_19\">\n      <!-- IGMPv3 -->\n      <g transform=\"translate(360.548849 269.2775)rotate(-90)scale(0.1 -0.1)\">\n       <defs>\n        <path d=\"M 3809 666 \nL 3809 1919 \nL 2778 1919 \nL 2778 2438 \nL 4434 2438 \nL 4434 434 \nQ 4069 175 3628 42 \nQ 3188 -91 2688 -91 \nQ 1594 -91 976 548 \nQ 359 1188 359 2328 \nQ 359 3472 976 4111 \nQ 1594 4750 2688 4750 \nQ 3144 4750 3555 4637 \nQ 3966 4525 4313 4306 \nL 4313 3634 \nQ 3963 3931 3569 4081 \nQ 3175 4231 2741 4231 \nQ 1884 4231 1454 3753 \nQ 1025 3275 1025 2328 \nQ 1025 1384 1454 906 \nQ 1884 428 2741 428 \nQ 3075 428 3337 486 \nQ 3600 544 3809 666 \nz\n\" id=\"DejaVuSans-47\" transform=\"scale(0.015625)\"/>\n        <path d=\"M 2597 2516 \nQ 3050 2419 3304 2112 \nQ 3559 1806 3559 1356 \nQ 3559 666 3084 287 \nQ 2609 -91 1734 -91 \nQ 1441 -91 1130 -33 \nQ 819 25 488 141 \nL 488 750 \nQ 750 597 1062 519 \nQ 1375 441 1716 441 \nQ 2309 441 2620 675 \nQ 2931 909 2931 1356 \nQ 2931 1769 2642 2001 \nQ 2353 2234 1838 2234 \nL 1294 2234 \nL 1294 2753 \nL 1863 2753 \nQ 2328 2753 2575 2939 \nQ 2822 3125 2822 3475 \nQ 2822 3834 2567 4026 \nQ 2313 4219 1838 4219 \nQ 1578 4219 1281 4162 \nQ 984 4106 628 3988 \nL 628 4550 \nQ 988 4650 1302 4700 \nQ 1616 4750 1894 4750 \nQ 2613 4750 3031 4423 \nQ 3450 4097 3450 3541 \nQ 3450 3153 3228 2886 \nQ 3006 2619 2597 2516 \nz\n\" id=\"DejaVuSans-33\" transform=\"scale(0.015625)\"/>\n       </defs>\n       <use xlink:href=\"#DejaVuSans-49\"/>\n       <use x=\"29.492188\" xlink:href=\"#DejaVuSans-47\"/>\n       <use x=\"106.982422\" xlink:href=\"#DejaVuSans-4d\"/>\n       <use x=\"193.261719\" xlink:href=\"#DejaVuSans-50\"/>\n       <use x=\"253.564453\" xlink:href=\"#DejaVuSans-76\"/>\n       <use x=\"312.744141\" xlink:href=\"#DejaVuSans-33\"/>\n      </g>\n     </g>\n    </g>\n   </g>\n   <g id=\"matplotlib.axis_2\">\n    <g id=\"ytick_1\">\n     <g id=\"line2d_20\">\n      <defs>\n       <path d=\"M 0 0 \nL -3.5 0 \n\" id=\"ma89e46c676\" style=\"stroke:#000000;stroke-width:0.8;\"/>\n      </defs>\n      <g>\n       <use style=\"stroke:#000000;stroke-width:0.8;\" x=\"31.8\" xlink:href=\"#ma89e46c676\" y=\"208.51224\"/>\n      </g>\n     </g>\n     <g id=\"text_20\">\n      <!-- $\\mathdefault{10^{1}}$ -->\n      <g transform=\"translate(7.2 212.311459)scale(0.1 -0.1)\">\n       <defs>\n        <path d=\"M 794 531 \nL 1825 531 \nL 1825 4091 \nL 703 3866 \nL 703 4441 \nL 1819 4666 \nL 2450 4666 \nL 2450 531 \nL 3481 531 \nL 3481 0 \nL 794 0 \nL 794 531 \nz\n\" id=\"DejaVuSans-31\" transform=\"scale(0.015625)\"/>\n        <path d=\"M 2034 4250 \nQ 1547 4250 1301 3770 \nQ 1056 3291 1056 2328 \nQ 1056 1369 1301 889 \nQ 1547 409 2034 409 \nQ 2525 409 2770 889 \nQ 3016 1369 3016 2328 \nQ 3016 3291 2770 3770 \nQ 2525 4250 2034 4250 \nz\nM 2034 4750 \nQ 2819 4750 3233 4129 \nQ 3647 3509 3647 2328 \nQ 3647 1150 3233 529 \nQ 2819 -91 2034 -91 \nQ 1250 -91 836 529 \nQ 422 1150 422 2328 \nQ 422 3509 836 4129 \nQ 1250 4750 2034 4750 \nz\n\" id=\"DejaVuSans-30\" transform=\"scale(0.015625)\"/>\n       </defs>\n       <use transform=\"translate(0 0.684375)\" xlink:href=\"#DejaVuSans-31\"/>\n       <use transform=\"translate(63.623047 0.684375)\" xlink:href=\"#DejaVuSans-30\"/>\n       <use transform=\"translate(128.203125 38.965625)scale(0.7)\" xlink:href=\"#DejaVuSans-31\"/>\n      </g>\n     </g>\n    </g>\n    <g id=\"ytick_2\">\n     <g id=\"line2d_21\">\n      <g>\n       <use style=\"stroke:#000000;stroke-width:0.8;\" x=\"31.8\" xlink:href=\"#ma89e46c676\" y=\"168.202075\"/>\n      </g>\n     </g>\n     <g id=\"text_21\">\n      <!-- $\\mathdefault{10^{2}}$ -->\n      <g transform=\"translate(7.2 172.001294)scale(0.1 -0.1)\">\n       <defs>\n        <path d=\"M 1228 531 \nL 3431 531 \nL 3431 0 \nL 469 0 \nL 469 531 \nQ 828 903 1448 1529 \nQ 2069 2156 2228 2338 \nQ 2531 2678 2651 2914 \nQ 2772 3150 2772 3378 \nQ 2772 3750 2511 3984 \nQ 2250 4219 1831 4219 \nQ 1534 4219 1204 4116 \nQ 875 4013 500 3803 \nL 500 4441 \nQ 881 4594 1212 4672 \nQ 1544 4750 1819 4750 \nQ 2544 4750 2975 4387 \nQ 3406 4025 3406 3419 \nQ 3406 3131 3298 2873 \nQ 3191 2616 2906 2266 \nQ 2828 2175 2409 1742 \nQ 1991 1309 1228 531 \nz\n\" id=\"DejaVuSans-32\" transform=\"scale(0.015625)\"/>\n       </defs>\n       <use transform=\"translate(0 0.765625)\" xlink:href=\"#DejaVuSans-31\"/>\n       <use transform=\"translate(63.623047 0.765625)\" xlink:href=\"#DejaVuSans-30\"/>\n       <use transform=\"translate(128.203125 39.046875)scale(0.7)\" xlink:href=\"#DejaVuSans-32\"/>\n      </g>\n     </g>\n    </g>\n    <g id=\"ytick_3\">\n     <g id=\"line2d_22\">\n      <g>\n       <use style=\"stroke:#000000;stroke-width:0.8;\" x=\"31.8\" xlink:href=\"#ma89e46c676\" y=\"127.891911\"/>\n      </g>\n     </g>\n     <g id=\"text_22\">\n      <!-- $\\mathdefault{10^{3}}$ -->\n      <g transform=\"translate(7.2 131.69113)scale(0.1 -0.1)\">\n       <use transform=\"translate(0 0.765625)\" xlink:href=\"#DejaVuSans-31\"/>\n       <use transform=\"translate(63.623047 0.765625)\" xlink:href=\"#DejaVuSans-30\"/>\n       <use transform=\"translate(128.203125 39.046875)scale(0.7)\" xlink:href=\"#DejaVuSans-33\"/>\n      </g>\n     </g>\n    </g>\n    <g id=\"ytick_4\">\n     <g id=\"line2d_23\">\n      <g>\n       <use style=\"stroke:#000000;stroke-width:0.8;\" x=\"31.8\" xlink:href=\"#ma89e46c676\" y=\"87.581746\"/>\n      </g>\n     </g>\n     <g id=\"text_23\">\n      <!-- $\\mathdefault{10^{4}}$ -->\n      <g transform=\"translate(7.2 91.380965)scale(0.1 -0.1)\">\n       <defs>\n        <path d=\"M 2419 4116 \nL 825 1625 \nL 2419 1625 \nL 2419 4116 \nz\nM 2253 4666 \nL 3047 4666 \nL 3047 1625 \nL 3713 1625 \nL 3713 1100 \nL 3047 1100 \nL 3047 0 \nL 2419 0 \nL 2419 1100 \nL 313 1100 \nL 313 1709 \nL 2253 4666 \nz\n\" id=\"DejaVuSans-34\" transform=\"scale(0.015625)\"/>\n       </defs>\n       <use transform=\"translate(0 0.684375)\" xlink:href=\"#DejaVuSans-31\"/>\n       <use transform=\"translate(63.623047 0.684375)\" xlink:href=\"#DejaVuSans-30\"/>\n       <use transform=\"translate(128.203125 38.965625)scale(0.7)\" xlink:href=\"#DejaVuSans-34\"/>\n      </g>\n     </g>\n    </g>\n    <g id=\"ytick_5\">\n     <g id=\"line2d_24\">\n      <g>\n       <use style=\"stroke:#000000;stroke-width:0.8;\" x=\"31.8\" xlink:href=\"#ma89e46c676\" y=\"47.271581\"/>\n      </g>\n     </g>\n     <g id=\"text_24\">\n      <!-- $\\mathdefault{10^{5}}$ -->\n      <g transform=\"translate(7.2 51.0708)scale(0.1 -0.1)\">\n       <defs>\n        <path d=\"M 691 4666 \nL 3169 4666 \nL 3169 4134 \nL 1269 4134 \nL 1269 2991 \nQ 1406 3038 1543 3061 \nQ 1681 3084 1819 3084 \nQ 2600 3084 3056 2656 \nQ 3513 2228 3513 1497 \nQ 3513 744 3044 326 \nQ 2575 -91 1722 -91 \nQ 1428 -91 1123 -41 \nQ 819 9 494 109 \nL 494 744 \nQ 775 591 1075 516 \nQ 1375 441 1709 441 \nQ 2250 441 2565 725 \nQ 2881 1009 2881 1497 \nQ 2881 1984 2565 2268 \nQ 2250 2553 1709 2553 \nQ 1456 2553 1204 2497 \nQ 953 2441 691 2322 \nL 691 4666 \nz\n\" id=\"DejaVuSans-35\" transform=\"scale(0.015625)\"/>\n       </defs>\n       <use transform=\"translate(0 0.684375)\" xlink:href=\"#DejaVuSans-31\"/>\n       <use transform=\"translate(63.623047 0.684375)\" xlink:href=\"#DejaVuSans-30\"/>\n       <use transform=\"translate(128.203125 38.965625)scale(0.7)\" xlink:href=\"#DejaVuSans-35\"/>\n      </g>\n     </g>\n    </g>\n    <g id=\"ytick_6\">\n     <g id=\"line2d_25\">\n      <defs>\n       <path d=\"M 0 0 \nL -2 0 \n\" id=\"mca42c24947\" style=\"stroke:#000000;stroke-width:0.6;\"/>\n      </defs>\n      <g>\n       <use style=\"stroke:#000000;stroke-width:0.6;\" x=\"31.8\" xlink:href=\"#mca42c24947\" y=\"224.553267\"/>\n      </g>\n     </g>\n    </g>\n    <g id=\"ytick_7\">\n     <g id=\"line2d_26\">\n      <g>\n       <use style=\"stroke:#000000;stroke-width:0.6;\" x=\"31.8\" xlink:href=\"#mca42c24947\" y=\"220.646809\"/>\n      </g>\n     </g>\n    </g>\n    <g id=\"ytick_8\">\n     <g id=\"line2d_27\">\n      <g>\n       <use style=\"stroke:#000000;stroke-width:0.6;\" x=\"31.8\" xlink:href=\"#mca42c24947\" y=\"217.455\"/>\n      </g>\n     </g>\n    </g>\n    <g id=\"ytick_9\">\n     <g id=\"line2d_28\">\n      <g>\n       <use style=\"stroke:#000000;stroke-width:0.6;\" x=\"31.8\" xlink:href=\"#mca42c24947\" y=\"214.756364\"/>\n      </g>\n     </g>\n    </g>\n    <g id=\"ytick_10\">\n     <g id=\"line2d_29\">\n      <g>\n       <use style=\"stroke:#000000;stroke-width:0.6;\" x=\"31.8\" xlink:href=\"#mca42c24947\" y=\"212.418699\"/>\n      </g>\n     </g>\n    </g>\n    <g id=\"ytick_11\">\n     <g id=\"line2d_30\">\n      <g>\n       <use style=\"stroke:#000000;stroke-width:0.6;\" x=\"31.8\" xlink:href=\"#mca42c24947\" y=\"210.356732\"/>\n      </g>\n     </g>\n    </g>\n    <g id=\"ytick_12\">\n     <g id=\"line2d_31\">\n      <g>\n       <use style=\"stroke:#000000;stroke-width:0.6;\" x=\"31.8\" xlink:href=\"#mca42c24947\" y=\"196.377671\"/>\n      </g>\n     </g>\n    </g>\n    <g id=\"ytick_13\">\n     <g id=\"line2d_32\">\n      <g>\n       <use style=\"stroke:#000000;stroke-width:0.6;\" x=\"31.8\" xlink:href=\"#mca42c24947\" y=\"189.279404\"/>\n      </g>\n     </g>\n    </g>\n    <g id=\"ytick_14\">\n     <g id=\"line2d_33\">\n      <g>\n       <use style=\"stroke:#000000;stroke-width:0.6;\" x=\"31.8\" xlink:href=\"#mca42c24947\" y=\"184.243103\"/>\n      </g>\n     </g>\n    </g>\n    <g id=\"ytick_15\">\n     <g id=\"line2d_34\">\n      <g>\n       <use style=\"stroke:#000000;stroke-width:0.6;\" x=\"31.8\" xlink:href=\"#mca42c24947\" y=\"180.336644\"/>\n      </g>\n     </g>\n    </g>\n    <g id=\"ytick_16\">\n     <g id=\"line2d_35\">\n      <g>\n       <use style=\"stroke:#000000;stroke-width:0.6;\" x=\"31.8\" xlink:href=\"#mca42c24947\" y=\"177.144835\"/>\n      </g>\n     </g>\n    </g>\n    <g id=\"ytick_17\">\n     <g id=\"line2d_36\">\n      <g>\n       <use style=\"stroke:#000000;stroke-width:0.6;\" x=\"31.8\" xlink:href=\"#mca42c24947\" y=\"174.446199\"/>\n      </g>\n     </g>\n    </g>\n    <g id=\"ytick_18\">\n     <g id=\"line2d_37\">\n      <g>\n       <use style=\"stroke:#000000;stroke-width:0.6;\" x=\"31.8\" xlink:href=\"#mca42c24947\" y=\"172.108534\"/>\n      </g>\n     </g>\n    </g>\n    <g id=\"ytick_19\">\n     <g id=\"line2d_38\">\n      <g>\n       <use style=\"stroke:#000000;stroke-width:0.6;\" x=\"31.8\" xlink:href=\"#mca42c24947\" y=\"170.046567\"/>\n      </g>\n     </g>\n    </g>\n    <g id=\"ytick_20\">\n     <g id=\"line2d_39\">\n      <g>\n       <use style=\"stroke:#000000;stroke-width:0.6;\" x=\"31.8\" xlink:href=\"#mca42c24947\" y=\"156.067507\"/>\n      </g>\n     </g>\n    </g>\n    <g id=\"ytick_21\">\n     <g id=\"line2d_40\">\n      <g>\n       <use style=\"stroke:#000000;stroke-width:0.6;\" x=\"31.8\" xlink:href=\"#mca42c24947\" y=\"148.969239\"/>\n      </g>\n     </g>\n    </g>\n    <g id=\"ytick_22\">\n     <g id=\"line2d_41\">\n      <g>\n       <use style=\"stroke:#000000;stroke-width:0.6;\" x=\"31.8\" xlink:href=\"#mca42c24947\" y=\"143.932938\"/>\n      </g>\n     </g>\n    </g>\n    <g id=\"ytick_23\">\n     <g id=\"line2d_42\">\n      <g>\n       <use style=\"stroke:#000000;stroke-width:0.6;\" x=\"31.8\" xlink:href=\"#mca42c24947\" y=\"140.026479\"/>\n      </g>\n     </g>\n    </g>\n    <g id=\"ytick_24\">\n     <g id=\"line2d_43\">\n      <g>\n       <use style=\"stroke:#000000;stroke-width:0.6;\" x=\"31.8\" xlink:href=\"#mca42c24947\" y=\"136.83467\"/>\n      </g>\n     </g>\n    </g>\n    <g id=\"ytick_25\">\n     <g id=\"line2d_44\">\n      <g>\n       <use style=\"stroke:#000000;stroke-width:0.6;\" x=\"31.8\" xlink:href=\"#mca42c24947\" y=\"134.136034\"/>\n      </g>\n     </g>\n    </g>\n    <g id=\"ytick_26\">\n     <g id=\"line2d_45\">\n      <g>\n       <use style=\"stroke:#000000;stroke-width:0.6;\" x=\"31.8\" xlink:href=\"#mca42c24947\" y=\"131.798369\"/>\n      </g>\n     </g>\n    </g>\n    <g id=\"ytick_27\">\n     <g id=\"line2d_46\">\n      <g>\n       <use style=\"stroke:#000000;stroke-width:0.6;\" x=\"31.8\" xlink:href=\"#mca42c24947\" y=\"129.736403\"/>\n      </g>\n     </g>\n    </g>\n    <g id=\"ytick_28\">\n     <g id=\"line2d_47\">\n      <g>\n       <use style=\"stroke:#000000;stroke-width:0.6;\" x=\"31.8\" xlink:href=\"#mca42c24947\" y=\"115.757342\"/>\n      </g>\n     </g>\n    </g>\n    <g id=\"ytick_29\">\n     <g id=\"line2d_48\">\n      <g>\n       <use style=\"stroke:#000000;stroke-width:0.6;\" x=\"31.8\" xlink:href=\"#mca42c24947\" y=\"108.659074\"/>\n      </g>\n     </g>\n    </g>\n    <g id=\"ytick_30\">\n     <g id=\"line2d_49\">\n      <g>\n       <use style=\"stroke:#000000;stroke-width:0.6;\" x=\"31.8\" xlink:href=\"#mca42c24947\" y=\"103.622773\"/>\n      </g>\n     </g>\n    </g>\n    <g id=\"ytick_31\">\n     <g id=\"line2d_50\">\n      <g>\n       <use style=\"stroke:#000000;stroke-width:0.6;\" x=\"31.8\" xlink:href=\"#mca42c24947\" y=\"99.716315\"/>\n      </g>\n     </g>\n    </g>\n    <g id=\"ytick_32\">\n     <g id=\"line2d_51\">\n      <g>\n       <use style=\"stroke:#000000;stroke-width:0.6;\" x=\"31.8\" xlink:href=\"#mca42c24947\" y=\"96.524506\"/>\n      </g>\n     </g>\n    </g>\n    <g id=\"ytick_33\">\n     <g id=\"line2d_52\">\n      <g>\n       <use style=\"stroke:#000000;stroke-width:0.6;\" x=\"31.8\" xlink:href=\"#mca42c24947\" y=\"93.82587\"/>\n      </g>\n     </g>\n    </g>\n    <g id=\"ytick_34\">\n     <g id=\"line2d_53\">\n      <g>\n       <use style=\"stroke:#000000;stroke-width:0.6;\" x=\"31.8\" xlink:href=\"#mca42c24947\" y=\"91.488205\"/>\n      </g>\n     </g>\n    </g>\n    <g id=\"ytick_35\">\n     <g id=\"line2d_54\">\n      <g>\n       <use style=\"stroke:#000000;stroke-width:0.6;\" x=\"31.8\" xlink:href=\"#mca42c24947\" y=\"89.426238\"/>\n      </g>\n     </g>\n    </g>\n    <g id=\"ytick_36\">\n     <g id=\"line2d_55\">\n      <g>\n       <use style=\"stroke:#000000;stroke-width:0.6;\" x=\"31.8\" xlink:href=\"#mca42c24947\" y=\"75.447177\"/>\n      </g>\n     </g>\n    </g>\n    <g id=\"ytick_37\">\n     <g id=\"line2d_56\">\n      <g>\n       <use style=\"stroke:#000000;stroke-width:0.6;\" x=\"31.8\" xlink:href=\"#mca42c24947\" y=\"68.34891\"/>\n      </g>\n     </g>\n    </g>\n    <g id=\"ytick_38\">\n     <g id=\"line2d_57\">\n      <g>\n       <use style=\"stroke:#000000;stroke-width:0.6;\" x=\"31.8\" xlink:href=\"#mca42c24947\" y=\"63.312609\"/>\n      </g>\n     </g>\n    </g>\n    <g id=\"ytick_39\">\n     <g id=\"line2d_58\">\n      <g>\n       <use style=\"stroke:#000000;stroke-width:0.6;\" x=\"31.8\" xlink:href=\"#mca42c24947\" y=\"59.40615\"/>\n      </g>\n     </g>\n    </g>\n    <g id=\"ytick_40\">\n     <g id=\"line2d_59\">\n      <g>\n       <use style=\"stroke:#000000;stroke-width:0.6;\" x=\"31.8\" xlink:href=\"#mca42c24947\" y=\"56.214341\"/>\n      </g>\n     </g>\n    </g>\n    <g id=\"ytick_41\">\n     <g id=\"line2d_60\">\n      <g>\n       <use style=\"stroke:#000000;stroke-width:0.6;\" x=\"31.8\" xlink:href=\"#mca42c24947\" y=\"53.515705\"/>\n      </g>\n     </g>\n    </g>\n    <g id=\"ytick_42\">\n     <g id=\"line2d_61\">\n      <g>\n       <use style=\"stroke:#000000;stroke-width:0.6;\" x=\"31.8\" xlink:href=\"#mca42c24947\" y=\"51.17804\"/>\n      </g>\n     </g>\n    </g>\n    <g id=\"ytick_43\">\n     <g id=\"line2d_62\">\n      <g>\n       <use style=\"stroke:#000000;stroke-width:0.6;\" x=\"31.8\" xlink:href=\"#mca42c24947\" y=\"49.116073\"/>\n      </g>\n     </g>\n    </g>\n    <g id=\"ytick_44\">\n     <g id=\"line2d_63\">\n      <g>\n       <use style=\"stroke:#000000;stroke-width:0.6;\" x=\"31.8\" xlink:href=\"#mca42c24947\" y=\"35.137013\"/>\n      </g>\n     </g>\n    </g>\n    <g id=\"ytick_45\">\n     <g id=\"line2d_64\">\n      <g>\n       <use style=\"stroke:#000000;stroke-width:0.6;\" x=\"31.8\" xlink:href=\"#mca42c24947\" y=\"28.038745\"/>\n      </g>\n     </g>\n    </g>\n    <g id=\"ytick_46\">\n     <g id=\"line2d_65\">\n      <g>\n       <use style=\"stroke:#000000;stroke-width:0.6;\" x=\"31.8\" xlink:href=\"#mca42c24947\" y=\"23.002444\"/>\n      </g>\n     </g>\n    </g>\n    <g id=\"ytick_47\">\n     <g id=\"line2d_66\">\n      <g>\n       <use style=\"stroke:#000000;stroke-width:0.6;\" x=\"31.8\" xlink:href=\"#mca42c24947\" y=\"19.095985\"/>\n      </g>\n     </g>\n    </g>\n    <g id=\"ytick_48\">\n     <g id=\"line2d_67\">\n      <g>\n       <use style=\"stroke:#000000;stroke-width:0.6;\" x=\"31.8\" xlink:href=\"#mca42c24947\" y=\"15.904176\"/>\n      </g>\n     </g>\n    </g>\n    <g id=\"ytick_49\">\n     <g id=\"line2d_68\">\n      <g>\n       <use style=\"stroke:#000000;stroke-width:0.6;\" x=\"31.8\" xlink:href=\"#mca42c24947\" y=\"13.20554\"/>\n      </g>\n     </g>\n    </g>\n    <g id=\"ytick_50\">\n     <g id=\"line2d_69\">\n      <g>\n       <use style=\"stroke:#000000;stroke-width:0.6;\" x=\"31.8\" xlink:href=\"#mca42c24947\" y=\"10.867875\"/>\n      </g>\n     </g>\n    </g>\n    <g id=\"ytick_51\">\n     <g id=\"line2d_70\">\n      <g>\n       <use style=\"stroke:#000000;stroke-width:0.6;\" x=\"31.8\" xlink:href=\"#mca42c24947\" y=\"8.805909\"/>\n      </g>\n     </g>\n    </g>\n   </g>\n   <g id=\"patch_22\">\n    <path d=\"M 31.8 224.64 \nL 31.8 7.2 \n\" style=\"fill:none;stroke:#000000;stroke-linecap:square;stroke-linejoin:miter;stroke-width:0.8;\"/>\n   </g>\n   <g id=\"patch_23\">\n    <path d=\"M 366.6 224.64 \nL 366.6 7.2 \n\" style=\"fill:none;stroke:#000000;stroke-linecap:square;stroke-linejoin:miter;stroke-width:0.8;\"/>\n   </g>\n   <g id=\"patch_24\">\n    <path d=\"M 31.8 224.64 \nL 366.6 224.64 \n\" style=\"fill:none;stroke:#000000;stroke-linecap:square;stroke-linejoin:miter;stroke-width:0.8;\"/>\n   </g>\n   <g id=\"patch_25\">\n    <path d=\"M 31.8 7.2 \nL 366.6 7.2 \n\" style=\"fill:none;stroke:#000000;stroke-linecap:square;stroke-linejoin:miter;stroke-width:0.8;\"/>\n   </g>\n  </g>\n </g>\n <defs>\n  <clipPath id=\"pc9eae9a2db\">\n   <rect height=\"217.44\" width=\"334.8\" x=\"31.8\" y=\"7.2\"/>\n  </clipPath>\n </defs>\n</svg>\n",
      "image/png": "[encoded data removed]"
     },
     "metadata": {
      "needs_background": "light"
     }
    }
   ],
   "source": [
    "mirai_data[\"Protocol\"].value_counts().plot(kind='bar',alpha=0.75, rot=90, logy=True)"
   ]
  },
  {
   "cell_type": "code",
   "execution_count": null,
   "metadata": {},
   "outputs": [],
   "source": []
  }
 ]
}