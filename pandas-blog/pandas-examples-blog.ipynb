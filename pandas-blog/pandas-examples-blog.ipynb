{
 "metadata": {
  "language_info": {
   "codemirror_mode": {
    "name": "ipython",
    "version": 3
   },
   "file_extension": ".py",
   "mimetype": "text/x-python",
   "name": "python",
   "nbconvert_exporter": "python",
   "pygments_lexer": "ipython3",
   "version": "3.8.2"
  },
  "orig_nbformat": 2,
  "kernelspec": {
   "name": "python382jvsc74a57bd0e940fdefc6756e713d6da5fa1904fa2199e5d2e969d337cf08bc892ffff24271",
   "display_name": "Python 3.8.2 64-bit"
  },
  "metadata": {
   "interpreter": {
    "hash": "e940fdefc6756e713d6da5fa1904fa2199e5d2e969d337cf08bc892ffff24271"
   }
  }
 },
 "nbformat": 4,
 "nbformat_minor": 2,
 "cells": [
  {
   "cell_type": "code",
   "execution_count": 1,
   "metadata": {},
   "outputs": [
    {
     "output_type": "stream",
     "name": "stderr",
     "text": [
      "/Users/drx/Library/Caches/pypoetry/virtualenvs/pandas-blog-JUoYj9fb-py3.8/lib/python3.8/site-packages/pandas/compat/__init__.py:97: UserWarning: Could not import the lzma module. Your installed Python is incomplete. Attempting to use lzma compression will result in a RuntimeError.\n  warnings.warn(msg)\n"
     ]
    }
   ],
   "source": [
    "import numpy as np\n",
    "import pandas as pd"
   ]
  },
  {
   "cell_type": "code",
   "execution_count": 2,
   "metadata": {},
   "outputs": [
    {
     "output_type": "execute_result",
     "data": {
      "text/plain": [
       "           No.                        Time             Source    Destination  \\\n",
       "0            1  2018-10-25 01:46:22.933899      192.168.2.108    52.24.43.67   \n",
       "1            2  2018-10-25 01:46:22.933904      192.168.2.108   52.25.66.250   \n",
       "2            3  2018-10-25 01:46:22.934426        192.168.2.1  192.168.2.108   \n",
       "3            4  2018-10-25 01:46:22.934636        192.168.2.1  192.168.2.108   \n",
       "4            5  2018-10-25 01:46:23.291054  48:02:2e:01:83:15      Broadcast   \n",
       "...        ...                         ...                ...            ...   \n",
       "764132  764133  2018-10-25 03:45:19.837515  Shenzhen_98:ee:fd      Broadcast   \n",
       "764133  764134  2018-10-25 03:45:19.839396  Shenzhen_98:ee:fd      Broadcast   \n",
       "764134  764135  2018-10-25 03:45:19.840611  Shenzhen_98:ee:fd      Broadcast   \n",
       "764135  764136  2018-10-25 03:45:19.842369  Shenzhen_98:ee:fd      Broadcast   \n",
       "764136  764137  2018-10-25 03:45:19.842464      192.168.2.115    192.168.2.1   \n",
       "\n",
       "       Protocol  Length                                               Info  \\\n",
       "0           TCP      60   21074  >  80 [SYN] Seq=0 Win=5840 Len=0 MSS=1460   \n",
       "1           TCP      60  20532  >  8280 [SYN] Seq=0 Win=5840 Len=0 MSS=...   \n",
       "2          ICMP      86      Destination unreachable (Network unreachable)   \n",
       "3          ICMP      86      Destination unreachable (Network unreachable)   \n",
       "4           ARP      60          Who has 192.168.2.106? Tell 192.168.2.109   \n",
       "...         ...     ...                                                ...   \n",
       "764132      ARP      60          Who has 192.168.2.165? Tell 192.168.2.110   \n",
       "764133      ARP      60          Who has 192.168.2.166? Tell 192.168.2.110   \n",
       "764134      ARP      60          Who has 192.168.2.167? Tell 192.168.2.110   \n",
       "764135      ARP      60          Who has 192.168.2.168? Tell 192.168.2.110   \n",
       "764136      DNS     119  Standard query 0x1e08 AAAA north-america.pool....   \n",
       "\n",
       "        Source Port  Dest Port  \n",
       "0           21074.0       80.0  \n",
       "1           20532.0     8280.0  \n",
       "2           21074.0       80.0  \n",
       "3           20532.0     8280.0  \n",
       "4               NaN        NaN  \n",
       "...             ...        ...  \n",
       "764132          NaN        NaN  \n",
       "764133          NaN        NaN  \n",
       "764134          NaN        NaN  \n",
       "764135          NaN        NaN  \n",
       "764136       3570.0       53.0  \n",
       "\n",
       "[764137 rows x 9 columns]"
      ],
      "text/html": "<div>\n<style scoped>\n    .dataframe tbody tr th:only-of-type {\n        vertical-align: middle;\n    }\n\n    .dataframe tbody tr th {\n        vertical-align: top;\n    }\n\n    .dataframe thead th {\n        text-align: right;\n    }\n</style>\n<table border=\"1\" class=\"dataframe\">\n  <thead>\n    <tr style=\"text-align: right;\">\n      <th></th>\n      <th>No.</th>\n      <th>Time</th>\n      <th>Source</th>\n      <th>Destination</th>\n      <th>Protocol</th>\n      <th>Length</th>\n      <th>Info</th>\n      <th>Source Port</th>\n      <th>Dest Port</th>\n    </tr>\n  </thead>\n  <tbody>\n    <tr>\n      <th>0</th>\n      <td>1</td>\n      <td>2018-10-25 01:46:22.933899</td>\n      <td>192.168.2.108</td>\n      <td>52.24.43.67</td>\n      <td>TCP</td>\n      <td>60</td>\n      <td>21074  &gt;  80 [SYN] Seq=0 Win=5840 Len=0 MSS=1460</td>\n      <td>21074.0</td>\n      <td>80.0</td>\n    </tr>\n    <tr>\n      <th>1</th>\n      <td>2</td>\n      <td>2018-10-25 01:46:22.933904</td>\n      <td>192.168.2.108</td>\n      <td>52.25.66.250</td>\n      <td>TCP</td>\n      <td>60</td>\n      <td>20532  &gt;  8280 [SYN] Seq=0 Win=5840 Len=0 MSS=...</td>\n      <td>20532.0</td>\n      <td>8280.0</td>\n    </tr>\n    <tr>\n      <th>2</th>\n      <td>3</td>\n      <td>2018-10-25 01:46:22.934426</td>\n      <td>192.168.2.1</td>\n      <td>192.168.2.108</td>\n      <td>ICMP</td>\n      <td>86</td>\n      <td>Destination unreachable (Network unreachable)</td>\n      <td>21074.0</td>\n      <td>80.0</td>\n    </tr>\n    <tr>\n      <th>3</th>\n      <td>4</td>\n      <td>2018-10-25 01:46:22.934636</td>\n      <td>192.168.2.1</td>\n      <td>192.168.2.108</td>\n      <td>ICMP</td>\n      <td>86</td>\n      <td>Destination unreachable (Network unreachable)</td>\n      <td>20532.0</td>\n      <td>8280.0</td>\n    </tr>\n    <tr>\n      <th>4</th>\n      <td>5</td>\n      <td>2018-10-25 01:46:23.291054</td>\n      <td>48:02:2e:01:83:15</td>\n      <td>Broadcast</td>\n      <td>ARP</td>\n      <td>60</td>\n      <td>Who has 192.168.2.106? Tell 192.168.2.109</td>\n      <td>NaN</td>\n      <td>NaN</td>\n    </tr>\n    <tr>\n      <th>...</th>\n      <td>...</td>\n      <td>...</td>\n      <td>...</td>\n      <td>...</td>\n      <td>...</td>\n      <td>...</td>\n      <td>...</td>\n      <td>...</td>\n      <td>...</td>\n    </tr>\n    <tr>\n      <th>764132</th>\n      <td>764133</td>\n      <td>2018-10-25 03:45:19.837515</td>\n      <td>Shenzhen_98:ee:fd</td>\n      <td>Broadcast</td>\n      <td>ARP</td>\n      <td>60</td>\n      <td>Who has 192.168.2.165? Tell 192.168.2.110</td>\n      <td>NaN</td>\n      <td>NaN</td>\n    </tr>\n    <tr>\n      <th>764133</th>\n      <td>764134</td>\n      <td>2018-10-25 03:45:19.839396</td>\n      <td>Shenzhen_98:ee:fd</td>\n      <td>Broadcast</td>\n      <td>ARP</td>\n      <td>60</td>\n      <td>Who has 192.168.2.166? Tell 192.168.2.110</td>\n      <td>NaN</td>\n      <td>NaN</td>\n    </tr>\n    <tr>\n      <th>764134</th>\n      <td>764135</td>\n      <td>2018-10-25 03:45:19.840611</td>\n      <td>Shenzhen_98:ee:fd</td>\n      <td>Broadcast</td>\n      <td>ARP</td>\n      <td>60</td>\n      <td>Who has 192.168.2.167? Tell 192.168.2.110</td>\n      <td>NaN</td>\n      <td>NaN</td>\n    </tr>\n    <tr>\n      <th>764135</th>\n      <td>764136</td>\n      <td>2018-10-25 03:45:19.842369</td>\n      <td>Shenzhen_98:ee:fd</td>\n      <td>Broadcast</td>\n      <td>ARP</td>\n      <td>60</td>\n      <td>Who has 192.168.2.168? Tell 192.168.2.110</td>\n      <td>NaN</td>\n      <td>NaN</td>\n    </tr>\n    <tr>\n      <th>764136</th>\n      <td>764137</td>\n      <td>2018-10-25 03:45:19.842464</td>\n      <td>192.168.2.115</td>\n      <td>192.168.2.1</td>\n      <td>DNS</td>\n      <td>119</td>\n      <td>Standard query 0x1e08 AAAA north-america.pool....</td>\n      <td>3570.0</td>\n      <td>53.0</td>\n    </tr>\n  </tbody>\n</table>\n<p>764137 rows × 9 columns</p>\n</div>"
     },
     "metadata": {},
     "execution_count": 2
    }
   ],
   "source": [
    "mirai_data = pd.read_csv(\"../data/Mirai_csv.csv\")\n",
    "mirai_data"
   ]
  },
  {
   "cell_type": "code",
   "execution_count": null,
   "metadata": {},
   "outputs": [],
   "source": [
    "mirai_series = mirai_data[\"Source\"]\n",
    "type(mirai_series)"
   ]
  },
  {
   "cell_type": "code",
   "execution_count": null,
   "metadata": {},
   "outputs": [],
   "source": [
    "mirai_series"
   ]
  },
  {
   "cell_type": "code",
   "execution_count": null,
   "metadata": {},
   "outputs": [],
   "source": [
    "mirai_series_subset = mirai_data[\"Source\"].head()\n",
    "mirai_series_subset"
   ]
  },
  {
   "cell_type": "code",
   "execution_count": null,
   "metadata": {},
   "outputs": [],
   "source": [
    "mirai_series.index"
   ]
  },
  {
   "cell_type": "code",
   "execution_count": null,
   "metadata": {},
   "outputs": [],
   "source": [
    "mirai_series.hasnans"
   ]
  },
  {
   "cell_type": "code",
   "execution_count": null,
   "metadata": {},
   "outputs": [],
   "source": [
    "type(mirai_data)"
   ]
  },
  {
   "cell_type": "code",
   "execution_count": null,
   "metadata": {},
   "outputs": [],
   "source": [
    "mirai_data.values"
   ]
  },
  {
   "cell_type": "code",
   "execution_count": null,
   "metadata": {},
   "outputs": [],
   "source": [
    "mirai_data.shape"
   ]
  },
  {
   "cell_type": "code",
   "execution_count": null,
   "metadata": {},
   "outputs": [],
   "source": [
    "mirai_data[0:3]"
   ]
  },
  {
   "cell_type": "code",
   "execution_count": null,
   "metadata": {},
   "outputs": [],
   "source": [
    "mirai_data.loc[:, [\"Time\", \"Source Port\"]]"
   ]
  },
  {
   "cell_type": "code",
   "execution_count": null,
   "metadata": {},
   "outputs": [],
   "source": [
    "mirai_data.iloc[3]"
   ]
  },
  {
   "cell_type": "code",
   "execution_count": null,
   "metadata": {},
   "outputs": [],
   "source": [
    "mirai_data.iloc[10:20, [2, 7, 3, 8]]"
   ]
  },
  {
   "cell_type": "code",
   "execution_count": null,
   "metadata": {},
   "outputs": [],
   "source": [
    "mirai_data.iloc[10:20, :]"
   ]
  },
  {
   "cell_type": "code",
   "execution_count": null,
   "metadata": {},
   "outputs": [],
   "source": [
    "mirai_data.iloc[:, 1:4]"
   ]
  },
  {
   "cell_type": "code",
   "execution_count": null,
   "metadata": {},
   "outputs": [],
   "source": [
    "mirai_data[mirai_data[\"Length\"] > 512]"
   ]
  },
  {
   "cell_type": "code",
   "execution_count": null,
   "metadata": {},
   "outputs": [],
   "source": [
    "mirai_series[0:3]"
   ]
  },
  {
   "cell_type": "code",
   "execution_count": null,
   "metadata": {},
   "outputs": [],
   "source": [
    "mirai_data.groupby(\"Source\").sum()[\"Length\"]"
   ]
  },
  {
   "cell_type": "code",
   "execution_count": null,
   "metadata": {},
   "outputs": [],
   "source": [
    "mirai_data.rolling(3, win_type ='triang').sum()[\"Length\"]"
   ]
  },
  {
   "cell_type": "code",
   "execution_count": null,
   "metadata": {},
   "outputs": [],
   "source": [
    "mirai_data.groupby([\"Source\", \"Dest Port\"]).sum()[\"Length\"][0:990]"
   ]
  },
  {
   "cell_type": "code",
   "execution_count": null,
   "metadata": {},
   "outputs": [],
   "source": [
    "mirai_data.describe()"
   ]
  },
  {
   "cell_type": "code",
   "execution_count": null,
   "metadata": {},
   "outputs": [],
   "source": [
    "mirai_data[\"Length\"].cumsum()"
   ]
  },
  {
   "cell_type": "code",
   "execution_count": null,
   "metadata": {},
   "outputs": [],
   "source": [
    "mirai_data.groupby([\"Source\", \"Destination\"]).cumsum()[\"Length\"]"
   ]
  },
  {
   "cell_type": "code",
   "execution_count": null,
   "metadata": {},
   "outputs": [],
   "source": [
    "mirai_data[\"Protocol\"].value_counts()"
   ]
  },
  {
   "cell_type": "code",
   "execution_count": null,
   "metadata": {},
   "outputs": [],
   "source": [
    "mirai_data[\"Dest Port\"].value_counts()"
   ]
  },
  {
   "cell_type": "code",
   "execution_count": null,
   "metadata": {},
   "outputs": [],
   "source": [
    "import datetime\n",
    "\n",
    "timestamps = pd.to_datetime(mirai_data[\"Time\"], format='%Y-%m-%d %H:%M:%S.%f')\n",
    "mirai_data[\"Time\"] = timestamps\n",
    "\n",
    "ref = pd.Timestamp('2018-10-25 01:50:36.406909')\n",
    "mirai_data[mirai_data[\"Time\"] > ref]"
   ]
  },
  {
   "cell_type": "code",
   "execution_count": null,
   "metadata": {},
   "outputs": [],
   "source": []
  },
  {
   "cell_type": "code",
   "execution_count": null,
   "metadata": {},
   "outputs": [],
   "source": [
    "import matplotlib.pyplot as plt\n",
    "\n",
    "sorted = mirai_data.groupby([\"Source\", \"Destination\"]).sum()[\"Length\"].sort_values(ascending=False)\n",
    "sorted[0:10].plot(kind='bar',alpha=0.75, rot=90, logy=True, color=['r', 'g', 'b', 'r', 'g', 'b', 'r', 'g', 'b', 'r'])"
   ]
  },
  {
   "cell_type": "code",
   "execution_count": null,
   "metadata": {},
   "outputs": [],
   "source": [
    "mirai_data[\"Protocol\"].value_counts().plot(kind='bar',alpha=0.75, rot=90, logy=True)"
   ]
  },
  {
   "cell_type": "code",
   "execution_count": null,
   "metadata": {},
   "outputs": [],
   "source": []
  }
 ]
}