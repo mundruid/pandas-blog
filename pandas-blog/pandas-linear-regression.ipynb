{
 "cells": [
  {
   "cell_type": "code",
   "execution_count": null,
   "metadata": {},
   "outputs": [],
   "source": [
    "import numpy as np\n",
    "import pandas as pd"
   ]
  },
  {
   "cell_type": "code",
   "execution_count": null,
   "metadata": {},
   "outputs": [],
   "source": [
    "dos_data = pd.read_csv(\"../data/Mirai_csv.csv\")\n",
    "dos_data"
   ]
  },
  {
   "cell_type": "code",
   "execution_count": null,
   "metadata": {},
   "outputs": [],
   "source": [
    "import datetime\n",
    "\n",
    "timestamps = pd.to_datetime(dos_data[\"Time\"], format='%Y-%m-%d %H:%M:%S.%f')\n",
    "dos_data[\"Time\"] = timestamps\n",
    "print(\"Timestamps\")\n",
    "print(timestamps)"
   ]
  },
  {
   "cell_type": "code",
   "execution_count": null,
   "metadata": {},
   "outputs": [],
   "source": [
    "interarrival_times = np.diff(timestamps)\n",
    "interarrival_times"
   ]
  },
  {
   "cell_type": "code",
   "execution_count": null,
   "metadata": {},
   "outputs": [],
   "source": [
    "interarrival_times = np.append(interarrival_times, [0])\n",
    "dos_data[\"Interarrivals\"] = interarrival_times"
   ]
  },
  {
   "cell_type": "code",
   "execution_count": null,
   "metadata": {},
   "outputs": [],
   "source": [
    "dos_data.columns"
   ]
  },
  {
   "cell_type": "code",
   "execution_count": null,
   "metadata": {},
   "outputs": [],
   "source": [
    "dos_data.dropna()"
   ]
  },
  {
   "cell_type": "code",
   "execution_count": null,
   "metadata": {},
   "outputs": [],
   "source": [
    "dos_data.plot.scatter(x='Length', y='Interarrivals')"
   ]
  },
  {
   "cell_type": "markdown",
   "metadata": {},
   "source": [
    "# Linear Regression\n",
    "- Forecasting model\n",
    "- Matches your data to a linear function: `f(x) = a * x + b`\n",
    "- Using the function you can predict future values.\n",
    "- How does it do that?\n",
    "    - Brute force all values of a, b\n",
    "    - Find pair that minimizes the distance of the majority of data points to the linear function\n",
    "    "
   ]
  },
  {
   "cell_type": "code",
   "execution_count": null,
   "metadata": {},
   "outputs": [],
   "source": [
    "from sklearn import datasets, linear_model\n",
    "import matplotlib.pyplot as plt\n",
    "\n",
    "x = pd.DataFrame(dos_data['Length'])\n",
    "y = pd.DataFrame(dos_data['Interarrivals'])\n",
    "regr = linear_model.LinearRegression()\n",
    "regr.fit(x, y)\n"
   ]
  },
  {
   "cell_type": "code",
   "execution_count": null,
   "metadata": {},
   "outputs": [],
   "source": [
    "plt.scatter(x, y,  color='black')\n",
    "plt.plot(x, regr.predict(x), color='blue', linewidth=3)\n",
    "plt.xticks(())\n",
    "plt.yticks(())\n",
    "plt.show()"
   ]
  }
 ],
 "metadata": {
  "interpreter": {
   "hash": "e2d203c7683bfe83d35f3d4673ae28a0bda89547fa625cc8bec5bb2236cdcf1c"
  },
  "kernelspec": {
   "display_name": "Python 3.8.2 64-bit ('pandas-blog-vhxeqrbo-py3.8': poetry)",
   "name": "python3"
  },
  "language_info": {
   "codemirror_mode": {
    "name": "ipython",
    "version": 3
   },
   "file_extension": ".py",
   "mimetype": "text/x-python",
   "name": "python",
   "nbconvert_exporter": "python",
   "pygments_lexer": "ipython3",
   "version": "3.8.2"
  },
  "orig_nbformat": 4
 },
 "nbformat": 4,
 "nbformat_minor": 2
}
