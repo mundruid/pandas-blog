{
 "metadata": {
  "language_info": {
   "codemirror_mode": {
    "name": "ipython",
    "version": 3
   },
   "file_extension": ".py",
   "mimetype": "text/x-python",
   "name": "python",
   "nbconvert_exporter": "python",
   "pygments_lexer": "ipython3",
   "version": "3.8.2"
  },
  "orig_nbformat": 4,
  "kernelspec": {
   "name": "python3",
   "display_name": "Python 3.8.2 64-bit ('pandas-blog-vhxeqrbo-py3.8': poetry)"
  },
  "interpreter": {
   "hash": "e2d203c7683bfe83d35f3d4673ae28a0bda89547fa625cc8bec5bb2236cdcf1c"
  }
 },
 "nbformat": 4,
 "nbformat_minor": 2,
 "cells": [
  {
   "cell_type": "code",
   "execution_count": null,
   "metadata": {},
   "outputs": [],
   "source": [
    "import numpy as np\n",
    "import pandas as pd"
   ]
  },
  {
   "cell_type": "code",
   "execution_count": null,
   "metadata": {},
   "outputs": [],
   "source": [
    "os_scan_data = pd.read_csv(\"../data/OS_Scan_csv.csv\")\n",
    "os_scan_data"
   ]
  },
  {
   "cell_type": "code",
   "execution_count": null,
   "metadata": {},
   "outputs": [],
   "source": [
    "import datetime\n",
    "\n",
    "timestamps = pd.to_datetime(os_scan_data[\"Time\"], format='%Y-%m-%d %H:%M:%S.%f')\n",
    "os_scan_data[\"Time\"] = timestamps\n",
    "print(\"Timestamps\")\n",
    "print(timestamps)"
   ]
  },
  {
   "cell_type": "code",
   "execution_count": null,
   "metadata": {},
   "outputs": [],
   "source": [
    "interarrival_times = np.diff(timestamps)\n",
    "interarrival_times"
   ]
  },
  {
   "cell_type": "code",
   "execution_count": null,
   "metadata": {},
   "outputs": [],
   "source": [
    "interarrival_times = np.append(interarrival_times, [0])\n",
    "os_scan_data[\"Interarrivals\"] = interarrival_times.astype(int)"
   ]
  },
  {
   "cell_type": "code",
   "execution_count": null,
   "metadata": {},
   "outputs": [],
   "source": [
    "os_scan_data.columns"
   ]
  },
  {
   "source": [
    "# EDA\n",
    "## Goals\n",
    "- tailor a good fitting\n",
    "- find outliers\n",
    "- create a list of ranked important factors\n",
    "- discover optimal settings\n",
    "\n",
    "## How?\n",
    "- Graphics\n",
    "    - Scatter plots\n",
    "    - Histograms\n",
    "    - Box plots, probability plots, …\n",
    "- Summary statistics"
   ],
   "cell_type": "markdown",
   "metadata": {}
  },
  {
   "cell_type": "code",
   "execution_count": null,
   "metadata": {},
   "outputs": [],
   "source": [
    "os_scan_data.hist()"
   ]
  },
  {
   "cell_type": "code",
   "execution_count": null,
   "metadata": {},
   "outputs": [],
   "source": [
    "os_scan_data.hist(column='Interarrivals', bins=10)"
   ]
  },
  {
   "cell_type": "code",
   "execution_count": null,
   "metadata": {},
   "outputs": [],
   "source": [
    "os_scan_data.hist(column='Length', bins=10)"
   ]
  },
  {
   "cell_type": "code",
   "execution_count": null,
   "metadata": {},
   "outputs": [],
   "source": [
    "os_scan_data.hist(column='Dest Port', bins=10)"
   ]
  },
  {
   "cell_type": "code",
   "execution_count": null,
   "metadata": {},
   "outputs": [],
   "source": [
    "os_scan_data.plot.scatter(x='Interarrivals', y='Dest Port')"
   ]
  },
  {
   "cell_type": "code",
   "execution_count": null,
   "metadata": {},
   "outputs": [],
   "source": [
    "short_interarrivals = os_scan_data[(os_scan_data['Interarrivals'] < 10000) & (os_scan_data['Interarrivals'] > 0)]\n",
    "short_interarrivals.plot.scatter(x='Interarrivals', y='Dest Port')"
   ]
  },
  {
   "cell_type": "code",
   "execution_count": null,
   "metadata": {},
   "outputs": [],
   "source": [
    "short_interarrivals.hist(column='Dest Port')"
   ]
  },
  {
   "cell_type": "code",
   "execution_count": null,
   "metadata": {},
   "outputs": [],
   "source": [
    "import matplotlib.pyplot as plt\n",
    "import seaborn as sns\n",
    "\n",
    "sns.jointplot(x='Interarrivals', y='Dest Port', kind='hex', data=short_interarrivals)\n",
    "plt.show()"
   ]
  },
  {
   "cell_type": "code",
   "execution_count": null,
   "metadata": {},
   "outputs": [],
   "source": [
    "sns.jointplot(x='Interarrivals', y='Dest Port', kind='scatter', data=short_interarrivals)\n"
   ]
  },
  {
   "cell_type": "code",
   "execution_count": null,
   "metadata": {},
   "outputs": [],
   "source": [
    "sns.jointplot(x='Interarrivals', y='Dest Port', kind='kde', data=short_interarrivals)\n"
   ]
  },
  {
   "cell_type": "code",
   "execution_count": null,
   "metadata": {},
   "outputs": [],
   "source": [
    "sns.jointplot(x='Interarrivals', y='Dest Port', kind='reg', data=short_interarrivals)"
   ]
  },
  {
   "cell_type": "code",
   "execution_count": null,
   "metadata": {},
   "outputs": [],
   "source": [
    "short_interarrivals.describe()"
   ]
  }
 ]
}